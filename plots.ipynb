{
  "cells": [
    {
      "cell_type": "markdown",
      "metadata": {
        "id": "view-in-github",
        "colab_type": "text"
      },
      "source": [
        "<a href=\"https://colab.research.google.com/github/dhayapulepraneeth/py/blob/master/plots.ipynb\" target=\"_parent\"><img src=\"https://colab.research.google.com/assets/colab-badge.svg\" alt=\"Open In Colab\"/></a>"
      ]
    },
    {
      "cell_type": "code",
      "execution_count": null,
      "metadata": {
        "colab": {
          "base_uri": "https://localhost:8080/"
        },
        "id": "wRw1WiTQ44gi",
        "outputId": "59072bfc-27dd-411e-e593-e54de1586dbc"
      },
      "outputs": [
        {
          "name": "stderr",
          "output_type": "stream",
          "text": [
            "/usr/local/lib/python3.9/dist-packages/geopandas/_compat.py:123: UserWarning: The Shapely GEOS version (3.11.1-CAPI-1.17.1) is incompatible with the GEOS version PyGEOS was compiled with (3.10.4-CAPI-1.16.2). Conversions between both will be slow.\n",
            "  warnings.warn(\n",
            "<ipython-input-1-53496571119a>:4: UserWarning: Shapely 2.0 is installed, but because PyGEOS is also installed, GeoPandas will still use PyGEOS by default for now. To force to use and test Shapely 2.0, you have to set the environment variable USE_PYGEOS=0. You can do this before starting the Python process, or in your code before importing geopandas:\n",
            "\n",
            "import os\n",
            "os.environ['USE_PYGEOS'] = '0'\n",
            "import geopandas\n",
            "\n",
            "In a future release, GeoPandas will switch to using Shapely by default. If you are using PyGEOS directly (calling PyGEOS functions on geometries from GeoPandas), this will then stop working and you are encouraged to migrate from PyGEOS to Shapely 2.0 (https://shapely.readthedocs.io/en/latest/migration_pygeos.html).\n",
            "  import geopandas as gpd\n"
          ]
        }
      ],
      "source": [
        "import pandas as pd\n",
        "import matplotlib.pyplot as plt\n",
        "import pandas as pd\n",
        "import geopandas as gpd\n",
        "import matplotlib.pyplot as plt\n",
        "import numpy as np\n",
        "import matplotlib.pyplot as plt\n",
        "%matplotlib inline\n",
        "import plotly.express as px\n",
        "import seaborn as sns\n",
        "import numpy as np\n",
        "import plotly.graph_objects as go\n",
        "import plotly.figure_factory as ff \n",
        "import plotly\n",
        "from libpysal.weights import DistanceBand\n",
        "from spreg import ML_Lag#, SAR, OLS\n",
        "import statsmodels.api as sm\n",
        "import numpy as np\n",
        "import pandas as pd\n",
        "import geopandas as gpd\n",
        "from shapely.geometry import Point\n",
        "from libpysal.weights import DistanceBand\n",
        "from spreg import GM_Error_Het\n",
        "import statsmodels.api as sm\n",
        "import matplotlib.pyplot as plt"
      ]
    },
    {
      "cell_type": "code",
      "execution_count": null,
      "metadata": {
        "colab": {
          "base_uri": "https://localhost:8080/"
        },
        "id": "FwiaPSidudwZ",
        "outputId": "fa3f60db-a204-42d8-a90c-0bc48da0b89e"
      },
      "outputs": [
        {
          "name": "stdout",
          "output_type": "stream",
          "text": [
            "Looking in indexes: https://pypi.org/simple, https://us-python.pkg.dev/colab-wheels/public/simple/\n",
            "Requirement already satisfied: geopandas in /usr/local/lib/python3.9/dist-packages (0.12.2)\n",
            "Requirement already satisfied: fiona>=1.8 in /usr/local/lib/python3.9/dist-packages (from geopandas) (1.8.22)\n",
            "Requirement already satisfied: pyproj>=2.6.1.post1 in /usr/local/lib/python3.9/dist-packages (from geopandas) (3.5.0)\n",
            "Requirement already satisfied: packaging in /usr/local/lib/python3.9/dist-packages (from geopandas) (23.1)\n",
            "Requirement already satisfied: pandas>=1.0.0 in /usr/local/lib/python3.9/dist-packages (from geopandas) (1.5.3)\n",
            "Requirement already satisfied: shapely>=1.7 in /usr/local/lib/python3.9/dist-packages (from geopandas) (2.0.1)\n",
            "Requirement already satisfied: certifi in /usr/local/lib/python3.9/dist-packages (from fiona>=1.8->geopandas) (2022.12.7)\n",
            "Requirement already satisfied: click-plugins>=1.0 in /usr/local/lib/python3.9/dist-packages (from fiona>=1.8->geopandas) (1.1.1)\n",
            "Requirement already satisfied: setuptools in /usr/local/lib/python3.9/dist-packages (from fiona>=1.8->geopandas) (67.7.2)\n",
            "Requirement already satisfied: six>=1.7 in /usr/local/lib/python3.9/dist-packages (from fiona>=1.8->geopandas) (1.16.0)\n",
            "Requirement already satisfied: cligj>=0.5 in /usr/local/lib/python3.9/dist-packages (from fiona>=1.8->geopandas) (0.7.2)\n",
            "Requirement already satisfied: munch in /usr/local/lib/python3.9/dist-packages (from fiona>=1.8->geopandas) (2.5.0)\n",
            "Requirement already satisfied: attrs>=17 in /usr/local/lib/python3.9/dist-packages (from fiona>=1.8->geopandas) (23.1.0)\n",
            "Requirement already satisfied: click>=4.0 in /usr/local/lib/python3.9/dist-packages (from fiona>=1.8->geopandas) (8.1.3)\n",
            "Requirement already satisfied: python-dateutil>=2.8.1 in /usr/local/lib/python3.9/dist-packages (from pandas>=1.0.0->geopandas) (2.8.2)\n",
            "Requirement already satisfied: numpy>=1.20.3 in /usr/local/lib/python3.9/dist-packages (from pandas>=1.0.0->geopandas) (1.22.4)\n",
            "Requirement already satisfied: pytz>=2020.1 in /usr/local/lib/python3.9/dist-packages (from pandas>=1.0.0->geopandas) (2022.7.1)\n",
            "Looking in indexes: https://pypi.org/simple, https://us-python.pkg.dev/colab-wheels/public/simple/\n",
            "Requirement already satisfied: pysal in /usr/local/lib/python3.9/dist-packages (23.1)\n",
            "Requirement already satisfied: giddy>=2.3.3 in /usr/local/lib/python3.9/dist-packages (from pysal) (2.3.4)\n",
            "Requirement already satisfied: esda>=2.4.1 in /usr/local/lib/python3.9/dist-packages (from pysal) (2.4.3)\n",
            "Requirement already satisfied: segregation>=2.3.1 in /usr/local/lib/python3.9/dist-packages (from pysal) (2.3.1)\n",
            "Requirement already satisfied: access>=1.1.8 in /usr/local/lib/python3.9/dist-packages (from pysal) (1.1.9)\n",
            "Requirement already satisfied: mgwr>=2.1.2 in /usr/local/lib/python3.9/dist-packages (from pysal) (2.1.2)\n",
            "Requirement already satisfied: spint>=1.0.7 in /usr/local/lib/python3.9/dist-packages (from pysal) (1.0.7)\n",
            "Requirement already satisfied: tobler>=0.8.2 in /usr/local/lib/python3.9/dist-packages (from pysal) (0.9.0)\n",
            "Requirement already satisfied: mapclassify>=2.5.0 in /usr/local/lib/python3.9/dist-packages (from pysal) (2.5.0)\n",
            "Requirement already satisfied: splot>=1.1.5.post1 in /usr/local/lib/python3.9/dist-packages (from pysal) (1.1.5.post1)\n",
            "Requirement already satisfied: spopt>=0.5.0 in /usr/local/lib/python3.9/dist-packages (from pysal) (0.5.0)\n",
            "Requirement already satisfied: momepy>=0.5.4 in /usr/local/lib/python3.9/dist-packages (from pysal) (0.5.4)\n",
            "Requirement already satisfied: pointpats>=2.2.0 in /usr/local/lib/python3.9/dist-packages (from pysal) (2.3.0)\n",
            "Requirement already satisfied: spreg>=1.3.0 in /usr/local/lib/python3.9/dist-packages (from pysal) (1.3.2)\n",
            "Requirement already satisfied: spvcm>=0.3.0 in /usr/local/lib/python3.9/dist-packages (from pysal) (0.3.0)\n",
            "Requirement already satisfied: spglm>=1.0.8 in /usr/local/lib/python3.9/dist-packages (from pysal) (1.0.8)\n",
            "Requirement already satisfied: spaghetti>=1.7.2 in /usr/local/lib/python3.9/dist-packages (from pysal) (1.7.2)\n",
            "Requirement already satisfied: libpysal>=4.7.0 in /usr/local/lib/python3.9/dist-packages (from pysal) (4.7.0)\n",
            "Requirement already satisfied: inequality>=1.0.0 in /usr/local/lib/python3.9/dist-packages (from pysal) (1.0.0)\n",
            "Requirement already satisfied: pandas>=0.23.4 in /usr/local/lib/python3.9/dist-packages (from access>=1.1.8->pysal) (1.5.3)\n",
            "Requirement already satisfied: geopandas in /usr/local/lib/python3.9/dist-packages (from access>=1.1.8->pysal) (0.12.2)\n",
            "Requirement already satisfied: requests>=2 in /usr/local/lib/python3.9/dist-packages (from access>=1.1.8->pysal) (2.27.1)\n",
            "Requirement already satisfied: numpy>=1.3 in /usr/local/lib/python3.9/dist-packages (from access>=1.1.8->pysal) (1.22.4)\n",
            "Requirement already satisfied: scipy>=0.11 in /usr/local/lib/python3.9/dist-packages (from esda>=2.4.1->pysal) (1.10.1)\n",
            "Requirement already satisfied: scikit-learn in /usr/local/lib/python3.9/dist-packages (from esda>=2.4.1->pysal) (1.2.2)\n",
            "Requirement already satisfied: quantecon>=0.4.7 in /usr/local/lib/python3.9/dist-packages (from giddy>=2.3.3->pysal) (0.7.0)\n",
            "Requirement already satisfied: jinja2 in /usr/local/lib/python3.9/dist-packages (from libpysal>=4.7.0->pysal) (3.1.2)\n",
            "Requirement already satisfied: packaging in /usr/local/lib/python3.9/dist-packages (from libpysal>=4.7.0->pysal) (23.1)\n",
            "Requirement already satisfied: beautifulsoup4 in /usr/local/lib/python3.9/dist-packages (from libpysal>=4.7.0->pysal) (4.11.2)\n",
            "Requirement already satisfied: platformdirs in /usr/local/lib/python3.9/dist-packages (from libpysal>=4.7.0->pysal) (3.2.0)\n",
            "Requirement already satisfied: networkx in /usr/local/lib/python3.9/dist-packages (from mapclassify>=2.5.0->pysal) (3.1)\n",
            "Requirement already satisfied: pygeos in /usr/local/lib/python3.9/dist-packages (from momepy>=0.5.4->pysal) (0.14)\n",
            "Requirement already satisfied: tqdm>=4.27.0 in /usr/local/lib/python3.9/dist-packages (from momepy>=0.5.4->pysal) (4.65.0)\n",
            "Requirement already satisfied: matplotlib in /usr/local/lib/python3.9/dist-packages (from pointpats>=2.2.0->pysal) (3.7.1)\n",
            "Requirement already satisfied: seaborn in /usr/local/lib/python3.9/dist-packages (from segregation>=2.3.1->pysal) (0.12.2)\n",
            "Requirement already satisfied: rvlib>=0.0.5 in /usr/local/lib/python3.9/dist-packages (from segregation>=2.3.1->pysal) (0.0.6)\n",
            "Requirement already satisfied: pyproj>=3 in /usr/local/lib/python3.9/dist-packages (from segregation>=2.3.1->pysal) (3.5.0)\n",
            "Requirement already satisfied: quilt3 in /usr/local/lib/python3.9/dist-packages (from segregation>=2.3.1->pysal) (5.3.0)\n",
            "Requirement already satisfied: pip in /usr/local/lib/python3.9/dist-packages (from segregation>=2.3.1->pysal) (23.0.1)\n",
            "Requirement already satisfied: numba in /usr/local/lib/python3.9/dist-packages (from segregation>=2.3.1->pysal) (0.56.4)\n",
            "Requirement already satisfied: joblib in /usr/local/lib/python3.9/dist-packages (from segregation>=2.3.1->pysal) (1.2.0)\n",
            "Requirement already satisfied: deprecation in /usr/local/lib/python3.9/dist-packages (from segregation>=2.3.1->pysal) (2.1.0)\n",
            "Requirement already satisfied: rtree in /usr/local/lib/python3.9/dist-packages (from spaghetti>=1.7.2->pysal) (1.0.1)\n",
            "Requirement already satisfied: pulp in /usr/local/lib/python3.9/dist-packages (from spopt>=0.5.0->pysal) (2.7.0)\n",
            "Requirement already satisfied: rasterio in /usr/local/lib/python3.9/dist-packages (from tobler>=0.8.2->pysal) (1.3.6)\n",
            "Requirement already satisfied: rasterstats in /usr/local/lib/python3.9/dist-packages (from tobler>=0.8.2->pysal) (0.18.0)\n",
            "Requirement already satisfied: statsmodels in /usr/local/lib/python3.9/dist-packages (from tobler>=0.8.2->pysal) (0.13.5)\n",
            "Requirement already satisfied: fiona>=1.8 in /usr/local/lib/python3.9/dist-packages (from geopandas->access>=1.1.8->pysal) (1.8.22)\n",
            "Requirement already satisfied: shapely>=1.7 in /usr/local/lib/python3.9/dist-packages (from geopandas->access>=1.1.8->pysal) (2.0.1)\n",
            "Requirement already satisfied: pytz>=2020.1 in /usr/local/lib/python3.9/dist-packages (from pandas>=0.23.4->access>=1.1.8->pysal) (2022.7.1)\n",
            "Requirement already satisfied: python-dateutil>=2.8.1 in /usr/local/lib/python3.9/dist-packages (from pandas>=0.23.4->access>=1.1.8->pysal) (2.8.2)\n",
            "Requirement already satisfied: certifi in /usr/local/lib/python3.9/dist-packages (from pyproj>=3->segregation>=2.3.1->pysal) (2022.12.7)\n",
            "Requirement already satisfied: sympy in /usr/local/lib/python3.9/dist-packages (from quantecon>=0.4.7->giddy>=2.3.3->pysal) (1.11.1)\n",
            "Requirement already satisfied: llvmlite<0.40,>=0.39.0dev0 in /usr/local/lib/python3.9/dist-packages (from numba->segregation>=2.3.1->pysal) (0.39.1)\n",
            "Requirement already satisfied: setuptools in /usr/local/lib/python3.9/dist-packages (from numba->segregation>=2.3.1->pysal) (67.7.2)\n",
            "Requirement already satisfied: charset-normalizer~=2.0.0 in /usr/local/lib/python3.9/dist-packages (from requests>=2->access>=1.1.8->pysal) (2.0.12)\n",
            "Requirement already satisfied: idna<4,>=2.5 in /usr/local/lib/python3.9/dist-packages (from requests>=2->access>=1.1.8->pysal) (3.4)\n",
            "Requirement already satisfied: urllib3<1.27,>=1.21.1 in /usr/local/lib/python3.9/dist-packages (from requests>=2->access>=1.1.8->pysal) (1.26.15)\n",
            "Requirement already satisfied: PyYAML in /usr/local/lib/python3.9/dist-packages (from rvlib>=0.0.5->segregation>=2.3.1->pysal) (6.0)\n",
            "Requirement already satisfied: cffi>=1.0.0 in /usr/local/lib/python3.9/dist-packages (from rvlib>=0.0.5->segregation>=2.3.1->pysal) (1.15.1)\n",
            "Requirement already satisfied: threadpoolctl>=2.0.0 in /usr/local/lib/python3.9/dist-packages (from scikit-learn->esda>=2.4.1->pysal) (3.1.0)\n",
            "Requirement already satisfied: soupsieve>1.2 in /usr/local/lib/python3.9/dist-packages (from beautifulsoup4->libpysal>=4.7.0->pysal) (2.4.1)\n",
            "Requirement already satisfied: MarkupSafe>=2.0 in /usr/local/lib/python3.9/dist-packages (from jinja2->libpysal>=4.7.0->pysal) (2.1.2)\n",
            "Requirement already satisfied: cycler>=0.10 in /usr/local/lib/python3.9/dist-packages (from matplotlib->pointpats>=2.2.0->pysal) (0.11.0)\n",
            "Requirement already satisfied: pyparsing>=2.3.1 in /usr/local/lib/python3.9/dist-packages (from matplotlib->pointpats>=2.2.0->pysal) (3.0.9)\n",
            "Requirement already satisfied: kiwisolver>=1.0.1 in /usr/local/lib/python3.9/dist-packages (from matplotlib->pointpats>=2.2.0->pysal) (1.4.4)\n",
            "Requirement already satisfied: importlib-resources>=3.2.0 in /usr/local/lib/python3.9/dist-packages (from matplotlib->pointpats>=2.2.0->pysal) (5.12.0)\n",
            "Requirement already satisfied: contourpy>=1.0.1 in /usr/local/lib/python3.9/dist-packages (from matplotlib->pointpats>=2.2.0->pysal) (1.0.7)\n",
            "Requirement already satisfied: pillow>=6.2.0 in /usr/local/lib/python3.9/dist-packages (from matplotlib->pointpats>=2.2.0->pysal) (8.4.0)\n",
            "Requirement already satisfied: fonttools>=4.22.0 in /usr/local/lib/python3.9/dist-packages (from matplotlib->pointpats>=2.2.0->pysal) (4.39.3)\n",
            "Requirement already satisfied: tenacity>=5.1.1 in /usr/local/lib/python3.9/dist-packages (from quilt3->segregation>=2.3.1->pysal) (8.2.2)\n",
            "Requirement already satisfied: aws-requests-auth>=0.4.2 in /usr/local/lib/python3.9/dist-packages (from quilt3->segregation>=2.3.1->pysal) (0.4.3)\n",
            "Requirement already satisfied: jsonschema<5,>=3 in /usr/local/lib/python3.9/dist-packages (from quilt3->segregation>=2.3.1->pysal) (4.3.3)\n",
            "Requirement already satisfied: boto3>=1.10.0 in /usr/local/lib/python3.9/dist-packages (from quilt3->segregation>=2.3.1->pysal) (1.26.121)\n",
            "Requirement already satisfied: requests-futures==1.0.0 in /usr/local/lib/python3.9/dist-packages (from quilt3->segregation>=2.3.1->pysal) (1.0.0)\n",
            "Requirement already satisfied: jsonlines==1.2.0 in /usr/local/lib/python3.9/dist-packages (from quilt3->segregation>=2.3.1->pysal) (1.2.0)\n",
            "Requirement already satisfied: six in /usr/local/lib/python3.9/dist-packages (from jsonlines==1.2.0->quilt3->segregation>=2.3.1->pysal) (1.16.0)\n",
            "Requirement already satisfied: affine in /usr/local/lib/python3.9/dist-packages (from rasterio->tobler>=0.8.2->pysal) (2.4.0)\n",
            "Requirement already satisfied: click>=4.0 in /usr/local/lib/python3.9/dist-packages (from rasterio->tobler>=0.8.2->pysal) (8.1.3)\n",
            "Requirement already satisfied: attrs in /usr/local/lib/python3.9/dist-packages (from rasterio->tobler>=0.8.2->pysal) (23.1.0)\n",
            "Requirement already satisfied: snuggs>=1.4.1 in /usr/local/lib/python3.9/dist-packages (from rasterio->tobler>=0.8.2->pysal) (1.4.7)\n",
            "Requirement already satisfied: cligj>=0.5 in /usr/local/lib/python3.9/dist-packages (from rasterio->tobler>=0.8.2->pysal) (0.7.2)\n",
            "Requirement already satisfied: click-plugins in /usr/local/lib/python3.9/dist-packages (from rasterio->tobler>=0.8.2->pysal) (1.1.1)\n",
            "Requirement already satisfied: simplejson in /usr/local/lib/python3.9/dist-packages (from rasterstats->tobler>=0.8.2->pysal) (3.19.1)\n",
            "Requirement already satisfied: patsy>=0.5.2 in /usr/local/lib/python3.9/dist-packages (from statsmodels->tobler>=0.8.2->pysal) (0.5.3)\n",
            "Requirement already satisfied: s3transfer<0.7.0,>=0.6.0 in /usr/local/lib/python3.9/dist-packages (from boto3>=1.10.0->quilt3->segregation>=2.3.1->pysal) (0.6.0)\n",
            "Requirement already satisfied: botocore<1.30.0,>=1.29.121 in /usr/local/lib/python3.9/dist-packages (from boto3>=1.10.0->quilt3->segregation>=2.3.1->pysal) (1.29.121)\n",
            "Requirement already satisfied: jmespath<2.0.0,>=0.7.1 in /usr/local/lib/python3.9/dist-packages (from boto3>=1.10.0->quilt3->segregation>=2.3.1->pysal) (1.0.1)\n",
            "Requirement already satisfied: pycparser in /usr/local/lib/python3.9/dist-packages (from cffi>=1.0.0->rvlib>=0.0.5->segregation>=2.3.1->pysal) (2.21)\n",
            "Requirement already satisfied: munch in /usr/local/lib/python3.9/dist-packages (from fiona>=1.8->geopandas->access>=1.1.8->pysal) (2.5.0)\n",
            "Requirement already satisfied: zipp>=3.1.0 in /usr/local/lib/python3.9/dist-packages (from importlib-resources>=3.2.0->matplotlib->pointpats>=2.2.0->pysal) (3.15.0)\n",
            "Requirement already satisfied: pyrsistent!=0.17.0,!=0.17.1,!=0.17.2,>=0.14.0 in /usr/local/lib/python3.9/dist-packages (from jsonschema<5,>=3->quilt3->segregation>=2.3.1->pysal) (0.19.3)\n",
            "Requirement already satisfied: mpmath>=0.19 in /usr/local/lib/python3.9/dist-packages (from sympy->quantecon>=0.4.7->giddy>=2.3.3->pysal) (1.3.0)\n",
            "Looking in indexes: https://pypi.org/simple, https://us-python.pkg.dev/colab-wheels/public/simple/\n",
            "Requirement already satisfied: spreg in /usr/local/lib/python3.9/dist-packages (1.3.2)\n",
            "Requirement already satisfied: scikit-learn>=0.22 in /usr/local/lib/python3.9/dist-packages (from spreg) (1.2.2)\n",
            "Requirement already satisfied: libpysal>=4.0.0 in /usr/local/lib/python3.9/dist-packages (from spreg) (4.7.0)\n",
            "Requirement already satisfied: numpy>=1.3 in /usr/local/lib/python3.9/dist-packages (from spreg) (1.22.4)\n",
            "Requirement already satisfied: scipy>=0.11 in /usr/local/lib/python3.9/dist-packages (from spreg) (1.10.1)\n",
            "Requirement already satisfied: pandas in /usr/local/lib/python3.9/dist-packages (from spreg) (1.5.3)\n",
            "Requirement already satisfied: jinja2 in /usr/local/lib/python3.9/dist-packages (from libpysal>=4.0.0->spreg) (3.1.2)\n",
            "Requirement already satisfied: beautifulsoup4 in /usr/local/lib/python3.9/dist-packages (from libpysal>=4.0.0->spreg) (4.11.2)\n",
            "Requirement already satisfied: requests in /usr/local/lib/python3.9/dist-packages (from libpysal>=4.0.0->spreg) (2.27.1)\n",
            "Requirement already satisfied: platformdirs in /usr/local/lib/python3.9/dist-packages (from libpysal>=4.0.0->spreg) (3.2.0)\n",
            "Requirement already satisfied: packaging in /usr/local/lib/python3.9/dist-packages (from libpysal>=4.0.0->spreg) (23.1)\n",
            "Requirement already satisfied: threadpoolctl>=2.0.0 in /usr/local/lib/python3.9/dist-packages (from scikit-learn>=0.22->spreg) (3.1.0)\n",
            "Requirement already satisfied: joblib>=1.1.1 in /usr/local/lib/python3.9/dist-packages (from scikit-learn>=0.22->spreg) (1.2.0)\n",
            "Requirement already satisfied: pytz>=2020.1 in /usr/local/lib/python3.9/dist-packages (from pandas->spreg) (2022.7.1)\n",
            "Requirement already satisfied: python-dateutil>=2.8.1 in /usr/local/lib/python3.9/dist-packages (from pandas->spreg) (2.8.2)\n",
            "Requirement already satisfied: six>=1.5 in /usr/local/lib/python3.9/dist-packages (from python-dateutil>=2.8.1->pandas->spreg) (1.16.0)\n",
            "Requirement already satisfied: soupsieve>1.2 in /usr/local/lib/python3.9/dist-packages (from beautifulsoup4->libpysal>=4.0.0->spreg) (2.4.1)\n",
            "Requirement already satisfied: MarkupSafe>=2.0 in /usr/local/lib/python3.9/dist-packages (from jinja2->libpysal>=4.0.0->spreg) (2.1.2)\n",
            "Requirement already satisfied: certifi>=2017.4.17 in /usr/local/lib/python3.9/dist-packages (from requests->libpysal>=4.0.0->spreg) (2022.12.7)\n",
            "Requirement already satisfied: idna<4,>=2.5 in /usr/local/lib/python3.9/dist-packages (from requests->libpysal>=4.0.0->spreg) (3.4)\n",
            "Requirement already satisfied: urllib3<1.27,>=1.21.1 in /usr/local/lib/python3.9/dist-packages (from requests->libpysal>=4.0.0->spreg) (1.26.15)\n",
            "Requirement already satisfied: charset-normalizer~=2.0.0 in /usr/local/lib/python3.9/dist-packages (from requests->libpysal>=4.0.0->spreg) (2.0.12)\n"
          ]
        }
      ],
      "source": [
        "!pip install geopandas\n",
        "!pip install pysal\n",
        "!pip install spreg"
      ]
    },
    {
      "cell_type": "code",
      "execution_count": null,
      "metadata": {
        "id": "QY0zQJx9ud5h"
      },
      "outputs": [],
      "source": []
    },
    {
      "cell_type": "code",
      "execution_count": null,
      "metadata": {
        "colab": {
          "base_uri": "https://localhost:8080/"
        },
        "id": "-L3ezRku6Uhk",
        "outputId": "640957f5-2875-4058-b8a3-5fb56ddc37ec"
      },
      "outputs": [
        {
          "name": "stderr",
          "output_type": "stream",
          "text": [
            "<ipython-input-3-3fd7d0ccc969>:1: DtypeWarning: Columns (10) have mixed types. Specify dtype option on import or set low_memory=False.\n",
            "  df = pd.read_csv('/content/U.S._Chronic_Disease_Indicators__CDI_ (5).csv')\n"
          ]
        }
      ],
      "source": [
        "df = pd.read_csv('/content/U.S._Chronic_Disease_Indicators__CDI_ (5).csv')\n"
      ]
    },
    {
      "cell_type": "code",
      "execution_count": null,
      "metadata": {
        "colab": {
          "base_uri": "https://localhost:8080/",
          "height": 852
        },
        "id": "XUdJdTuBskcX",
        "outputId": "99aa5425-3a15-48e3-be65-ee7040ce7627"
      },
      "outputs": [
        {
          "data": {
            "text/html": [
              "\n",
              "  <div id=\"df-89b3d8de-7375-4dc3-8770-98212a4b0d4e\">\n",
              "    <div class=\"colab-df-container\">\n",
              "      <div>\n",
              "<style scoped>\n",
              "    .dataframe tbody tr th:only-of-type {\n",
              "        vertical-align: middle;\n",
              "    }\n",
              "\n",
              "    .dataframe tbody tr th {\n",
              "        vertical-align: top;\n",
              "    }\n",
              "\n",
              "    .dataframe thead th {\n",
              "        text-align: right;\n",
              "    }\n",
              "</style>\n",
              "<table border=\"1\" class=\"dataframe\">\n",
              "  <thead>\n",
              "    <tr style=\"text-align: right;\">\n",
              "      <th></th>\n",
              "      <th>YearStart</th>\n",
              "      <th>YearEnd</th>\n",
              "      <th>LocationAbbr</th>\n",
              "      <th>LocationDesc</th>\n",
              "      <th>DataSource</th>\n",
              "      <th>Topic</th>\n",
              "      <th>Question</th>\n",
              "      <th>Response</th>\n",
              "      <th>DataValueUnit</th>\n",
              "      <th>DataValueType</th>\n",
              "      <th>...</th>\n",
              "      <th>LocationID</th>\n",
              "      <th>TopicID</th>\n",
              "      <th>QuestionID</th>\n",
              "      <th>DataValueTypeID</th>\n",
              "      <th>StratificationCategoryID1</th>\n",
              "      <th>StratificationID1</th>\n",
              "      <th>StratificationCategoryID2</th>\n",
              "      <th>StratificationID2</th>\n",
              "      <th>StratificationCategoryID3</th>\n",
              "      <th>StratificationID3</th>\n",
              "    </tr>\n",
              "  </thead>\n",
              "  <tbody>\n",
              "    <tr>\n",
              "      <th>0</th>\n",
              "      <td>2014</td>\n",
              "      <td>2014</td>\n",
              "      <td>AR</td>\n",
              "      <td>Arkansas</td>\n",
              "      <td>SEDD; SID</td>\n",
              "      <td>Asthma</td>\n",
              "      <td>Hospitalizations for asthma</td>\n",
              "      <td>NaN</td>\n",
              "      <td>NaN</td>\n",
              "      <td>Number</td>\n",
              "      <td>...</td>\n",
              "      <td>5</td>\n",
              "      <td>AST</td>\n",
              "      <td>AST3_1</td>\n",
              "      <td>NMBR</td>\n",
              "      <td>GENDER</td>\n",
              "      <td>GENM</td>\n",
              "      <td>NaN</td>\n",
              "      <td>NaN</td>\n",
              "      <td>NaN</td>\n",
              "      <td>NaN</td>\n",
              "    </tr>\n",
              "    <tr>\n",
              "      <th>1</th>\n",
              "      <td>2018</td>\n",
              "      <td>2018</td>\n",
              "      <td>CO</td>\n",
              "      <td>Colorado</td>\n",
              "      <td>SEDD; SID</td>\n",
              "      <td>Asthma</td>\n",
              "      <td>Hospitalizations for asthma</td>\n",
              "      <td>NaN</td>\n",
              "      <td>NaN</td>\n",
              "      <td>Number</td>\n",
              "      <td>...</td>\n",
              "      <td>8</td>\n",
              "      <td>AST</td>\n",
              "      <td>AST3_1</td>\n",
              "      <td>NMBR</td>\n",
              "      <td>OVERALL</td>\n",
              "      <td>OVR</td>\n",
              "      <td>NaN</td>\n",
              "      <td>NaN</td>\n",
              "      <td>NaN</td>\n",
              "      <td>NaN</td>\n",
              "    </tr>\n",
              "    <tr>\n",
              "      <th>2</th>\n",
              "      <td>2018</td>\n",
              "      <td>2018</td>\n",
              "      <td>DC</td>\n",
              "      <td>District of Columbia</td>\n",
              "      <td>SEDD; SID</td>\n",
              "      <td>Asthma</td>\n",
              "      <td>Hospitalizations for asthma</td>\n",
              "      <td>NaN</td>\n",
              "      <td>NaN</td>\n",
              "      <td>Number</td>\n",
              "      <td>...</td>\n",
              "      <td>11</td>\n",
              "      <td>AST</td>\n",
              "      <td>AST3_1</td>\n",
              "      <td>NMBR</td>\n",
              "      <td>OVERALL</td>\n",
              "      <td>OVR</td>\n",
              "      <td>NaN</td>\n",
              "      <td>NaN</td>\n",
              "      <td>NaN</td>\n",
              "      <td>NaN</td>\n",
              "    </tr>\n",
              "    <tr>\n",
              "      <th>3</th>\n",
              "      <td>2017</td>\n",
              "      <td>2017</td>\n",
              "      <td>GA</td>\n",
              "      <td>Georgia</td>\n",
              "      <td>SEDD; SID</td>\n",
              "      <td>Asthma</td>\n",
              "      <td>Hospitalizations for asthma</td>\n",
              "      <td>NaN</td>\n",
              "      <td>NaN</td>\n",
              "      <td>Number</td>\n",
              "      <td>...</td>\n",
              "      <td>13</td>\n",
              "      <td>AST</td>\n",
              "      <td>AST3_1</td>\n",
              "      <td>NMBR</td>\n",
              "      <td>GENDER</td>\n",
              "      <td>GENF</td>\n",
              "      <td>NaN</td>\n",
              "      <td>NaN</td>\n",
              "      <td>NaN</td>\n",
              "      <td>NaN</td>\n",
              "    </tr>\n",
              "    <tr>\n",
              "      <th>4</th>\n",
              "      <td>2010</td>\n",
              "      <td>2010</td>\n",
              "      <td>MI</td>\n",
              "      <td>Michigan</td>\n",
              "      <td>SEDD; SID</td>\n",
              "      <td>Asthma</td>\n",
              "      <td>Hospitalizations for asthma</td>\n",
              "      <td>NaN</td>\n",
              "      <td>NaN</td>\n",
              "      <td>Number</td>\n",
              "      <td>...</td>\n",
              "      <td>26</td>\n",
              "      <td>AST</td>\n",
              "      <td>AST3_1</td>\n",
              "      <td>NMBR</td>\n",
              "      <td>RACE</td>\n",
              "      <td>HIS</td>\n",
              "      <td>NaN</td>\n",
              "      <td>NaN</td>\n",
              "      <td>NaN</td>\n",
              "      <td>NaN</td>\n",
              "    </tr>\n",
              "    <tr>\n",
              "      <th>...</th>\n",
              "      <td>...</td>\n",
              "      <td>...</td>\n",
              "      <td>...</td>\n",
              "      <td>...</td>\n",
              "      <td>...</td>\n",
              "      <td>...</td>\n",
              "      <td>...</td>\n",
              "      <td>...</td>\n",
              "      <td>...</td>\n",
              "      <td>...</td>\n",
              "      <td>...</td>\n",
              "      <td>...</td>\n",
              "      <td>...</td>\n",
              "      <td>...</td>\n",
              "      <td>...</td>\n",
              "      <td>...</td>\n",
              "      <td>...</td>\n",
              "      <td>...</td>\n",
              "      <td>...</td>\n",
              "      <td>...</td>\n",
              "      <td>...</td>\n",
              "    </tr>\n",
              "    <tr>\n",
              "      <th>1185671</th>\n",
              "      <td>2020</td>\n",
              "      <td>2020</td>\n",
              "      <td>WY</td>\n",
              "      <td>Wyoming</td>\n",
              "      <td>BRFSS</td>\n",
              "      <td>Diabetes</td>\n",
              "      <td>Dilated eye examination among adults aged &gt;= 1...</td>\n",
              "      <td>NaN</td>\n",
              "      <td>%</td>\n",
              "      <td>Age-adjusted Prevalence</td>\n",
              "      <td>...</td>\n",
              "      <td>56</td>\n",
              "      <td>DIA</td>\n",
              "      <td>DIA7_0</td>\n",
              "      <td>AGEADJPREV</td>\n",
              "      <td>RACE</td>\n",
              "      <td>WHT</td>\n",
              "      <td>NaN</td>\n",
              "      <td>NaN</td>\n",
              "      <td>NaN</td>\n",
              "      <td>NaN</td>\n",
              "    </tr>\n",
              "    <tr>\n",
              "      <th>1185672</th>\n",
              "      <td>2020</td>\n",
              "      <td>2020</td>\n",
              "      <td>WY</td>\n",
              "      <td>Wyoming</td>\n",
              "      <td>BRFSS</td>\n",
              "      <td>Older Adults</td>\n",
              "      <td>Proportion of older adults aged &gt;= 65 years wh...</td>\n",
              "      <td>NaN</td>\n",
              "      <td>%</td>\n",
              "      <td>Crude Prevalence</td>\n",
              "      <td>...</td>\n",
              "      <td>56</td>\n",
              "      <td>OLD</td>\n",
              "      <td>OLD3_1</td>\n",
              "      <td>CRDPREV</td>\n",
              "      <td>RACE</td>\n",
              "      <td>WHT</td>\n",
              "      <td>NaN</td>\n",
              "      <td>NaN</td>\n",
              "      <td>NaN</td>\n",
              "      <td>NaN</td>\n",
              "    </tr>\n",
              "    <tr>\n",
              "      <th>1185673</th>\n",
              "      <td>2017</td>\n",
              "      <td>2017</td>\n",
              "      <td>IA</td>\n",
              "      <td>Iowa</td>\n",
              "      <td>BRFSS</td>\n",
              "      <td>Arthritis</td>\n",
              "      <td>Activity limitation due to arthritis among adu...</td>\n",
              "      <td>NaN</td>\n",
              "      <td>%</td>\n",
              "      <td>Age-adjusted Prevalence</td>\n",
              "      <td>...</td>\n",
              "      <td>19</td>\n",
              "      <td>ART</td>\n",
              "      <td>ART2_1</td>\n",
              "      <td>AGEADJPREV</td>\n",
              "      <td>RACE</td>\n",
              "      <td>HIS</td>\n",
              "      <td>NaN</td>\n",
              "      <td>NaN</td>\n",
              "      <td>NaN</td>\n",
              "      <td>NaN</td>\n",
              "    </tr>\n",
              "    <tr>\n",
              "      <th>1185674</th>\n",
              "      <td>2020</td>\n",
              "      <td>2020</td>\n",
              "      <td>WY</td>\n",
              "      <td>Wyoming</td>\n",
              "      <td>BRFSS</td>\n",
              "      <td>Diabetes</td>\n",
              "      <td>Diabetes prevalence among women aged 18-44 years</td>\n",
              "      <td>NaN</td>\n",
              "      <td>%</td>\n",
              "      <td>Crude Prevalence</td>\n",
              "      <td>...</td>\n",
              "      <td>56</td>\n",
              "      <td>DIA</td>\n",
              "      <td>DIA2_2</td>\n",
              "      <td>CRDPREV</td>\n",
              "      <td>RACE</td>\n",
              "      <td>HIS</td>\n",
              "      <td>NaN</td>\n",
              "      <td>NaN</td>\n",
              "      <td>NaN</td>\n",
              "      <td>NaN</td>\n",
              "    </tr>\n",
              "    <tr>\n",
              "      <th>1185675</th>\n",
              "      <td>2019</td>\n",
              "      <td>2019</td>\n",
              "      <td>RI</td>\n",
              "      <td>Rhode Island</td>\n",
              "      <td>BRFSS</td>\n",
              "      <td>Arthritis</td>\n",
              "      <td>Activity limitation due to arthritis among adu...</td>\n",
              "      <td>NaN</td>\n",
              "      <td>%</td>\n",
              "      <td>Crude Prevalence</td>\n",
              "      <td>...</td>\n",
              "      <td>44</td>\n",
              "      <td>ART</td>\n",
              "      <td>ART2_1</td>\n",
              "      <td>CRDPREV</td>\n",
              "      <td>OVERALL</td>\n",
              "      <td>OVR</td>\n",
              "      <td>NaN</td>\n",
              "      <td>NaN</td>\n",
              "      <td>NaN</td>\n",
              "      <td>NaN</td>\n",
              "    </tr>\n",
              "  </tbody>\n",
              "</table>\n",
              "<p>1185676 rows × 34 columns</p>\n",
              "</div>\n",
              "      <button class=\"colab-df-convert\" onclick=\"convertToInteractive('df-89b3d8de-7375-4dc3-8770-98212a4b0d4e')\"\n",
              "              title=\"Convert this dataframe to an interactive table.\"\n",
              "              style=\"display:none;\">\n",
              "        \n",
              "  <svg xmlns=\"http://www.w3.org/2000/svg\" height=\"24px\"viewBox=\"0 0 24 24\"\n",
              "       width=\"24px\">\n",
              "    <path d=\"M0 0h24v24H0V0z\" fill=\"none\"/>\n",
              "    <path d=\"M18.56 5.44l.94 2.06.94-2.06 2.06-.94-2.06-.94-.94-2.06-.94 2.06-2.06.94zm-11 1L8.5 8.5l.94-2.06 2.06-.94-2.06-.94L8.5 2.5l-.94 2.06-2.06.94zm10 10l.94 2.06.94-2.06 2.06-.94-2.06-.94-.94-2.06-.94 2.06-2.06.94z\"/><path d=\"M17.41 7.96l-1.37-1.37c-.4-.4-.92-.59-1.43-.59-.52 0-1.04.2-1.43.59L10.3 9.45l-7.72 7.72c-.78.78-.78 2.05 0 2.83L4 21.41c.39.39.9.59 1.41.59.51 0 1.02-.2 1.41-.59l7.78-7.78 2.81-2.81c.8-.78.8-2.07 0-2.86zM5.41 20L4 18.59l7.72-7.72 1.47 1.35L5.41 20z\"/>\n",
              "  </svg>\n",
              "      </button>\n",
              "      \n",
              "  <style>\n",
              "    .colab-df-container {\n",
              "      display:flex;\n",
              "      flex-wrap:wrap;\n",
              "      gap: 12px;\n",
              "    }\n",
              "\n",
              "    .colab-df-convert {\n",
              "      background-color: #E8F0FE;\n",
              "      border: none;\n",
              "      border-radius: 50%;\n",
              "      cursor: pointer;\n",
              "      display: none;\n",
              "      fill: #1967D2;\n",
              "      height: 32px;\n",
              "      padding: 0 0 0 0;\n",
              "      width: 32px;\n",
              "    }\n",
              "\n",
              "    .colab-df-convert:hover {\n",
              "      background-color: #E2EBFA;\n",
              "      box-shadow: 0px 1px 2px rgba(60, 64, 67, 0.3), 0px 1px 3px 1px rgba(60, 64, 67, 0.15);\n",
              "      fill: #174EA6;\n",
              "    }\n",
              "\n",
              "    [theme=dark] .colab-df-convert {\n",
              "      background-color: #3B4455;\n",
              "      fill: #D2E3FC;\n",
              "    }\n",
              "\n",
              "    [theme=dark] .colab-df-convert:hover {\n",
              "      background-color: #434B5C;\n",
              "      box-shadow: 0px 1px 3px 1px rgba(0, 0, 0, 0.15);\n",
              "      filter: drop-shadow(0px 1px 2px rgba(0, 0, 0, 0.3));\n",
              "      fill: #FFFFFF;\n",
              "    }\n",
              "  </style>\n",
              "\n",
              "      <script>\n",
              "        const buttonEl =\n",
              "          document.querySelector('#df-89b3d8de-7375-4dc3-8770-98212a4b0d4e button.colab-df-convert');\n",
              "        buttonEl.style.display =\n",
              "          google.colab.kernel.accessAllowed ? 'block' : 'none';\n",
              "\n",
              "        async function convertToInteractive(key) {\n",
              "          const element = document.querySelector('#df-89b3d8de-7375-4dc3-8770-98212a4b0d4e');\n",
              "          const dataTable =\n",
              "            await google.colab.kernel.invokeFunction('convertToInteractive',\n",
              "                                                     [key], {});\n",
              "          if (!dataTable) return;\n",
              "\n",
              "          const docLinkHtml = 'Like what you see? Visit the ' +\n",
              "            '<a target=\"_blank\" href=https://colab.research.google.com/notebooks/data_table.ipynb>data table notebook</a>'\n",
              "            + ' to learn more about interactive tables.';\n",
              "          element.innerHTML = '';\n",
              "          dataTable['output_type'] = 'display_data';\n",
              "          await google.colab.output.renderOutput(dataTable, element);\n",
              "          const docLink = document.createElement('div');\n",
              "          docLink.innerHTML = docLinkHtml;\n",
              "          element.appendChild(docLink);\n",
              "        }\n",
              "      </script>\n",
              "    </div>\n",
              "  </div>\n",
              "  "
            ],
            "text/plain": [
              "         YearStart  YearEnd LocationAbbr          LocationDesc DataSource  \\\n",
              "0             2014     2014           AR              Arkansas  SEDD; SID   \n",
              "1             2018     2018           CO              Colorado  SEDD; SID   \n",
              "2             2018     2018           DC  District of Columbia  SEDD; SID   \n",
              "3             2017     2017           GA               Georgia  SEDD; SID   \n",
              "4             2010     2010           MI              Michigan  SEDD; SID   \n",
              "...            ...      ...          ...                   ...        ...   \n",
              "1185671       2020     2020           WY               Wyoming      BRFSS   \n",
              "1185672       2020     2020           WY               Wyoming      BRFSS   \n",
              "1185673       2017     2017           IA                  Iowa      BRFSS   \n",
              "1185674       2020     2020           WY               Wyoming      BRFSS   \n",
              "1185675       2019     2019           RI          Rhode Island      BRFSS   \n",
              "\n",
              "                Topic                                           Question  \\\n",
              "0              Asthma                        Hospitalizations for asthma   \n",
              "1              Asthma                        Hospitalizations for asthma   \n",
              "2              Asthma                        Hospitalizations for asthma   \n",
              "3              Asthma                        Hospitalizations for asthma   \n",
              "4              Asthma                        Hospitalizations for asthma   \n",
              "...               ...                                                ...   \n",
              "1185671      Diabetes  Dilated eye examination among adults aged >= 1...   \n",
              "1185672  Older Adults  Proportion of older adults aged >= 65 years wh...   \n",
              "1185673     Arthritis  Activity limitation due to arthritis among adu...   \n",
              "1185674      Diabetes   Diabetes prevalence among women aged 18-44 years   \n",
              "1185675     Arthritis  Activity limitation due to arthritis among adu...   \n",
              "\n",
              "         Response DataValueUnit            DataValueType  ... LocationID  \\\n",
              "0             NaN           NaN                   Number  ...          5   \n",
              "1             NaN           NaN                   Number  ...          8   \n",
              "2             NaN           NaN                   Number  ...         11   \n",
              "3             NaN           NaN                   Number  ...         13   \n",
              "4             NaN           NaN                   Number  ...         26   \n",
              "...           ...           ...                      ...  ...        ...   \n",
              "1185671       NaN             %  Age-adjusted Prevalence  ...         56   \n",
              "1185672       NaN             %         Crude Prevalence  ...         56   \n",
              "1185673       NaN             %  Age-adjusted Prevalence  ...         19   \n",
              "1185674       NaN             %         Crude Prevalence  ...         56   \n",
              "1185675       NaN             %         Crude Prevalence  ...         44   \n",
              "\n",
              "         TopicID QuestionID DataValueTypeID  StratificationCategoryID1  \\\n",
              "0            AST     AST3_1            NMBR                     GENDER   \n",
              "1            AST     AST3_1            NMBR                    OVERALL   \n",
              "2            AST     AST3_1            NMBR                    OVERALL   \n",
              "3            AST     AST3_1            NMBR                     GENDER   \n",
              "4            AST     AST3_1            NMBR                       RACE   \n",
              "...          ...        ...             ...                        ...   \n",
              "1185671      DIA     DIA7_0      AGEADJPREV                       RACE   \n",
              "1185672      OLD     OLD3_1         CRDPREV                       RACE   \n",
              "1185673      ART     ART2_1      AGEADJPREV                       RACE   \n",
              "1185674      DIA     DIA2_2         CRDPREV                       RACE   \n",
              "1185675      ART     ART2_1         CRDPREV                    OVERALL   \n",
              "\n",
              "         StratificationID1 StratificationCategoryID2 StratificationID2  \\\n",
              "0                     GENM                       NaN               NaN   \n",
              "1                      OVR                       NaN               NaN   \n",
              "2                      OVR                       NaN               NaN   \n",
              "3                     GENF                       NaN               NaN   \n",
              "4                      HIS                       NaN               NaN   \n",
              "...                    ...                       ...               ...   \n",
              "1185671                WHT                       NaN               NaN   \n",
              "1185672                WHT                       NaN               NaN   \n",
              "1185673                HIS                       NaN               NaN   \n",
              "1185674                HIS                       NaN               NaN   \n",
              "1185675                OVR                       NaN               NaN   \n",
              "\n",
              "         StratificationCategoryID3  StratificationID3  \n",
              "0                              NaN                NaN  \n",
              "1                              NaN                NaN  \n",
              "2                              NaN                NaN  \n",
              "3                              NaN                NaN  \n",
              "4                              NaN                NaN  \n",
              "...                            ...                ...  \n",
              "1185671                        NaN                NaN  \n",
              "1185672                        NaN                NaN  \n",
              "1185673                        NaN                NaN  \n",
              "1185674                        NaN                NaN  \n",
              "1185675                        NaN                NaN  \n",
              "\n",
              "[1185676 rows x 34 columns]"
            ]
          },
          "execution_count": 4,
          "metadata": {},
          "output_type": "execute_result"
        }
      ],
      "source": [
        "df"
      ]
    },
    {
      "cell_type": "code",
      "execution_count": null,
      "metadata": {
        "colab": {
          "base_uri": "https://localhost:8080/",
          "height": 710
        },
        "id": "7uwFwxHA-y28",
        "outputId": "2aebeb1c-ba13-443f-8ee3-72ba89f0250b"
      },
      "outputs": [
        {
          "data": {
            "text/plain": [
              "[Text(0.5, 25.722222222222214, 'Columns names'),\n",
              " Text(119.44444444444444, 0.5, 'missing Values'),\n",
              " Text(0.5, 1.0, 'missing values in each column')]"
            ]
          },
          "execution_count": 5,
          "metadata": {},
          "output_type": "execute_result"
        },
        {
          "data": {
            "image/png": "[encoded data removed]",
            "text/plain": [
              "<Figure size 1000x500 with 1 Axes>"
            ]
          },
          "metadata": {},
          "output_type": "display_data"
        }
      ],
      "source": [
        "#checking the missing values\n",
        "plt.figure(figsize=(10,5))\n",
        "ax = sns.heatmap(df.isnull(),yticklabels = False, cbar = False, linecolor='white')\n",
        "ax.set(xlabel = 'Columns names', ylabel = 'missing Values', title = 'missing values in each column') "
      ]
    },
    {
      "cell_type": "code",
      "execution_count": null,
      "metadata": {
        "id": "vLT3qJL8I40S"
      },
      "outputs": [],
      "source": [
        "#droping the columns \n",
        "df = df.drop(['DataSource','LowConfidenceLimit','HighConfidenceLimit','LocationID',\n",
        "              'DataValueFootnoteSymbol','DatavalueFootnote','Response','ResponseID', 'StratificationCategory2',\n",
        "              'StratificationCategory3','Stratification2','Stratification3', 'StratificationCategoryID2', \n",
        "              'StratificationCategoryID3','StratificationID2','StratificationID3'], axis = 1)"
      ]
    },
    {
      "cell_type": "code",
      "execution_count": null,
      "metadata": {
        "id": "PF_s3GabI45_"
      },
      "outputs": [],
      "source": [
        "df=df.dropna()"
      ]
    },
    {
      "cell_type": "code",
      "execution_count": null,
      "metadata": {
        "id": "gnFnrSGFiI8Q"
      },
      "outputs": [],
      "source": [
        "df.to_csv('chronincdata.csv', index=False)"
      ]
    },
    {
      "cell_type": "code",
      "execution_count": null,
      "metadata": {
        "colab": {
          "base_uri": "https://localhost:8080/",
          "height": 1000
        },
        "id": "4h4cO9w9I4_h",
        "outputId": "ac02edff-636a-4b93-81df-005997bff52a"
      },
      "outputs": [
        {
          "data": {
            "text/html": [
              "\n",
              "  <div id=\"df-04d4d526-a433-46ab-9d4d-c3eee47bb673\">\n",
              "    <div class=\"colab-df-container\">\n",
              "      <div>\n",
              "<style scoped>\n",
              "    .dataframe tbody tr th:only-of-type {\n",
              "        vertical-align: middle;\n",
              "    }\n",
              "\n",
              "    .dataframe tbody tr th {\n",
              "        vertical-align: top;\n",
              "    }\n",
              "\n",
              "    .dataframe thead th {\n",
              "        text-align: right;\n",
              "    }\n",
              "</style>\n",
              "<table border=\"1\" class=\"dataframe\">\n",
              "  <thead>\n",
              "    <tr style=\"text-align: right;\">\n",
              "      <th></th>\n",
              "      <th>YearStart</th>\n",
              "      <th>YearEnd</th>\n",
              "      <th>LocationAbbr</th>\n",
              "      <th>LocationDesc</th>\n",
              "      <th>Topic</th>\n",
              "      <th>Question</th>\n",
              "      <th>DataValueUnit</th>\n",
              "      <th>DataValueType</th>\n",
              "      <th>DataValue</th>\n",
              "      <th>DataValueAlt</th>\n",
              "      <th>StratificationCategory1</th>\n",
              "      <th>Stratification1</th>\n",
              "      <th>GeoLocation</th>\n",
              "      <th>TopicID</th>\n",
              "      <th>QuestionID</th>\n",
              "      <th>DataValueTypeID</th>\n",
              "      <th>StratificationCategoryID1</th>\n",
              "      <th>StratificationID1</th>\n",
              "    </tr>\n",
              "  </thead>\n",
              "  <tbody>\n",
              "    <tr>\n",
              "      <th>14</th>\n",
              "      <td>2020</td>\n",
              "      <td>2020</td>\n",
              "      <td>IL</td>\n",
              "      <td>Illinois</td>\n",
              "      <td>Asthma</td>\n",
              "      <td>Asthma mortality rate</td>\n",
              "      <td>Number</td>\n",
              "      <td>Number</td>\n",
              "      <td>89</td>\n",
              "      <td>89.0</td>\n",
              "      <td>Gender</td>\n",
              "      <td>Male</td>\n",
              "      <td>POINT (-88.99771017799969 40.48501028300046)</td>\n",
              "      <td>AST</td>\n",
              "      <td>AST4_1</td>\n",
              "      <td>NMBR</td>\n",
              "      <td>GENDER</td>\n",
              "      <td>GENM</td>\n",
              "    </tr>\n",
              "    <tr>\n",
              "      <th>17</th>\n",
              "      <td>2018</td>\n",
              "      <td>2018</td>\n",
              "      <td>KS</td>\n",
              "      <td>Kansas</td>\n",
              "      <td>Asthma</td>\n",
              "      <td>Asthma mortality rate</td>\n",
              "      <td>Number</td>\n",
              "      <td>Number</td>\n",
              "      <td>29</td>\n",
              "      <td>29.0</td>\n",
              "      <td>Overall</td>\n",
              "      <td>Overall</td>\n",
              "      <td>POINT (-98.20078122699965 38.34774030000045)</td>\n",
              "      <td>AST</td>\n",
              "      <td>AST4_1</td>\n",
              "      <td>NMBR</td>\n",
              "      <td>OVERALL</td>\n",
              "      <td>OVR</td>\n",
              "    </tr>\n",
              "    <tr>\n",
              "      <th>23</th>\n",
              "      <td>2019</td>\n",
              "      <td>2019</td>\n",
              "      <td>MS</td>\n",
              "      <td>Mississippi</td>\n",
              "      <td>Asthma</td>\n",
              "      <td>Asthma mortality rate</td>\n",
              "      <td>Number</td>\n",
              "      <td>Number</td>\n",
              "      <td>58</td>\n",
              "      <td>58.0</td>\n",
              "      <td>Overall</td>\n",
              "      <td>Overall</td>\n",
              "      <td>POINT (-89.53803082499968 32.745510099000455)</td>\n",
              "      <td>AST</td>\n",
              "      <td>AST4_1</td>\n",
              "      <td>NMBR</td>\n",
              "      <td>OVERALL</td>\n",
              "      <td>OVR</td>\n",
              "    </tr>\n",
              "    <tr>\n",
              "      <th>25</th>\n",
              "      <td>2020</td>\n",
              "      <td>2020</td>\n",
              "      <td>NM</td>\n",
              "      <td>New Mexico</td>\n",
              "      <td>Asthma</td>\n",
              "      <td>Asthma mortality rate</td>\n",
              "      <td>Number</td>\n",
              "      <td>Number</td>\n",
              "      <td>26</td>\n",
              "      <td>26.0</td>\n",
              "      <td>Gender</td>\n",
              "      <td>Female</td>\n",
              "      <td>POINT (-106.24058098499967 34.52088095200048)</td>\n",
              "      <td>AST</td>\n",
              "      <td>AST4_1</td>\n",
              "      <td>NMBR</td>\n",
              "      <td>GENDER</td>\n",
              "      <td>GENF</td>\n",
              "    </tr>\n",
              "    <tr>\n",
              "      <th>157</th>\n",
              "      <td>2020</td>\n",
              "      <td>2020</td>\n",
              "      <td>LA</td>\n",
              "      <td>Louisiana</td>\n",
              "      <td>Diabetes</td>\n",
              "      <td>Mortality with diabetic ketoacidosis reported ...</td>\n",
              "      <td>Number</td>\n",
              "      <td>Number</td>\n",
              "      <td>55</td>\n",
              "      <td>55.0</td>\n",
              "      <td>Gender</td>\n",
              "      <td>Male</td>\n",
              "      <td>POINT (-92.44568007099969 31.31266064400046)</td>\n",
              "      <td>DIA</td>\n",
              "      <td>DIA1_2</td>\n",
              "      <td>NMBR</td>\n",
              "      <td>GENDER</td>\n",
              "      <td>GENM</td>\n",
              "    </tr>\n",
              "    <tr>\n",
              "      <th>...</th>\n",
              "      <td>...</td>\n",
              "      <td>...</td>\n",
              "      <td>...</td>\n",
              "      <td>...</td>\n",
              "      <td>...</td>\n",
              "      <td>...</td>\n",
              "      <td>...</td>\n",
              "      <td>...</td>\n",
              "      <td>...</td>\n",
              "      <td>...</td>\n",
              "      <td>...</td>\n",
              "      <td>...</td>\n",
              "      <td>...</td>\n",
              "      <td>...</td>\n",
              "      <td>...</td>\n",
              "      <td>...</td>\n",
              "      <td>...</td>\n",
              "      <td>...</td>\n",
              "    </tr>\n",
              "    <tr>\n",
              "      <th>1185666</th>\n",
              "      <td>2017</td>\n",
              "      <td>2017</td>\n",
              "      <td>VT</td>\n",
              "      <td>Vermont</td>\n",
              "      <td>Arthritis</td>\n",
              "      <td>Activity limitation due to arthritis among adu...</td>\n",
              "      <td>%</td>\n",
              "      <td>Crude Prevalence</td>\n",
              "      <td>53.8</td>\n",
              "      <td>53.8</td>\n",
              "      <td>Race/Ethnicity</td>\n",
              "      <td>Other, non-Hispanic</td>\n",
              "      <td>POINT (-72.51764079099962 43.62538123900049)</td>\n",
              "      <td>ART</td>\n",
              "      <td>ART2_1</td>\n",
              "      <td>CRDPREV</td>\n",
              "      <td>RACE</td>\n",
              "      <td>OTH</td>\n",
              "    </tr>\n",
              "    <tr>\n",
              "      <th>1185668</th>\n",
              "      <td>2019</td>\n",
              "      <td>2019</td>\n",
              "      <td>ME</td>\n",
              "      <td>Maine</td>\n",
              "      <td>Arthritis</td>\n",
              "      <td>Activity limitation due to arthritis among adu...</td>\n",
              "      <td>%</td>\n",
              "      <td>Crude Prevalence</td>\n",
              "      <td>73.7</td>\n",
              "      <td>73.7</td>\n",
              "      <td>Race/Ethnicity</td>\n",
              "      <td>Multiracial, non-Hispanic</td>\n",
              "      <td>POINT (-68.98503133599962 45.254228894000505)</td>\n",
              "      <td>ART</td>\n",
              "      <td>ART2_1</td>\n",
              "      <td>CRDPREV</td>\n",
              "      <td>RACE</td>\n",
              "      <td>MRC</td>\n",
              "    </tr>\n",
              "    <tr>\n",
              "      <th>1185670</th>\n",
              "      <td>2019</td>\n",
              "      <td>2019</td>\n",
              "      <td>OK</td>\n",
              "      <td>Oklahoma</td>\n",
              "      <td>Arthritis</td>\n",
              "      <td>Activity limitation due to arthritis among adu...</td>\n",
              "      <td>%</td>\n",
              "      <td>Crude Prevalence</td>\n",
              "      <td>57.6</td>\n",
              "      <td>57.6</td>\n",
              "      <td>Race/Ethnicity</td>\n",
              "      <td>Other, non-Hispanic</td>\n",
              "      <td>POINT (-97.52107021399968 35.47203135600046)</td>\n",
              "      <td>ART</td>\n",
              "      <td>ART2_1</td>\n",
              "      <td>CRDPREV</td>\n",
              "      <td>RACE</td>\n",
              "      <td>OTH</td>\n",
              "    </tr>\n",
              "    <tr>\n",
              "      <th>1185672</th>\n",
              "      <td>2020</td>\n",
              "      <td>2020</td>\n",
              "      <td>WY</td>\n",
              "      <td>Wyoming</td>\n",
              "      <td>Older Adults</td>\n",
              "      <td>Proportion of older adults aged &gt;= 65 years wh...</td>\n",
              "      <td>%</td>\n",
              "      <td>Crude Prevalence</td>\n",
              "      <td>41.5</td>\n",
              "      <td>41.5</td>\n",
              "      <td>Race/Ethnicity</td>\n",
              "      <td>White, non-Hispanic</td>\n",
              "      <td>POINT (-108.10983035299967 43.23554134300048)</td>\n",
              "      <td>OLD</td>\n",
              "      <td>OLD3_1</td>\n",
              "      <td>CRDPREV</td>\n",
              "      <td>RACE</td>\n",
              "      <td>WHT</td>\n",
              "    </tr>\n",
              "    <tr>\n",
              "      <th>1185675</th>\n",
              "      <td>2019</td>\n",
              "      <td>2019</td>\n",
              "      <td>RI</td>\n",
              "      <td>Rhode Island</td>\n",
              "      <td>Arthritis</td>\n",
              "      <td>Activity limitation due to arthritis among adu...</td>\n",
              "      <td>%</td>\n",
              "      <td>Crude Prevalence</td>\n",
              "      <td>39.5</td>\n",
              "      <td>39.5</td>\n",
              "      <td>Overall</td>\n",
              "      <td>Overall</td>\n",
              "      <td>POINT (-71.52247031399963 41.70828019300046)</td>\n",
              "      <td>ART</td>\n",
              "      <td>ART2_1</td>\n",
              "      <td>CRDPREV</td>\n",
              "      <td>OVERALL</td>\n",
              "      <td>OVR</td>\n",
              "    </tr>\n",
              "  </tbody>\n",
              "</table>\n",
              "<p>691045 rows × 18 columns</p>\n",
              "</div>\n",
              "      <button class=\"colab-df-convert\" onclick=\"convertToInteractive('df-04d4d526-a433-46ab-9d4d-c3eee47bb673')\"\n",
              "              title=\"Convert this dataframe to an interactive table.\"\n",
              "              style=\"display:none;\">\n",
              "        \n",
              "  <svg xmlns=\"http://www.w3.org/2000/svg\" height=\"24px\"viewBox=\"0 0 24 24\"\n",
              "       width=\"24px\">\n",
              "    <path d=\"M0 0h24v24H0V0z\" fill=\"none\"/>\n",
              "    <path d=\"M18.56 5.44l.94 2.06.94-2.06 2.06-.94-2.06-.94-.94-2.06-.94 2.06-2.06.94zm-11 1L8.5 8.5l.94-2.06 2.06-.94-2.06-.94L8.5 2.5l-.94 2.06-2.06.94zm10 10l.94 2.06.94-2.06 2.06-.94-2.06-.94-.94-2.06-.94 2.06-2.06.94z\"/><path d=\"M17.41 7.96l-1.37-1.37c-.4-.4-.92-.59-1.43-.59-.52 0-1.04.2-1.43.59L10.3 9.45l-7.72 7.72c-.78.78-.78 2.05 0 2.83L4 21.41c.39.39.9.59 1.41.59.51 0 1.02-.2 1.41-.59l7.78-7.78 2.81-2.81c.8-.78.8-2.07 0-2.86zM5.41 20L4 18.59l7.72-7.72 1.47 1.35L5.41 20z\"/>\n",
              "  </svg>\n",
              "      </button>\n",
              "      \n",
              "  <style>\n",
              "    .colab-df-container {\n",
              "      display:flex;\n",
              "      flex-wrap:wrap;\n",
              "      gap: 12px;\n",
              "    }\n",
              "\n",
              "    .colab-df-convert {\n",
              "      background-color: #E8F0FE;\n",
              "      border: none;\n",
              "      border-radius: 50%;\n",
              "      cursor: pointer;\n",
              "      display: none;\n",
              "      fill: #1967D2;\n",
              "      height: 32px;\n",
              "      padding: 0 0 0 0;\n",
              "      width: 32px;\n",
              "    }\n",
              "\n",
              "    .colab-df-convert:hover {\n",
              "      background-color: #E2EBFA;\n",
              "      box-shadow: 0px 1px 2px rgba(60, 64, 67, 0.3), 0px 1px 3px 1px rgba(60, 64, 67, 0.15);\n",
              "      fill: #174EA6;\n",
              "    }\n",
              "\n",
              "    [theme=dark] .colab-df-convert {\n",
              "      background-color: #3B4455;\n",
              "      fill: #D2E3FC;\n",
              "    }\n",
              "\n",
              "    [theme=dark] .colab-df-convert:hover {\n",
              "      background-color: #434B5C;\n",
              "      box-shadow: 0px 1px 3px 1px rgba(0, 0, 0, 0.15);\n",
              "      filter: drop-shadow(0px 1px 2px rgba(0, 0, 0, 0.3));\n",
              "      fill: #FFFFFF;\n",
              "    }\n",
              "  </style>\n",
              "\n",
              "      <script>\n",
              "        const buttonEl =\n",
              "          document.querySelector('#df-04d4d526-a433-46ab-9d4d-c3eee47bb673 button.colab-df-convert');\n",
              "        buttonEl.style.display =\n",
              "          google.colab.kernel.accessAllowed ? 'block' : 'none';\n",
              "\n",
              "        async function convertToInteractive(key) {\n",
              "          const element = document.querySelector('#df-04d4d526-a433-46ab-9d4d-c3eee47bb673');\n",
              "          const dataTable =\n",
              "            await google.colab.kernel.invokeFunction('convertToInteractive',\n",
              "                                                     [key], {});\n",
              "          if (!dataTable) return;\n",
              "\n",
              "          const docLinkHtml = 'Like what you see? Visit the ' +\n",
              "            '<a target=\"_blank\" href=https://colab.research.google.com/notebooks/data_table.ipynb>data table notebook</a>'\n",
              "            + ' to learn more about interactive tables.';\n",
              "          element.innerHTML = '';\n",
              "          dataTable['output_type'] = 'display_data';\n",
              "          await google.colab.output.renderOutput(dataTable, element);\n",
              "          const docLink = document.createElement('div');\n",
              "          docLink.innerHTML = docLinkHtml;\n",
              "          element.appendChild(docLink);\n",
              "        }\n",
              "      </script>\n",
              "    </div>\n",
              "  </div>\n",
              "  "
            ],
            "text/plain": [
              "         YearStart  YearEnd LocationAbbr  LocationDesc         Topic  \\\n",
              "14            2020     2020           IL      Illinois        Asthma   \n",
              "17            2018     2018           KS        Kansas        Asthma   \n",
              "23            2019     2019           MS   Mississippi        Asthma   \n",
              "25            2020     2020           NM    New Mexico        Asthma   \n",
              "157           2020     2020           LA     Louisiana      Diabetes   \n",
              "...            ...      ...          ...           ...           ...   \n",
              "1185666       2017     2017           VT       Vermont     Arthritis   \n",
              "1185668       2019     2019           ME         Maine     Arthritis   \n",
              "1185670       2019     2019           OK      Oklahoma     Arthritis   \n",
              "1185672       2020     2020           WY       Wyoming  Older Adults   \n",
              "1185675       2019     2019           RI  Rhode Island     Arthritis   \n",
              "\n",
              "                                                  Question DataValueUnit  \\\n",
              "14                                   Asthma mortality rate        Number   \n",
              "17                                   Asthma mortality rate        Number   \n",
              "23                                   Asthma mortality rate        Number   \n",
              "25                                   Asthma mortality rate        Number   \n",
              "157      Mortality with diabetic ketoacidosis reported ...        Number   \n",
              "...                                                    ...           ...   \n",
              "1185666  Activity limitation due to arthritis among adu...             %   \n",
              "1185668  Activity limitation due to arthritis among adu...             %   \n",
              "1185670  Activity limitation due to arthritis among adu...             %   \n",
              "1185672  Proportion of older adults aged >= 65 years wh...             %   \n",
              "1185675  Activity limitation due to arthritis among adu...             %   \n",
              "\n",
              "            DataValueType DataValue  DataValueAlt StratificationCategory1  \\\n",
              "14                 Number        89          89.0                  Gender   \n",
              "17                 Number        29          29.0                 Overall   \n",
              "23                 Number        58          58.0                 Overall   \n",
              "25                 Number        26          26.0                  Gender   \n",
              "157                Number        55          55.0                  Gender   \n",
              "...                   ...       ...           ...                     ...   \n",
              "1185666  Crude Prevalence      53.8          53.8          Race/Ethnicity   \n",
              "1185668  Crude Prevalence      73.7          73.7          Race/Ethnicity   \n",
              "1185670  Crude Prevalence      57.6          57.6          Race/Ethnicity   \n",
              "1185672  Crude Prevalence      41.5          41.5          Race/Ethnicity   \n",
              "1185675  Crude Prevalence      39.5          39.5                 Overall   \n",
              "\n",
              "                   Stratification1  \\\n",
              "14                            Male   \n",
              "17                         Overall   \n",
              "23                         Overall   \n",
              "25                          Female   \n",
              "157                           Male   \n",
              "...                            ...   \n",
              "1185666        Other, non-Hispanic   \n",
              "1185668  Multiracial, non-Hispanic   \n",
              "1185670        Other, non-Hispanic   \n",
              "1185672        White, non-Hispanic   \n",
              "1185675                    Overall   \n",
              "\n",
              "                                           GeoLocation TopicID QuestionID  \\\n",
              "14        POINT (-88.99771017799969 40.48501028300046)     AST     AST4_1   \n",
              "17        POINT (-98.20078122699965 38.34774030000045)     AST     AST4_1   \n",
              "23       POINT (-89.53803082499968 32.745510099000455)     AST     AST4_1   \n",
              "25       POINT (-106.24058098499967 34.52088095200048)     AST     AST4_1   \n",
              "157       POINT (-92.44568007099969 31.31266064400046)     DIA     DIA1_2   \n",
              "...                                                ...     ...        ...   \n",
              "1185666   POINT (-72.51764079099962 43.62538123900049)     ART     ART2_1   \n",
              "1185668  POINT (-68.98503133599962 45.254228894000505)     ART     ART2_1   \n",
              "1185670   POINT (-97.52107021399968 35.47203135600046)     ART     ART2_1   \n",
              "1185672  POINT (-108.10983035299967 43.23554134300048)     OLD     OLD3_1   \n",
              "1185675   POINT (-71.52247031399963 41.70828019300046)     ART     ART2_1   \n",
              "\n",
              "        DataValueTypeID StratificationCategoryID1 StratificationID1  \n",
              "14                 NMBR                    GENDER              GENM  \n",
              "17                 NMBR                   OVERALL               OVR  \n",
              "23                 NMBR                   OVERALL               OVR  \n",
              "25                 NMBR                    GENDER              GENF  \n",
              "157                NMBR                    GENDER              GENM  \n",
              "...                 ...                       ...               ...  \n",
              "1185666         CRDPREV                      RACE               OTH  \n",
              "1185668         CRDPREV                      RACE               MRC  \n",
              "1185670         CRDPREV                      RACE               OTH  \n",
              "1185672         CRDPREV                      RACE               WHT  \n",
              "1185675         CRDPREV                   OVERALL               OVR  \n",
              "\n",
              "[691045 rows x 18 columns]"
            ]
          },
          "execution_count": 9,
          "metadata": {},
          "output_type": "execute_result"
        }
      ],
      "source": [
        "df"
      ]
    },
    {
      "cell_type": "code",
      "execution_count": null,
      "metadata": {
        "colab": {
          "base_uri": "https://localhost:8080/",
          "height": 675
        },
        "id": "4YUuwXNWt-tr",
        "outputId": "4a334a1d-cced-4a5e-81a1-9ff9b4953cc2"
      },
      "outputs": [
        {
          "data": {
            "image/png": "[encoded data removed]",
            "text/plain": [
              "<Figure size 800x800 with 1 Axes>"
            ]
          },
          "metadata": {},
          "output_type": "display_data"
        }
      ],
      "source": [
        "df['Topic'].value_counts().plot(kind='pie', colors=['red', 'blue', 'green', 'yellow'], labels=None, autopct='%1.1f%%', startangle=90, figsize=(8,8))\n",
        "plt.title('Chronic Disease Topics')\n",
        "plt.legend(labels=df['Topic'].value_counts().index, loc='best')\n",
        "plt.show()"
      ]
    },
    {
      "cell_type": "code",
      "execution_count": null,
      "metadata": {
        "id": "tXEhIVsGI5Hk"
      },
      "outputs": [],
      "source": [
        "#visuvalizing the distribution of diseases in the dataset\n",
        "df_topic = df.groupby('Topic')\n",
        "df_topic_count = df_topic.count()"
      ]
    },
    {
      "cell_type": "code",
      "execution_count": null,
      "metadata": {
        "colab": {
          "base_uri": "https://localhost:8080/"
        },
        "id": "ibXJtPfwtBXr",
        "outputId": "008c17c0-22a5-4aa4-84d3-ad4280ada15a"
      },
      "outputs": [
        {
          "name": "stdout",
          "output_type": "stream",
          "text": [
            "<class 'pandas.core.frame.DataFrame'>\n",
            "Int64Index: 90757 entries, 256210 to 1185449\n",
            "Data columns (total 18 columns):\n",
            " #   Column                     Non-Null Count  Dtype  \n",
            "---  ------                     --------------  -----  \n",
            " 0   YearStart                  90757 non-null  int64  \n",
            " 1   YearEnd                    90757 non-null  int64  \n",
            " 2   LocationAbbr               90757 non-null  object \n",
            " 3   LocationDesc               90757 non-null  object \n",
            " 4   Topic                      90757 non-null  object \n",
            " 5   Question                   90757 non-null  object \n",
            " 6   DataValueUnit              90757 non-null  object \n",
            " 7   DataValueType              90757 non-null  object \n",
            " 8   DataValue                  90757 non-null  object \n",
            " 9   DataValueAlt               90757 non-null  float64\n",
            " 10  StratificationCategory1    90757 non-null  object \n",
            " 11  Stratification1            90757 non-null  object \n",
            " 12  GeoLocation                90757 non-null  object \n",
            " 13  TopicID                    90757 non-null  object \n",
            " 14  QuestionID                 90757 non-null  object \n",
            " 15  DataValueTypeID            90757 non-null  object \n",
            " 16  StratificationCategoryID1  90757 non-null  object \n",
            " 17  StratificationID1          90757 non-null  object \n",
            "dtypes: float64(1), int64(2), object(15)\n",
            "memory usage: 13.2+ MB\n"
          ]
        }
      ],
      "source": [
        "#we can see from above plot Crdiovascular counts are more,lets explore more about cardiovascular disease\n",
        "df_cvd=df[df['Topic']=='Cardiovascular Disease']\n",
        "df_cvd.info()"
      ]
    },
    {
      "cell_type": "code",
      "execution_count": null,
      "metadata": {
        "colab": {
          "base_uri": "https://localhost:8080/"
        },
        "id": "PxMMIFVxtBlD",
        "outputId": "de7f3cd1-3614-4893-dc58-66b668ba7af1"
      },
      "outputs": [
        {
          "data": {
            "text/plain": [
              "Mortality from total cardiovascular diseases                                                                                   8741\n",
              "Mortality from diseases of the heart                                                                                           8502\n",
              "Mortality from coronary heart disease                                                                                          8029\n",
              "Mortality from heart failure                                                                                                   7596\n",
              "Mortality from cerebrovascular disease (stroke)                                                                                7435\n",
              "Hospitalization for heart failure among Medicare-eligible persons aged >= 65 years                                             7314\n",
              "Influenza vaccination among noninstitutionalized adults aged >= 65 years with a history of coronary heart disease or stroke    5016\n",
              "Influenza vaccination among noninstitutionalized adults aged 18-64 years with a history of coronary heart disease or stroke    4873\n",
              "Cholesterol screening among adults aged >= 18 years                                                                            4836\n",
              "Awareness of high blood pressure among adults aged >= 18 years                                                                 4809\n",
              "High cholesterol prevalence among adults aged >= 18 years                                                                      4729\n",
              "Pneumococcal vaccination among noninstitutionalized adults aged >= 65 years with a history of coronary heart disease           4696\n",
              "Taking medicine for high blood pressure control among adults aged >= 18 years with high blood pressure                         4135\n",
              "Pneumococcal vaccination among noninstitutionalized adults aged 18-64 years with a history of coronary heart disease           4085\n",
              "Hospitalization for stroke                                                                                                     2492\n",
              "Hospitalization for acute myocardial infarction                                                                                2434\n",
              "Awareness of high blood pressure among women aged 18-44 years                                                                  1026\n",
              "Pre-pregnancy hypertension                                                                                                        9\n",
              "Name: Question, dtype: int64"
            ]
          },
          "execution_count": 13,
          "metadata": {},
          "output_type": "execute_result"
        }
      ],
      "source": [
        "df_cvd['Question'].value_counts()"
      ]
    },
    {
      "cell_type": "code",
      "execution_count": null,
      "metadata": {
        "id": "XbkuQ0w8tSfA"
      },
      "outputs": [],
      "source": [
        "# subset the data according to our analysis\n",
        "Mortality_from_heart_failure= df_cvd[(df_cvd['Question']=='Mortality from heart failure') & (df_cvd['DataValueType']=='Crude Rate')]\n",
        "Mortality_from_total_cardiovascular_diseases=df_cvd[(df_cvd['Question']=='Mortality from total cardiovascular diseases')& (df_cvd['DataValueType']=='Crude Rate')]\n",
        "Mortality_from_diseases_of_the_heart=df_cvd[(df_cvd['Question']=='Mortality from diseases of the heart')& (df_cvd['DataValueType']=='Crude Rate')]\n",
        "Mortality_from_coronar_heart_disease =df_cvd[(df_cvd['Question']=='Mortality from coronary heart disease')& (df_cvd['DataValueType']=='Crude Rate')]\n",
        "Mortality_from_cerebrovascular_disease=df_cvd[(df_cvd['Question']=='Mortality from cerebrovascular disease (stroke)')& (df_cvd['DataValueType']=='Crude Rate')]\n",
        "Cholesterol=df_cvd[(df_cvd['Question']=='High cholesterol prevalence among adults aged >= 18 years') & (df_cvd['DataValueType']=='Crude Prevalence')]\n"
      ]
    },
    {
      "cell_type": "code",
      "execution_count": null,
      "metadata": {
        "id": "SluZMV1L_sDY"
      },
      "outputs": [],
      "source": [
        "Mortality_from_total_cardiovascular_diseases['DataValue'] = Mortality_from_total_cardiovascular_diseases['DataValue'].astype(float)\n"
      ]
    },
    {
      "cell_type": "code",
      "execution_count": null,
      "metadata": {
        "colab": {
          "base_uri": "https://localhost:8080/",
          "height": 394
        },
        "id": "Gte2_raT6deO",
        "outputId": "7a70f39a-6372-448e-a244-de5a437e36fd"
      },
      "outputs": [
        {
          "data": {
            "text/html": [
              "\n",
              "  <div id=\"df-9fe0099a-26d1-4c42-9ff5-8748108264a8\">\n",
              "    <div class=\"colab-df-container\">\n",
              "      <div>\n",
              "<style scoped>\n",
              "    .dataframe tbody tr th:only-of-type {\n",
              "        vertical-align: middle;\n",
              "    }\n",
              "\n",
              "    .dataframe tbody tr th {\n",
              "        vertical-align: top;\n",
              "    }\n",
              "\n",
              "    .dataframe thead th {\n",
              "        text-align: right;\n",
              "    }\n",
              "</style>\n",
              "<table border=\"1\" class=\"dataframe\">\n",
              "  <thead>\n",
              "    <tr style=\"text-align: right;\">\n",
              "      <th></th>\n",
              "      <th>YearStart</th>\n",
              "      <th>DataValue</th>\n",
              "    </tr>\n",
              "  </thead>\n",
              "  <tbody>\n",
              "    <tr>\n",
              "      <th>0</th>\n",
              "      <td>2010</td>\n",
              "      <td>202.528814</td>\n",
              "    </tr>\n",
              "    <tr>\n",
              "      <th>1</th>\n",
              "      <td>2011</td>\n",
              "      <td>199.057735</td>\n",
              "    </tr>\n",
              "    <tr>\n",
              "      <th>2</th>\n",
              "      <td>2012</td>\n",
              "      <td>201.140782</td>\n",
              "    </tr>\n",
              "    <tr>\n",
              "      <th>3</th>\n",
              "      <td>2013</td>\n",
              "      <td>203.366111</td>\n",
              "    </tr>\n",
              "    <tr>\n",
              "      <th>4</th>\n",
              "      <td>2014</td>\n",
              "      <td>204.395014</td>\n",
              "    </tr>\n",
              "    <tr>\n",
              "      <th>5</th>\n",
              "      <td>2015</td>\n",
              "      <td>209.375824</td>\n",
              "    </tr>\n",
              "    <tr>\n",
              "      <th>6</th>\n",
              "      <td>2016</td>\n",
              "      <td>209.804396</td>\n",
              "    </tr>\n",
              "    <tr>\n",
              "      <th>7</th>\n",
              "      <td>2017</td>\n",
              "      <td>211.790566</td>\n",
              "    </tr>\n",
              "    <tr>\n",
              "      <th>8</th>\n",
              "      <td>2018</td>\n",
              "      <td>215.444022</td>\n",
              "    </tr>\n",
              "    <tr>\n",
              "      <th>9</th>\n",
              "      <td>2019</td>\n",
              "      <td>217.271545</td>\n",
              "    </tr>\n",
              "    <tr>\n",
              "      <th>10</th>\n",
              "      <td>2020</td>\n",
              "      <td>230.877838</td>\n",
              "    </tr>\n",
              "  </tbody>\n",
              "</table>\n",
              "</div>\n",
              "      <button class=\"colab-df-convert\" onclick=\"convertToInteractive('df-9fe0099a-26d1-4c42-9ff5-8748108264a8')\"\n",
              "              title=\"Convert this dataframe to an interactive table.\"\n",
              "              style=\"display:none;\">\n",
              "        \n",
              "  <svg xmlns=\"http://www.w3.org/2000/svg\" height=\"24px\"viewBox=\"0 0 24 24\"\n",
              "       width=\"24px\">\n",
              "    <path d=\"M0 0h24v24H0V0z\" fill=\"none\"/>\n",
              "    <path d=\"M18.56 5.44l.94 2.06.94-2.06 2.06-.94-2.06-.94-.94-2.06-.94 2.06-2.06.94zm-11 1L8.5 8.5l.94-2.06 2.06-.94-2.06-.94L8.5 2.5l-.94 2.06-2.06.94zm10 10l.94 2.06.94-2.06 2.06-.94-2.06-.94-.94-2.06-.94 2.06-2.06.94z\"/><path d=\"M17.41 7.96l-1.37-1.37c-.4-.4-.92-.59-1.43-.59-.52 0-1.04.2-1.43.59L10.3 9.45l-7.72 7.72c-.78.78-.78 2.05 0 2.83L4 21.41c.39.39.9.59 1.41.59.51 0 1.02-.2 1.41-.59l7.78-7.78 2.81-2.81c.8-.78.8-2.07 0-2.86zM5.41 20L4 18.59l7.72-7.72 1.47 1.35L5.41 20z\"/>\n",
              "  </svg>\n",
              "      </button>\n",
              "      \n",
              "  <style>\n",
              "    .colab-df-container {\n",
              "      display:flex;\n",
              "      flex-wrap:wrap;\n",
              "      gap: 12px;\n",
              "    }\n",
              "\n",
              "    .colab-df-convert {\n",
              "      background-color: #E8F0FE;\n",
              "      border: none;\n",
              "      border-radius: 50%;\n",
              "      cursor: pointer;\n",
              "      display: none;\n",
              "      fill: #1967D2;\n",
              "      height: 32px;\n",
              "      padding: 0 0 0 0;\n",
              "      width: 32px;\n",
              "    }\n",
              "\n",
              "    .colab-df-convert:hover {\n",
              "      background-color: #E2EBFA;\n",
              "      box-shadow: 0px 1px 2px rgba(60, 64, 67, 0.3), 0px 1px 3px 1px rgba(60, 64, 67, 0.15);\n",
              "      fill: #174EA6;\n",
              "    }\n",
              "\n",
              "    [theme=dark] .colab-df-convert {\n",
              "      background-color: #3B4455;\n",
              "      fill: #D2E3FC;\n",
              "    }\n",
              "\n",
              "    [theme=dark] .colab-df-convert:hover {\n",
              "      background-color: #434B5C;\n",
              "      box-shadow: 0px 1px 3px 1px rgba(0, 0, 0, 0.15);\n",
              "      filter: drop-shadow(0px 1px 2px rgba(0, 0, 0, 0.3));\n",
              "      fill: #FFFFFF;\n",
              "    }\n",
              "  </style>\n",
              "\n",
              "      <script>\n",
              "        const buttonEl =\n",
              "          document.querySelector('#df-9fe0099a-26d1-4c42-9ff5-8748108264a8 button.colab-df-convert');\n",
              "        buttonEl.style.display =\n",
              "          google.colab.kernel.accessAllowed ? 'block' : 'none';\n",
              "\n",
              "        async function convertToInteractive(key) {\n",
              "          const element = document.querySelector('#df-9fe0099a-26d1-4c42-9ff5-8748108264a8');\n",
              "          const dataTable =\n",
              "            await google.colab.kernel.invokeFunction('convertToInteractive',\n",
              "                                                     [key], {});\n",
              "          if (!dataTable) return;\n",
              "\n",
              "          const docLinkHtml = 'Like what you see? Visit the ' +\n",
              "            '<a target=\"_blank\" href=https://colab.research.google.com/notebooks/data_table.ipynb>data table notebook</a>'\n",
              "            + ' to learn more about interactive tables.';\n",
              "          element.innerHTML = '';\n",
              "          dataTable['output_type'] = 'display_data';\n",
              "          await google.colab.output.renderOutput(dataTable, element);\n",
              "          const docLink = document.createElement('div');\n",
              "          docLink.innerHTML = docLinkHtml;\n",
              "          element.appendChild(docLink);\n",
              "        }\n",
              "      </script>\n",
              "    </div>\n",
              "  </div>\n",
              "  "
            ],
            "text/plain": [
              "    YearStart   DataValue\n",
              "0        2010  202.528814\n",
              "1        2011  199.057735\n",
              "2        2012  201.140782\n",
              "3        2013  203.366111\n",
              "4        2014  204.395014\n",
              "5        2015  209.375824\n",
              "6        2016  209.804396\n",
              "7        2017  211.790566\n",
              "8        2018  215.444022\n",
              "9        2019  217.271545\n",
              "10       2020  230.877838"
            ]
          },
          "execution_count": 16,
          "metadata": {},
          "output_type": "execute_result"
        }
      ],
      "source": [
        "cvd_yearly_mean = Mortality_from_total_cardiovascular_diseases.groupby('YearStart')['DataValue'].mean().reset_index()\n",
        "\n",
        "cvd_yearly_mean\n"
      ]
    },
    {
      "cell_type": "code",
      "execution_count": null,
      "metadata": {
        "colab": {
          "base_uri": "https://localhost:8080/",
          "height": 472
        },
        "id": "zIUy44Hc9gWA",
        "outputId": "be7c1d95-f5ce-4b8c-9e45-c8c2418c1e1a"
      },
      "outputs": [
        {
          "data": {
            "image/png": "[encoded data removed]",
            "text/plain": [
              "<Figure size 640x480 with 1 Axes>"
            ]
          },
          "metadata": {},
          "output_type": "display_data"
        }
      ],
      "source": [
        "plt.bar(cvd_yearly_mean['YearStart'], cvd_yearly_mean['DataValue'])\n",
        "plt.xlabel('Year')\n",
        "plt.ylabel(' Death Rate')\n",
        "plt.title('Cardiovascular Disease Mortality Trends')\n",
        "plt.show()\n"
      ]
    },
    {
      "cell_type": "code",
      "execution_count": null,
      "metadata": {
        "id": "QIcOY1Sz93U0"
      },
      "outputs": [],
      "source": [
        "race_df = Mortality_from_total_cardiovascular_diseases[Mortality_from_total_cardiovascular_diseases['StratificationCategory1'] == 'Race/Ethnicity']\n",
        "\n"
      ]
    },
    {
      "cell_type": "code",
      "execution_count": null,
      "metadata": {
        "id": "PFpl2Zw4FCLy"
      },
      "outputs": [],
      "source": [
        "race_mean = race_df.groupby('Stratification1')['DataValue'].mean().reset_index()\n"
      ]
    },
    {
      "cell_type": "code",
      "execution_count": null,
      "metadata": {
        "colab": {
          "base_uri": "https://localhost:8080/",
          "height": 564
        },
        "id": "JiXiF1oeFICT",
        "outputId": "494577f9-4b2e-4702-c997-a763e579a4e0"
      },
      "outputs": [
        {
          "data": {
            "image/png": "[encoded data removed]",
            "text/plain": [
              "<Figure size 1300x600 with 1 Axes>"
            ]
          },
          "metadata": {},
          "output_type": "display_data"
        }
      ],
      "source": [
        "fig = plt.figure(figsize=(13, 6))\n",
        "\n",
        "plt.bar(race_mean['Stratification1'], race_mean['DataValue'])\n",
        "plt.xlabel('Race/Ethnicity')\n",
        "plt.ylabel(' Death Rate')\n",
        "plt.title('Mortality Rates by Race/Ethnicity')\n",
        "plt.show()\n"
      ]
    },
    {
      "cell_type": "code",
      "execution_count": null,
      "metadata": {
        "id": "C25P0LUPGykU"
      },
      "outputs": [],
      "source": [
        "gender_df = Mortality_from_total_cardiovascular_diseases[Mortality_from_total_cardiovascular_diseases['StratificationCategory1'] == 'Gender']\n"
      ]
    },
    {
      "cell_type": "code",
      "execution_count": null,
      "metadata": {
        "id": "wOMuK4KwIrf-"
      },
      "outputs": [],
      "source": [
        "gender_yearly_mean = gender_df.groupby(['YearStart', 'Stratification1'])['DataValue'].mean().reset_index()\n"
      ]
    },
    {
      "cell_type": "code",
      "execution_count": null,
      "metadata": {
        "id": "OzpXUqvaK9ih"
      },
      "outputs": [],
      "source": [
        "gender_yearly_pivot = gender_yearly_mean.pivot(index='YearStart', columns='Stratification1', values='DataValue')\n"
      ]
    },
    {
      "cell_type": "code",
      "execution_count": null,
      "metadata": {
        "colab": {
          "base_uri": "https://localhost:8080/",
          "height": 472
        },
        "id": "-mDyzLKiLGMo",
        "outputId": "5ada2cfe-b4a7-4060-c617-805223b0e7b7"
      },
      "outputs": [
        {
          "data": {
            "image/png": "[encoded data removed]",
            "text/plain": [
              "<Figure size 640x480 with 1 Axes>"
            ]
          },
          "metadata": {},
          "output_type": "display_data"
        }
      ],
      "source": [
        "gender_yearly_pivot.plot()\n",
        "# Add labels and title\n",
        "plt.xlabel('Year')\n",
        "plt.ylabel('Age-adjusted Death Rate')\n",
        "plt.title('Mortality Rates by Gender and Year')\n",
        "\n",
        "# Show the plot\n",
        "plt.show()\n"
      ]
    },
    {
      "cell_type": "code",
      "execution_count": null,
      "metadata": {
        "colab": {
          "base_uri": "https://localhost:8080/",
          "height": 472
        },
        "id": "UH_Ise9nJSYx",
        "outputId": "a7b82f49-2acc-417b-ae6a-75736dbc6893"
      },
      "outputs": [
        {
          "data": {
            "image/png": "[encoded data removed]",
            "text/plain": [
              "<Figure size 640x480 with 1 Axes>"
            ]
          },
          "metadata": {},
          "output_type": "display_data"
        }
      ],
      "source": [
        "fig, ax = plt.subplots()\n",
        "\n",
        "# Group the data by gender\n",
        "male_data = gender_yearly_mean[gender_yearly_mean['Stratification1'] == 'Male']\n",
        "female_data = gender_yearly_mean[gender_yearly_mean['Stratification1'] == 'Female']\n",
        "\n",
        "# Plot the data for males and females separately\n",
        "ax.bar(male_data['YearStart'], male_data['DataValue'], width=-0.4, align='edge', label='Male')\n",
        "ax.bar(female_data['YearStart'], female_data['DataValue'], width=0.4, align='edge', label='Female')\n",
        "\n",
        "# Add labels and title\n",
        "plt.xlabel('Year')\n",
        "plt.ylabel(' Death Rate')\n",
        "plt.title('Mortality Rates by Gender and Year')\n",
        "\n",
        "# Add a legend\n",
        "ax.legend()\n",
        "\n",
        "# Show the plot\n",
        "plt.show()\n"
      ]
    },
    {
      "cell_type": "code",
      "execution_count": null,
      "metadata": {
        "colab": {
          "base_uri": "https://localhost:8080/",
          "height": 478
        },
        "id": "H9wi1M4iJfqh",
        "outputId": "ef39b9b6-e898-434c-d669-bc84ab8884dc"
      },
      "outputs": [
        {
          "data": {
            "image/png": "[encoded data removed]",
            "text/plain": [
              "<Figure size 640x480 with 1 Axes>"
            ]
          },
          "metadata": {},
          "output_type": "display_data"
        }
      ],
      "source": [
        "\n",
        "race_df.boxplot(column='DataValue', by='Stratification1')\n",
        "# Add labels and title\n",
        "plt.xlabel('Race/Ethnicity')\n",
        "plt.ylabel('Age-adjusted Death Rate')\n",
        "plt.title('Distribution of Mortality Rates by Race/Ethnicity')\n",
        "\n",
        "# Show the plot\n",
        "plt.show()"
      ]
    },
    {
      "cell_type": "code",
      "execution_count": null,
      "metadata": {
        "id": "aNm-o3j0Qubo"
      },
      "outputs": [],
      "source": [
        "# Heart failure and cholestrol rates for the year 2017 and 2019\n",
        "heart_failure_2017= Mortality_from_heart_failure[Mortality_from_heart_failure['YearStart']==2017]\n",
        "heart_failure_2019= Mortality_from_heart_failure[Mortality_from_heart_failure['YearStart']==2019]\n",
        "Cholesterol_2019=Cholesterol[Cholesterol['YearStart']==2019]\n",
        "Cholesterol_2017=Cholesterol[Cholesterol['YearStart']==2017]"
      ]
    },
    {
      "cell_type": "code",
      "execution_count": null,
      "metadata": {
        "id": "G90HJUpouOhe"
      },
      "outputs": [],
      "source": [
        "#converting the Datavalue into numerics\n",
        "heart_failure_2017['DataValue']=pd.to_numeric(heart_failure_2017['DataValue'])\n",
        "heart_failure_2019['DataValue']=pd.to_numeric(heart_failure_2019['DataValue'])\n",
        "Cholesterol_2019['DataValue']=pd.to_numeric(Cholesterol_2019['DataValue'])\n",
        "Cholesterol_2017['DataValue']=pd.to_numeric(Cholesterol_2017['DataValue'])"
      ]
    },
    {
      "cell_type": "code",
      "execution_count": null,
      "metadata": {
        "id": "gYkSY3xeuVte"
      },
      "outputs": [],
      "source": [
        "import pandas as pd\n",
        "import geopandas as gpd\n",
        "import matplotlib.pyplot as plt\n",
        "import numpy as np\n",
        "import matplotlib.pyplot as plt\n",
        "%matplotlib inline\n",
        "import plotly.express as px\n",
        "import seaborn as sns\n",
        "import numpy as np\n",
        "import plotly.graph_objects as go\n",
        "import plotly.figure_factory as ff \n",
        "import plotly"
      ]
    },
    {
      "cell_type": "code",
      "execution_count": null,
      "metadata": {
        "colab": {
          "base_uri": "https://localhost:8080/",
          "height": 542
        },
        "id": "yOrwEWFSuRgr",
        "outputId": "545b50a9-b280-40ba-83d0-ee61a0971dfd"
      },
      "outputs": [
        {
          "data": {
            "text/html": [
              "<html>\n",
              "<head><meta charset=\"utf-8\" /></head>\n",
              "<body>\n",
              "    <div>            <script src=\"https://cdnjs.cloudflare.com/ajax/libs/mathjax/2.7.5/MathJax.js?config=TeX-AMS-MML_SVG\"></script><script type=\"text/javascript\">if (window.MathJax && window.MathJax.Hub && window.MathJax.Hub.Config) {window.MathJax.Hub.Config({SVG: {font: \"STIX-Web\"}});}</script>                <script type=\"text/javascript\">window.PlotlyConfig = {MathJaxConfig: 'local'};</script>\n",
              "        <script src=\"https://cdn.plot.ly/plotly-2.18.2.min.js\"></script>                <div id=\"dd080f75-3dcc-42f4-9d9c-8cd373e5fba7\" class=\"plotly-graph-div\" style=\"height:525px; width:100%;\"></div>            <script type=\"text/javascript\">                                    window.PLOTLYENV=window.PLOTLYENV || {};                                    if (document.getElementById(\"dd080f75-3dcc-42f4-9d9c-8cd373e5fba7\")) {                    Plotly.newPlot(                        \"dd080f75-3dcc-42f4-9d9c-8cd373e5fba7\",                        [{\"coloraxis\":\"coloraxis\",\"geo\":\"geo\",\"hovertemplate\":\"<b>%{hovertext}</b><br><br>LocationAbbr=%{location}<br>Morality =%{z}<extra></extra>\",\"hovertext\":[\"Connecticut\",\"Rhode Island\",\"District of Columbia\",\"Florida\",\"Oklahoma\",\"Kentucky\",\"Maine\",\"Ohio\",\"Iowa\",\"Missouri\",\"Nevada\",\"North Dakota\",\"Montana\",\"Indiana\",\"Delaware\",\"Oregon\",\"Arizona\",\"Oklahoma\",\"New York\",\"Georgia\",\"Colorado\",\"New Hampshire\",\"Delaware\",\"New Jersey\",\"Montana\",\"Connecticut\",\"Massachusetts\",\"New Mexico\",\"New York\",\"Nebraska\",\"Kansas\",\"Oklahoma\",\"Missouri\",\"Kentucky\",\"North Carolina\",\"Alabama\",\"South Carolina\",\"Oregon\",\"New Jersey\",\"New York\",\"Missouri\",\"California\",\"Ohio\",\"Louisiana\",\"Connecticut\",\"Arizona\",\"North Carolina\",\"Indiana\",\"Alabama\",\"Nevada\",\"Nevada\",\"Minnesota\",\"Michigan\",\"Idaho\",\"Ohio\",\"New Jersey\",\"Kentucky\",\"California\",\"Iowa\",\"Alaska\",\"Hawaii\",\"Maryland\",\"Georgia\",\"Nebraska\",\"District of Columbia\",\"South Carolina\",\"New Mexico\",\"Nebraska\",\"Arkansas\",\"Pennsylvania\",\"Indiana\",\"Arkansas\",\"Massachusetts\",\"Minnesota\",\"Michigan\",\"Hawaii\",\"Pennsylvania\",\"North Dakota\",\"Mississippi\",\"Michigan\",\"Montana\",\"North Carolina\",\"Alabama\",\"Ohio\",\"Georgia\",\"California\",\"Arkansas\",\"Mississippi\",\"Massachusetts\",\"Nevada\",\"Missouri\",\"New Hampshire\",\"Montana\",\"South Carolina\",\"Indiana\",\"Nebraska\",\"New Jersey\",\"Idaho\",\"Kansas\",\"Iowa\",\"Indiana\",\"Nevada\",\"North Dakota\",\"Maine\",\"Illinois\",\"Arizona\",\"Ohio\",\"Idaho\",\"Colorado\",\"California\",\"New Mexico\",\"Nevada\",\"Mississippi\",\"Oklahoma\",\"South Carolina\",\"Minnesota\",\"District of Columbia\",\"Minnesota\",\"Arkansas\",\"Louisiana\",\"California\",\"Georgia\",\"Kansas\",\"Hawaii\",\"California\",\"Illinois\",\"Pennsylvania\",\"Colorado\",\"Pennsylvania\",\"Illinois\",\"New Jersey\",\"Missouri\",\"Georgia\",\"Maryland\",\"South Carolina\",\"Massachusetts\",\"Kentucky\",\"Kansas\",\"Connecticut\",\"Michigan\",\"North Dakota\",\"Delaware\",\"Montana\",\"Massachusetts\",\"Nebraska\",\"Oregon\",\"Kentucky\",\"New Jersey\",\"Florida\",\"Alaska\",\"Iowa\",\"Arizona\",\"North Carolina\",\"South Carolina\",\"Nevada\",\"Oregon\",\"Maryland\",\"Alabama\",\"Louisiana\",\"Indiana\",\"Pennsylvania\",\"Mississippi\",\"Minnesota\",\"Arizona\",\"California\",\"Arkansas\",\"Hawaii\",\"Nebraska\",\"Colorado\",\"New Jersey\",\"Louisiana\",\"Florida\",\"Illinois\",\"Oregon\",\"California\",\"Pennsylvania\",\"Illinois\",\"New Mexico\",\"Kansas\",\"Alaska\",\"Maryland\",\"Rhode Island\",\"North Carolina\",\"Kentucky\",\"Arkansas\",\"Iowa\",\"Massachusetts\",\"Maine\",\"Oregon\",\"Florida\",\"Alaska\",\"Colorado\",\"Colorado\",\"North Carolina\",\"Arizona\",\"Alabama\",\"Rhode Island\",\"Connecticut\",\"New Mexico\",\"Oklahoma\",\"New York\",\"Mississippi\",\"Hawaii\",\"Florida\",\"New York\",\"Alaska\",\"Missouri\",\"Michigan\",\"Louisiana\",\"Illinois\",\"Maine\",\"New York\",\"Rhode Island\",\"Oregon\",\"Oklahoma\",\"Illinois\",\"Massachusetts\",\"Oregon\",\"Rhode Island\",\"Florida\",\"Kansas\",\"Kentucky\",\"Minnesota\",\"Connecticut\",\"Maryland\",\"Pennsylvania\",\"Oklahoma\",\"Delaware\",\"Alaska\",\"District of Columbia\",\"New Mexico\",\"Hawaii\",\"Maryland\",\"Michigan\",\"New Hampshire\",\"Rhode Island\",\"Georgia\",\"Florida\",\"Georgia\",\"Florida\",\"Idaho\",\"North Dakota\",\"Delaware\",\"Michigan\",\"Arizona\",\"North Carolina\",\"New York\",\"Colorado\",\"New Mexico\",\"Michigan\",\"South Carolina\",\"Arizona\",\"Iowa\",\"Missouri\",\"Connecticut\",\"Indiana\",\"District of Columbia\",\"New York\",\"Oklahoma\",\"Louisiana\",\"Ohio\",\"Minnesota\",\"Louisiana\",\"Minnesota\",\"Colorado\",\"Idaho\",\"Alabama\",\"Ohio\",\"New Hampshire\",\"Nevada\",\"North Carolina\",\"Maryland\",\"Kansas\",\"Wisconsin\",\"Washington\",\"Wisconsin\",\"Washington\",\"Texas\",\"West Virginia\",\"Tennessee\",\"Texas\",\"South Dakota\",\"Texas\",\"Utah\",\"West Virginia\",\"South Dakota\",\"Tennessee\",\"Tennessee\",\"Vermont\",\"Virginia\",\"Utah\",\"Utah\",\"Wisconsin\",\"Washington\",\"Virginia\",\"Washington\",\"Texas\",\"Virginia\",\"Vermont\",\"Washington\",\"Tennessee\",\"West Virginia\",\"Utah\",\"South Dakota\",\"Texas\",\"Washington\",\"Wyoming\",\"West Virginia\",\"Wisconsin\",\"Wisconsin\",\"Virginia\",\"Washington\",\"Wyoming\",\"Vermont\",\"Texas\",\"Tennessee\",\"Wyoming\",\"Tennessee\",\"South Dakota\",\"Utah\",\"Texas\",\"Virginia\",\"Vermont\",\"Tennessee\",\"Texas\",\"South Dakota\",\"West Virginia\",\"Wisconsin\",\"Utah\",\"Wyoming\",\"Wisconsin\",\"Virginia\",\"Utah\",\"Wisconsin\",\"Washington\",\"Virginia\"],\"locationmode\":\"USA-states\",\"locations\":[\"CT\",\"RI\",\"DC\",\"FL\",\"OK\",\"KY\",\"ME\",\"OH\",\"IA\",\"MO\",\"NV\",\"ND\",\"MT\",\"IN\",\"DE\",\"OR\",\"AZ\",\"OK\",\"NY\",\"GA\",\"CO\",\"NH\",\"DE\",\"NJ\",\"MT\",\"CT\",\"MA\",\"NM\",\"NY\",\"NE\",\"KS\",\"OK\",\"MO\",\"KY\",\"NC\",\"AL\",\"SC\",\"OR\",\"NJ\",\"NY\",\"MO\",\"CA\",\"OH\",\"LA\",\"CT\",\"AZ\",\"NC\",\"IN\",\"AL\",\"NV\",\"NV\",\"MN\",\"MI\",\"ID\",\"OH\",\"NJ\",\"KY\",\"CA\",\"IA\",\"AK\",\"HI\",\"MD\",\"GA\",\"NE\",\"DC\",\"SC\",\"NM\",\"NE\",\"AR\",\"PA\",\"IN\",\"AR\",\"MA\",\"MN\",\"MI\",\"HI\",\"PA\",\"ND\",\"MS\",\"MI\",\"MT\",\"NC\",\"AL\",\"OH\",\"GA\",\"CA\",\"AR\",\"MS\",\"MA\",\"NV\",\"MO\",\"NH\",\"MT\",\"SC\",\"IN\",\"NE\",\"NJ\",\"ID\",\"KS\",\"IA\",\"IN\",\"NV\",\"ND\",\"ME\",\"IL\",\"AZ\",\"OH\",\"ID\",\"CO\",\"CA\",\"NM\",\"NV\",\"MS\",\"OK\",\"SC\",\"MN\",\"DC\",\"MN\",\"AR\",\"LA\",\"CA\",\"GA\",\"KS\",\"HI\",\"CA\",\"IL\",\"PA\",\"CO\",\"PA\",\"IL\",\"NJ\",\"MO\",\"GA\",\"MD\",\"SC\",\"MA\",\"KY\",\"KS\",\"CT\",\"MI\",\"ND\",\"DE\",\"MT\",\"MA\",\"NE\",\"OR\",\"KY\",\"NJ\",\"FL\",\"AK\",\"IA\",\"AZ\",\"NC\",\"SC\",\"NV\",\"OR\",\"MD\",\"AL\",\"LA\",\"IN\",\"PA\",\"MS\",\"MN\",\"AZ\",\"CA\",\"AR\",\"HI\",\"NE\",\"CO\",\"NJ\",\"LA\",\"FL\",\"IL\",\"OR\",\"CA\",\"PA\",\"IL\",\"NM\",\"KS\",\"AK\",\"MD\",\"RI\",\"NC\",\"KY\",\"AR\",\"IA\",\"MA\",\"ME\",\"OR\",\"FL\",\"AK\",\"CO\",\"CO\",\"NC\",\"AZ\",\"AL\",\"RI\",\"CT\",\"NM\",\"OK\",\"NY\",\"MS\",\"HI\",\"FL\",\"NY\",\"AK\",\"MO\",\"MI\",\"LA\",\"IL\",\"ME\",\"NY\",\"RI\",\"OR\",\"OK\",\"IL\",\"MA\",\"OR\",\"RI\",\"FL\",\"KS\",\"KY\",\"MN\",\"CT\",\"MD\",\"PA\",\"OK\",\"DE\",\"AK\",\"DC\",\"NM\",\"HI\",\"MD\",\"MI\",\"NH\",\"RI\",\"GA\",\"FL\",\"GA\",\"FL\",\"ID\",\"ND\",\"DE\",\"MI\",\"AZ\",\"NC\",\"NY\",\"CO\",\"NM\",\"MI\",\"SC\",\"AZ\",\"IA\",\"MO\",\"CT\",\"IN\",\"DC\",\"NY\",\"OK\",\"LA\",\"OH\",\"MN\",\"LA\",\"MN\",\"CO\",\"ID\",\"AL\",\"OH\",\"NH\",\"NV\",\"NC\",\"MD\",\"KS\",\"WI\",\"WA\",\"WI\",\"WA\",\"TX\",\"WV\",\"TN\",\"TX\",\"SD\",\"TX\",\"UT\",\"WV\",\"SD\",\"TN\",\"TN\",\"VT\",\"VA\",\"UT\",\"UT\",\"WI\",\"WA\",\"VA\",\"WA\",\"TX\",\"VA\",\"VT\",\"WA\",\"TN\",\"WV\",\"UT\",\"SD\",\"TX\",\"WA\",\"WY\",\"WV\",\"WI\",\"WI\",\"VA\",\"WA\",\"WY\",\"VT\",\"TX\",\"TN\",\"WY\",\"TN\",\"SD\",\"UT\",\"TX\",\"VA\",\"VT\",\"TN\",\"TX\",\"SD\",\"WV\",\"WI\",\"UT\",\"WY\",\"WI\",\"VA\",\"UT\",\"WI\",\"WA\",\"VA\"],\"name\":\"\",\"z\":[21.6,21.3,58.8,59.9,135.1,16.5,151.1,134.5,163.0,146.3,61.8,148.9,139.5,153.2,106.8,181.8,46.0,87.4,33.8,122.3,65.8,119.8,107.0,74.0,129.7,64.0,19.5,93.1,82.1,126.3,148.9,15.6,18.9,92.1,110.8,96.6,122.0,43.9,98.8,28.1,129.5,155.4,129.0,29.4,148.1,123.9,16.8,129.5,124.2,68.6,78.2,35.9,18.2,123.1,20.6,94.2,132.8,87.7,15.3,54.7,79.4,106.3,12.1,162.4,57.7,156.8,91.4,71.2,162.4,81.5,12.6,121.4,53.0,151.4,83.0,81.8,145.3,118.0,188.1,29.9,77.2,134.8,12.3,123.2,91.9,90.3,8.8,135.3,143.6,32.6,125.0,137.6,128.4,130.7,19.5,14.2,25.2,124.9,125.0,152.8,104.1,75.3,63.0,137.8,144.5,55.0,21.5,121.2,58.5,99.9,105.7,13.8,160.5,139.5,25.8,26.9,59.8,128.5,140.7,117.6,89.0,17.6,85.4,76.9,51.1,18.4,17.4,95.3,138.2,113.2,137.7,133.8,77.3,77.2,136.5,115.4,26.4,131.9,16.3,131.8,147.2,78.8,131.0,28.9,146.2,90.9,153.4,21.9,96.7,70.7,49.8,90.1,97.5,142.6,54.3,80.7,20.8,126.5,23.8,140.5,130.8,155.4,11.3,27.2,36.0,141.5,44.6,136.2,41.0,89.4,122.1,134.6,92.3,150.8,103.1,27.0,102.5,92.2,22.7,57.8,9.3,135.7,107.5,140.7,141.1,136.9,119.9,144.2,149.8,54.8,54.8,117.3,100.0,113.8,77.3,145.6,156.8,119.2,141.0,106.0,121.4,165.2,85.6,46.9,60.3,34.3,20.1,121.6,119.8,107.9,150.4,88.7,188.8,21.4,174.0,24.4,110.7,148.8,35.2,90.8,90.5,148.3,134.8,104.2,76.5,162.3,143.7,106.9,54.7,102.2,61.2,83.5,63.5,126.8,127.6,146.6,92.9,102.9,92.4,26.1,142.4,132.2,137.1,146.2,83.7,10.8,85.5,37.9,60.5,85.1,19.2,25.6,144.9,82.1,111.9,135.1,24.2,19.9,30.2,102.3,89.3,122.2,141.2,105.8,90.7,21.4,121.7,144.4,135.3,109.3,87.2,77.8,118.1,19.3,139.0,71.2,68.3,26.9,115.6,13.6,91.4,158.6,40.5,92.0,157.5,149.9,120.3,18.6,116.8,97.0,86.7,29.7,15.5,21.8,19.1,75.2,35.3,95.1,124.9,109.6,121.3,165.9,22.6,167.7,91.2,43.0,93.7,162.7,151.0,131.2,97.6,110.1,113.7,121.4,84.5,90.1,102.7,138.0,102.6,81.5,91.7,97.3,119.1,119.1,148.2,141.5,148.9,61.0,101.8,111.4,128.4,119.4,54.4,134.1,110.5,12.7],\"type\":\"choropleth\"}],                        {\"template\":{\"data\":{\"histogram2dcontour\":[{\"type\":\"histogram2dcontour\",\"colorbar\":{\"outlinewidth\":0,\"ticks\":\"\"},\"colorscale\":[[0.0,\"#0d0887\"],[0.1111111111111111,\"#46039f\"],[0.2222222222222222,\"#7201a8\"],[0.3333333333333333,\"#9c179e\"],[0.4444444444444444,\"#bd3786\"],[0.5555555555555556,\"#d8576b\"],[0.6666666666666666,\"#ed7953\"],[0.7777777777777778,\"#fb9f3a\"],[0.8888888888888888,\"#fdca26\"],[1.0,\"#f0f921\"]]}],\"choropleth\":[{\"type\":\"choropleth\",\"colorbar\":{\"outlinewidth\":0,\"ticks\":\"\"}}],\"histogram2d\":[{\"type\":\"histogram2d\",\"colorbar\":{\"outlinewidth\":0,\"ticks\":\"\"},\"colorscale\":[[0.0,\"#0d0887\"],[0.1111111111111111,\"#46039f\"],[0.2222222222222222,\"#7201a8\"],[0.3333333333333333,\"#9c179e\"],[0.4444444444444444,\"#bd3786\"],[0.5555555555555556,\"#d8576b\"],[0.6666666666666666,\"#ed7953\"],[0.7777777777777778,\"#fb9f3a\"],[0.8888888888888888,\"#fdca26\"],[1.0,\"#f0f921\"]]}],\"heatmap\":[{\"type\":\"heatmap\",\"colorbar\":{\"outlinewidth\":0,\"ticks\":\"\"},\"colorscale\":[[0.0,\"#0d0887\"],[0.1111111111111111,\"#46039f\"],[0.2222222222222222,\"#7201a8\"],[0.3333333333333333,\"#9c179e\"],[0.4444444444444444,\"#bd3786\"],[0.5555555555555556,\"#d8576b\"],[0.6666666666666666,\"#ed7953\"],[0.7777777777777778,\"#fb9f3a\"],[0.8888888888888888,\"#fdca26\"],[1.0,\"#f0f921\"]]}],\"heatmapgl\":[{\"type\":\"heatmapgl\",\"colorbar\":{\"outlinewidth\":0,\"ticks\":\"\"},\"colorscale\":[[0.0,\"#0d0887\"],[0.1111111111111111,\"#46039f\"],[0.2222222222222222,\"#7201a8\"],[0.3333333333333333,\"#9c179e\"],[0.4444444444444444,\"#bd3786\"],[0.5555555555555556,\"#d8576b\"],[0.6666666666666666,\"#ed7953\"],[0.7777777777777778,\"#fb9f3a\"],[0.8888888888888888,\"#fdca26\"],[1.0,\"#f0f921\"]]}],\"contourcarpet\":[{\"type\":\"contourcarpet\",\"colorbar\":{\"outlinewidth\":0,\"ticks\":\"\"}}],\"contour\":[{\"type\":\"contour\",\"colorbar\":{\"outlinewidth\":0,\"ticks\":\"\"},\"colorscale\":[[0.0,\"#0d0887\"],[0.1111111111111111,\"#46039f\"],[0.2222222222222222,\"#7201a8\"],[0.3333333333333333,\"#9c179e\"],[0.4444444444444444,\"#bd3786\"],[0.5555555555555556,\"#d8576b\"],[0.6666666666666666,\"#ed7953\"],[0.7777777777777778,\"#fb9f3a\"],[0.8888888888888888,\"#fdca26\"],[1.0,\"#f0f921\"]]}],\"surface\":[{\"type\":\"surface\",\"colorbar\":{\"outlinewidth\":0,\"ticks\":\"\"},\"colorscale\":[[0.0,\"#0d0887\"],[0.1111111111111111,\"#46039f\"],[0.2222222222222222,\"#7201a8\"],[0.3333333333333333,\"#9c179e\"],[0.4444444444444444,\"#bd3786\"],[0.5555555555555556,\"#d8576b\"],[0.6666666666666666,\"#ed7953\"],[0.7777777777777778,\"#fb9f3a\"],[0.8888888888888888,\"#fdca26\"],[1.0,\"#f0f921\"]]}],\"mesh3d\":[{\"type\":\"mesh3d\",\"colorbar\":{\"outlinewidth\":0,\"ticks\":\"\"}}],\"scatter\":[{\"fillpattern\":{\"fillmode\":\"overlay\",\"size\":10,\"solidity\":0.2},\"type\":\"scatter\"}],\"parcoords\":[{\"type\":\"parcoords\",\"line\":{\"colorbar\":{\"outlinewidth\":0,\"ticks\":\"\"}}}],\"scatterpolargl\":[{\"type\":\"scatterpolargl\",\"marker\":{\"colorbar\":{\"outlinewidth\":0,\"ticks\":\"\"}}}],\"bar\":[{\"error_x\":{\"color\":\"#2a3f5f\"},\"error_y\":{\"color\":\"#2a3f5f\"},\"marker\":{\"line\":{\"color\":\"#E5ECF6\",\"width\":0.5},\"pattern\":{\"fillmode\":\"overlay\",\"size\":10,\"solidity\":0.2}},\"type\":\"bar\"}],\"scattergeo\":[{\"type\":\"scattergeo\",\"marker\":{\"colorbar\":{\"outlinewidth\":0,\"ticks\":\"\"}}}],\"scatterpolar\":[{\"type\":\"scatterpolar\",\"marker\":{\"colorbar\":{\"outlinewidth\":0,\"ticks\":\"\"}}}],\"histogram\":[{\"marker\":{\"pattern\":{\"fillmode\":\"overlay\",\"size\":10,\"solidity\":0.2}},\"type\":\"histogram\"}],\"scattergl\":[{\"type\":\"scattergl\",\"marker\":{\"colorbar\":{\"outlinewidth\":0,\"ticks\":\"\"}}}],\"scatter3d\":[{\"type\":\"scatter3d\",\"line\":{\"colorbar\":{\"outlinewidth\":0,\"ticks\":\"\"}},\"marker\":{\"colorbar\":{\"outlinewidth\":0,\"ticks\":\"\"}}}],\"scattermapbox\":[{\"type\":\"scattermapbox\",\"marker\":{\"colorbar\":{\"outlinewidth\":0,\"ticks\":\"\"}}}],\"scatterternary\":[{\"type\":\"scatterternary\",\"marker\":{\"colorbar\":{\"outlinewidth\":0,\"ticks\":\"\"}}}],\"scattercarpet\":[{\"type\":\"scattercarpet\",\"marker\":{\"colorbar\":{\"outlinewidth\":0,\"ticks\":\"\"}}}],\"carpet\":[{\"aaxis\":{\"endlinecolor\":\"#2a3f5f\",\"gridcolor\":\"white\",\"linecolor\":\"white\",\"minorgridcolor\":\"white\",\"startlinecolor\":\"#2a3f5f\"},\"baxis\":{\"endlinecolor\":\"#2a3f5f\",\"gridcolor\":\"white\",\"linecolor\":\"white\",\"minorgridcolor\":\"white\",\"startlinecolor\":\"#2a3f5f\"},\"type\":\"carpet\"}],\"table\":[{\"cells\":{\"fill\":{\"color\":\"#EBF0F8\"},\"line\":{\"color\":\"white\"}},\"header\":{\"fill\":{\"color\":\"#C8D4E3\"},\"line\":{\"color\":\"white\"}},\"type\":\"table\"}],\"barpolar\":[{\"marker\":{\"line\":{\"color\":\"#E5ECF6\",\"width\":0.5},\"pattern\":{\"fillmode\":\"overlay\",\"size\":10,\"solidity\":0.2}},\"type\":\"barpolar\"}],\"pie\":[{\"automargin\":true,\"type\":\"pie\"}]},\"layout\":{\"autotypenumbers\":\"strict\",\"colorway\":[\"#636efa\",\"#EF553B\",\"#00cc96\",\"#ab63fa\",\"#FFA15A\",\"#19d3f3\",\"#FF6692\",\"#B6E880\",\"#FF97FF\",\"#FECB52\"],\"font\":{\"color\":\"#2a3f5f\"},\"hovermode\":\"closest\",\"hoverlabel\":{\"align\":\"left\"},\"paper_bgcolor\":\"white\",\"plot_bgcolor\":\"#E5ECF6\",\"polar\":{\"bgcolor\":\"#E5ECF6\",\"angularaxis\":{\"gridcolor\":\"white\",\"linecolor\":\"white\",\"ticks\":\"\"},\"radialaxis\":{\"gridcolor\":\"white\",\"linecolor\":\"white\",\"ticks\":\"\"}},\"ternary\":{\"bgcolor\":\"#E5ECF6\",\"aaxis\":{\"gridcolor\":\"white\",\"linecolor\":\"white\",\"ticks\":\"\"},\"baxis\":{\"gridcolor\":\"white\",\"linecolor\":\"white\",\"ticks\":\"\"},\"caxis\":{\"gridcolor\":\"white\",\"linecolor\":\"white\",\"ticks\":\"\"}},\"coloraxis\":{\"colorbar\":{\"outlinewidth\":0,\"ticks\":\"\"}},\"colorscale\":{\"sequential\":[[0.0,\"#0d0887\"],[0.1111111111111111,\"#46039f\"],[0.2222222222222222,\"#7201a8\"],[0.3333333333333333,\"#9c179e\"],[0.4444444444444444,\"#bd3786\"],[0.5555555555555556,\"#d8576b\"],[0.6666666666666666,\"#ed7953\"],[0.7777777777777778,\"#fb9f3a\"],[0.8888888888888888,\"#fdca26\"],[1.0,\"#f0f921\"]],\"sequentialminus\":[[0.0,\"#0d0887\"],[0.1111111111111111,\"#46039f\"],[0.2222222222222222,\"#7201a8\"],[0.3333333333333333,\"#9c179e\"],[0.4444444444444444,\"#bd3786\"],[0.5555555555555556,\"#d8576b\"],[0.6666666666666666,\"#ed7953\"],[0.7777777777777778,\"#fb9f3a\"],[0.8888888888888888,\"#fdca26\"],[1.0,\"#f0f921\"]],\"diverging\":[[0,\"#8e0152\"],[0.1,\"#c51b7d\"],[0.2,\"#de77ae\"],[0.3,\"#f1b6da\"],[0.4,\"#fde0ef\"],[0.5,\"#f7f7f7\"],[0.6,\"#e6f5d0\"],[0.7,\"#b8e186\"],[0.8,\"#7fbc41\"],[0.9,\"#4d9221\"],[1,\"#276419\"]]},\"xaxis\":{\"gridcolor\":\"white\",\"linecolor\":\"white\",\"ticks\":\"\",\"title\":{\"standoff\":15},\"zerolinecolor\":\"white\",\"automargin\":true,\"zerolinewidth\":2},\"yaxis\":{\"gridcolor\":\"white\",\"linecolor\":\"white\",\"ticks\":\"\",\"title\":{\"standoff\":15},\"zerolinecolor\":\"white\",\"automargin\":true,\"zerolinewidth\":2},\"scene\":{\"xaxis\":{\"backgroundcolor\":\"#E5ECF6\",\"gridcolor\":\"white\",\"linecolor\":\"white\",\"showbackground\":true,\"ticks\":\"\",\"zerolinecolor\":\"white\",\"gridwidth\":2},\"yaxis\":{\"backgroundcolor\":\"#E5ECF6\",\"gridcolor\":\"white\",\"linecolor\":\"white\",\"showbackground\":true,\"ticks\":\"\",\"zerolinecolor\":\"white\",\"gridwidth\":2},\"zaxis\":{\"backgroundcolor\":\"#E5ECF6\",\"gridcolor\":\"white\",\"linecolor\":\"white\",\"showbackground\":true,\"ticks\":\"\",\"zerolinecolor\":\"white\",\"gridwidth\":2}},\"shapedefaults\":{\"line\":{\"color\":\"#2a3f5f\"}},\"annotationdefaults\":{\"arrowcolor\":\"#2a3f5f\",\"arrowhead\":0,\"arrowwidth\":1},\"geo\":{\"bgcolor\":\"white\",\"landcolor\":\"#E5ECF6\",\"subunitcolor\":\"white\",\"showland\":true,\"showlakes\":true,\"lakecolor\":\"white\"},\"title\":{\"x\":0.05},\"mapbox\":{\"style\":\"light\"}}},\"geo\":{\"domain\":{\"x\":[0.0,1.0],\"y\":[0.0,1.0]},\"center\":{},\"scope\":\"usa\"},\"coloraxis\":{\"colorbar\":{\"title\":{\"text\":\"Morality \"}},\"colorscale\":[[0.0,\"rgb(253, 237, 176)\"],[0.09090909090909091,\"rgb(250, 205, 145)\"],[0.18181818181818182,\"rgb(246, 173, 119)\"],[0.2727272727272727,\"rgb(240, 142, 98)\"],[0.36363636363636365,\"rgb(231, 109, 84)\"],[0.45454545454545453,\"rgb(216, 80, 83)\"],[0.5454545454545454,\"rgb(195, 56, 90)\"],[0.6363636363636364,\"rgb(168, 40, 96)\"],[0.7272727272727273,\"rgb(138, 29, 99)\"],[0.8181818181818182,\"rgb(107, 24, 93)\"],[0.9090909090909091,\"rgb(76, 21, 80)\"],[1.0,\"rgb(47, 15, 61)\"]]},\"legend\":{\"tracegroupgap\":0},\"title\":{\"text\":\"Mortality crude rate from heart failure 2017\"}},                        {\"responsive\": true}                    ).then(function(){\n",
              "                            \n",
              "var gd = document.getElementById('dd080f75-3dcc-42f4-9d9c-8cd373e5fba7');\n",
              "var x = new MutationObserver(function (mutations, observer) {{\n",
              "        var display = window.getComputedStyle(gd).display;\n",
              "        if (!display || display === 'none') {{\n",
              "            console.log([gd, 'removed!']);\n",
              "            Plotly.purge(gd);\n",
              "            observer.disconnect();\n",
              "        }}\n",
              "}});\n",
              "\n",
              "// Listen for the removal of the full notebook cells\n",
              "var notebookContainer = gd.closest('#notebook-container');\n",
              "if (notebookContainer) {{\n",
              "    x.observe(notebookContainer, {childList: true});\n",
              "}}\n",
              "\n",
              "// Listen for the clearing of the current output cell\n",
              "var outputEl = gd.closest('.output');\n",
              "if (outputEl) {{\n",
              "    x.observe(outputEl, {childList: true});\n",
              "}}\n",
              "\n",
              "                        })                };                            </script>        </div>\n",
              "</body>\n",
              "</html>"
            ]
          },
          "metadata": {},
          "output_type": "display_data"
        }
      ],
      "source": [
        "# choropleth mapping for heart failure crude rate in the year 2017\n",
        "fig = px.choropleth(heart_failure_2017, locations=\"LocationAbbr\",locationmode='USA-states',color= 'DataValue',color_continuous_scale='Matter',  scope='usa',hover_name=\"LocationDesc\",labels = {'DataValue':'Morality '},title=\"Mortality crude rate from heart failure 2017\")\n",
        "fig.show()"
      ]
    },
    {
      "cell_type": "code",
      "execution_count": null,
      "metadata": {
        "colab": {
          "base_uri": "https://localhost:8080/",
          "height": 542
        },
        "id": "7aGI5Zr45D9B",
        "outputId": "536ad38a-e64f-4605-dccd-335f78d6fc49"
      },
      "outputs": [
        {
          "data": {
            "text/html": [
              "<html>\n",
              "<head><meta charset=\"utf-8\" /></head>\n",
              "<body>\n",
              "    <div>            <script src=\"https://cdnjs.cloudflare.com/ajax/libs/mathjax/2.7.5/MathJax.js?config=TeX-AMS-MML_SVG\"></script><script type=\"text/javascript\">if (window.MathJax && window.MathJax.Hub && window.MathJax.Hub.Config) {window.MathJax.Hub.Config({SVG: {font: \"STIX-Web\"}});}</script>                <script type=\"text/javascript\">window.PlotlyConfig = {MathJaxConfig: 'local'};</script>\n",
              "        <script src=\"https://cdn.plot.ly/plotly-2.18.2.min.js\"></script>                <div id=\"579f1f69-363a-447d-a6dd-562723dda2e4\" class=\"plotly-graph-div\" style=\"height:525px; width:100%;\"></div>            <script type=\"text/javascript\">                                    window.PLOTLYENV=window.PLOTLYENV || {};                                    if (document.getElementById(\"579f1f69-363a-447d-a6dd-562723dda2e4\")) {                    Plotly.newPlot(                        \"579f1f69-363a-447d-a6dd-562723dda2e4\",                        [{\"coloraxis\":\"coloraxis\",\"geo\":\"geo\",\"hovertemplate\":\"<b>%{hovertext}</b><br><br>LocationAbbr=%{location}<br>Morality=%{z}<extra></extra>\",\"hovertext\":[\"Alabama\",\"Colorado\",\"Massachusetts\",\"Nebraska\",\"North Dakota\",\"Alaska\",\"Connecticut\",\"Colorado\",\"Pennsylvania\",\"Oklahoma\",\"Massachusetts\",\"Arizona\",\"Florida\",\"Connecticut\",\"Oregon\",\"South Carolina\",\"Ohio\",\"Maine\",\"Kansas\",\"Missouri\",\"New Mexico\",\"Alabama\",\"California\",\"Kentucky\",\"South Carolina\",\"Maryland\",\"New Jersey\",\"New York\",\"Rhode Island\",\"District of Columbia\",\"Georgia\",\"New Mexico\",\"Ohio\",\"Nevada\",\"California\",\"Illinois\",\"Idaho\",\"New York\",\"Idaho\",\"New York\",\"Arizona\",\"Hawaii\",\"District of Columbia\",\"North Carolina\",\"Nevada\",\"Delaware\",\"Montana\",\"Louisiana\",\"Nevada\",\"New Jersey\",\"Michigan\",\"New Mexico\",\"Illinois\",\"Iowa\",\"Kentucky\",\"Maryland\",\"Minnesota\",\"Nebraska\",\"Idaho\",\"Alaska\",\"Iowa\",\"New Hampshire\",\"Minnesota\",\"Missouri\",\"Arkansas\",\"District of Columbia\",\"Arizona\",\"Michigan\",\"Mississippi\",\"Florida\",\"Montana\",\"Kansas\",\"Indiana\",\"Montana\",\"Oklahoma\",\"Florida\",\"Alaska\",\"Illinois\",\"Oregon\",\"South Carolina\",\"Missouri\",\"Kansas\",\"District of Columbia\",\"Alabama\",\"Illinois\",\"Nebraska\",\"North Dakota\",\"New Mexico\",\"Rhode Island\",\"Ohio\",\"Hawaii\",\"Kentucky\",\"New York\",\"Connecticut\",\"Connecticut\",\"Massachusetts\",\"Alabama\",\"Hawaii\",\"Colorado\",\"Nevada\",\"New Jersey\",\"New Jersey\",\"California\",\"Maine\",\"Idaho\",\"Louisiana\",\"Louisiana\",\"North Carolina\",\"Connecticut\",\"Georgia\",\"Indiana\",\"California\",\"Delaware\",\"Nevada\",\"Iowa\",\"Arizona\",\"Maryland\",\"Mississippi\",\"Michigan\",\"Colorado\",\"Florida\",\"Minnesota\",\"Rhode Island\",\"Missouri\",\"Indiana\",\"North Carolina\",\"Illinois\",\"Oklahoma\",\"Pennsylvania\",\"Kansas\",\"Minnesota\",\"Oklahoma\",\"Nebraska\",\"California\",\"New Hampshire\",\"North Dakota\",\"Michigan\",\"Hawaii\",\"Hawaii\",\"North Carolina\",\"New Mexico\",\"New Jersey\",\"Oregon\",\"Montana\",\"Indiana\",\"Ohio\",\"Maryland\",\"Alabama\",\"Idaho\",\"California\",\"Indiana\",\"Oklahoma\",\"Alaska\",\"Georgia\",\"New Jersey\",\"Nevada\",\"Illinois\",\"Maine\",\"Arkansas\",\"Massachusetts\",\"Alabama\",\"Pennsylvania\",\"Kentucky\",\"New York\",\"Connecticut\",\"Louisiana\",\"Mississippi\",\"South Carolina\",\"Arkansas\",\"Delaware\",\"Arizona\",\"Michigan\",\"Mississippi\",\"Georgia\",\"Kansas\",\"Louisiana\",\"Pennsylvania\",\"Nebraska\",\"Missouri\",\"Minnesota\",\"North Dakota\",\"Colorado\",\"Georgia\",\"Oregon\",\"North Carolina\",\"Delaware\",\"Oregon\",\"Florida\",\"Ohio\",\"Michigan\",\"North Carolina\",\"Kansas\",\"Iowa\",\"Ohio\",\"South Carolina\",\"Indiana\",\"Minnesota\",\"Maryland\",\"Oklahoma\",\"Nebraska\",\"Iowa\",\"New Hampshire\",\"Rhode Island\",\"Missouri\",\"Arizona\",\"Oklahoma\",\"Pennsylvania\",\"New Jersey\",\"California\",\"Georgia\",\"Rhode Island\",\"Maine\",\"Florida\",\"Oregon\",\"Alaska\",\"Louisiana\",\"Oklahoma\",\"California\",\"Idaho\",\"Arkansas\",\"Ohio\",\"New Mexico\",\"Pennsylvania\",\"Maryland\",\"Montana\",\"New York\",\"Alaska\",\"Rhode Island\",\"Connecticut\",\"Massachusetts\",\"Colorado\",\"Alabama\",\"Massachusetts\",\"Nevada\",\"South Carolina\",\"Kentucky\",\"New Mexico\",\"North Dakota\",\"Hawaii\",\"Louisiana\",\"Mississippi\",\"New York\",\"Missouri\",\"Florida\",\"Colorado\",\"Massachusetts\",\"Illinois\",\"North Carolina\",\"Kentucky\",\"Kansas\",\"New York\",\"Pennsylvania\",\"Arkansas\",\"District of Columbia\",\"Arizona\",\"Nebraska\",\"New Hampshire\",\"Michigan\",\"Georgia\",\"Maryland\",\"Michigan\",\"Arkansas\",\"Mississippi\",\"Arizona\",\"Florida\",\"Oregon\",\"Colorado\",\"Minnesota\",\"Kansas\",\"South Carolina\",\"Kentucky\",\"Indiana\",\"Minnesota\",\"Oregon\",\"North Carolina\",\"Iowa\",\"Delaware\",\"Vermont\",\"Virginia\",\"South Dakota\",\"Washington\",\"West Virginia\",\"Virginia\",\"Tennessee\",\"Wisconsin\",\"Tennessee\",\"West Virginia\",\"Utah\",\"Texas\",\"Wisconsin\",\"Utah\",\"Texas\",\"Virginia\",\"Wyoming\",\"South Dakota\",\"Virginia\",\"Wisconsin\",\"Wisconsin\",\"Washington\",\"Utah\",\"Vermont\",\"Wisconsin\",\"Washington\",\"Wisconsin\",\"Texas\",\"Tennessee\",\"Virginia\",\"West Virginia\",\"Utah\",\"Utah\",\"West Virginia\",\"Washington\",\"South Dakota\",\"Texas\",\"Utah\",\"Wisconsin\",\"Washington\",\"Tennessee\",\"Texas\",\"Wyoming\",\"Texas\",\"Vermont\",\"Virginia\",\"Tennessee\",\"Wisconsin\",\"Washington\",\"Wyoming\",\"South Dakota\",\"Vermont\",\"West Virginia\",\"Washington\",\"Utah\",\"Tennessee\",\"Washington\",\"Texas\",\"Tennessee\",\"Virginia\",\"Texas\",\"South Dakota\",\"Wyoming\",\"Wyoming\"],\"locationmode\":\"USA-states\",\"locations\":[\"AL\",\"CO\",\"MA\",\"NE\",\"ND\",\"AK\",\"CT\",\"CO\",\"PA\",\"OK\",\"MA\",\"AZ\",\"FL\",\"CT\",\"OR\",\"SC\",\"OH\",\"ME\",\"KS\",\"MO\",\"NM\",\"AL\",\"CA\",\"KY\",\"SC\",\"MD\",\"NJ\",\"NY\",\"RI\",\"DC\",\"GA\",\"NM\",\"OH\",\"NV\",\"CA\",\"IL\",\"ID\",\"NY\",\"ID\",\"NY\",\"AZ\",\"HI\",\"DC\",\"NC\",\"NV\",\"DE\",\"MT\",\"LA\",\"NV\",\"NJ\",\"MI\",\"NM\",\"IL\",\"IA\",\"KY\",\"MD\",\"MN\",\"NE\",\"ID\",\"AK\",\"IA\",\"NH\",\"MN\",\"MO\",\"AR\",\"DC\",\"AZ\",\"MI\",\"MS\",\"FL\",\"MT\",\"KS\",\"IN\",\"MT\",\"OK\",\"FL\",\"AK\",\"IL\",\"OR\",\"SC\",\"MO\",\"KS\",\"DC\",\"AL\",\"IL\",\"NE\",\"ND\",\"NM\",\"RI\",\"OH\",\"HI\",\"KY\",\"NY\",\"CT\",\"CT\",\"MA\",\"AL\",\"HI\",\"CO\",\"NV\",\"NJ\",\"NJ\",\"CA\",\"ME\",\"ID\",\"LA\",\"LA\",\"NC\",\"CT\",\"GA\",\"IN\",\"CA\",\"DE\",\"NV\",\"IA\",\"AZ\",\"MD\",\"MS\",\"MI\",\"CO\",\"FL\",\"MN\",\"RI\",\"MO\",\"IN\",\"NC\",\"IL\",\"OK\",\"PA\",\"KS\",\"MN\",\"OK\",\"NE\",\"CA\",\"NH\",\"ND\",\"MI\",\"HI\",\"HI\",\"NC\",\"NM\",\"NJ\",\"OR\",\"MT\",\"IN\",\"OH\",\"MD\",\"AL\",\"ID\",\"CA\",\"IN\",\"OK\",\"AK\",\"GA\",\"NJ\",\"NV\",\"IL\",\"ME\",\"AR\",\"MA\",\"AL\",\"PA\",\"KY\",\"NY\",\"CT\",\"LA\",\"MS\",\"SC\",\"AR\",\"DE\",\"AZ\",\"MI\",\"MS\",\"GA\",\"KS\",\"LA\",\"PA\",\"NE\",\"MO\",\"MN\",\"ND\",\"CO\",\"GA\",\"OR\",\"NC\",\"DE\",\"OR\",\"FL\",\"OH\",\"MI\",\"NC\",\"KS\",\"IA\",\"OH\",\"SC\",\"IN\",\"MN\",\"MD\",\"OK\",\"NE\",\"IA\",\"NH\",\"RI\",\"MO\",\"AZ\",\"OK\",\"PA\",\"NJ\",\"CA\",\"GA\",\"RI\",\"ME\",\"FL\",\"OR\",\"AK\",\"LA\",\"OK\",\"CA\",\"ID\",\"AR\",\"OH\",\"NM\",\"PA\",\"MD\",\"MT\",\"NY\",\"AK\",\"RI\",\"CT\",\"MA\",\"CO\",\"AL\",\"MA\",\"NV\",\"SC\",\"KY\",\"NM\",\"ND\",\"HI\",\"LA\",\"MS\",\"NY\",\"MO\",\"FL\",\"CO\",\"MA\",\"IL\",\"NC\",\"KY\",\"KS\",\"NY\",\"PA\",\"AR\",\"DC\",\"AZ\",\"NE\",\"NH\",\"MI\",\"GA\",\"MD\",\"MI\",\"AR\",\"MS\",\"AZ\",\"FL\",\"OR\",\"CO\",\"MN\",\"KS\",\"SC\",\"KY\",\"IN\",\"MN\",\"OR\",\"NC\",\"IA\",\"DE\",\"VT\",\"VA\",\"SD\",\"WA\",\"WV\",\"VA\",\"TN\",\"WI\",\"TN\",\"WV\",\"UT\",\"TX\",\"WI\",\"UT\",\"TX\",\"VA\",\"WY\",\"SD\",\"VA\",\"WI\",\"WI\",\"WA\",\"UT\",\"VT\",\"WI\",\"WA\",\"WI\",\"TX\",\"TN\",\"VA\",\"WV\",\"UT\",\"UT\",\"WV\",\"WA\",\"SD\",\"TX\",\"UT\",\"WI\",\"WA\",\"TN\",\"TX\",\"WY\",\"TX\",\"VT\",\"VA\",\"TN\",\"WI\",\"WA\",\"WY\",\"SD\",\"VT\",\"WV\",\"WA\",\"UT\",\"TN\",\"WA\",\"TX\",\"TN\",\"VA\",\"TX\",\"SD\",\"WY\",\"WY\"],\"name\":\"\",\"z\":[128.1,45.4,117.5,73.9,157.8,86.4,115.8,122.7,24.8,152.0,114.0,29.9,114.4,72.0,165.8,18.2,138.5,153.3,97.4,14.5,56.2,27.4,162.7,175.1,26.5,91.0,146.3,125.4,22.6,122.4,132.8,158.9,25.3,59.7,97.3,149.6,31.8,39.8,150.7,87.4,29.8,80.7,70.0,114.7,17.5,77.5,99.2,126.1,43.7,102.0,100.1,100.8,104.8,16.1,161.7,80.9,15.2,150.8,92.1,66.1,161.7,126.4,32.3,149.9,178.8,66.3,121.6,74.0,21.0,106.4,136.0,139.1,142.3,137.2,28.9,29.1,67.4,110.7,198.7,133.7,132.0,22.0,30.8,149.4,113.0,171.3,102.5,99.8,141.3,132.0,102.7,160.2,92.3,18.8,34.1,20.9,123.8,41.1,56.4,123.1,78.1,97.6,105.7,154.8,131.7,32.3,124.8,20.6,162.2,84.1,166.9,40.2,101.6,77.4,173.0,90.2,27.9,176.2,132.4,31.1,32.8,42.6,136.7,83.5,106.0,122.4,20.7,149.7,150.6,27.2,145.5,102.4,17.3,93.8,133.2,135.6,151.5,99.6,84.6,100.3,101.9,27.2,158.8,134.9,23.7,94.9,93.5,12.1,131.6,116.0,148.9,107.5,63.6,100.6,26.2,85.3,115.1,156.2,149.9,53.8,132.7,25.4,28.2,33.9,123.1,123.5,164.6,138.6,156.3,111.0,83.1,20.1,132.4,99.5,136.0,109.9,146.0,122.1,15.9,166.4,140.5,102.8,100.1,92.5,124.1,142.8,82.7,68.8,20.5,128.9,123.3,125.0,51.6,135.3,143.9,14.1,65.3,16.6,23.3,143.5,143.5,145.2,145.7,130.6,76.0,150.9,85.5,99.9,52.7,13.8,181.9,161.5,49.2,48.9,47.0,29.2,188.5,90.4,131.7,127.8,151.9,73.8,141.1,95.9,146.4,66.9,60.8,55.6,130.1,26.9,99.7,103.4,120.8,69.5,160.8,109.4,67.6,145.7,90.1,145.4,207.5,90.0,133.4,98.8,74.4,148.7,28.8,11.8,158.6,160.7,22.9,173.5,153.1,73.3,52.6,136.2,139.8,135.8,25.2,126.4,26.7,11.8,170.2,51.4,150.4,162.3,96.6,140.2,132.8,122.3,12.0,145.6,135.0,20.6,149.1,152.6,121.1,124.8,106.1,101.5,120.1,170.9,131.2,130.3,141.8,21.5,67.5,37.1,29.7,165.2,98.7,94.3,106.8,125.3,149.5,106.5,143.9,146.0,114.8,53.1,137.5,21.3,65.1,82.6,25.8,87.5,16.3,162.6,20.8,88.2,166.5,41.7,157.6,91.6,110.7,26.7,151.5,126.4,42.5,123.7,93.6,111.9,25.3,153.1,68.6,95.5,137.9,177.6,131.2,158.6,117.4,93.4,9.5,21.0,153.0,134.5,103.0,95.0,165.8,122.1,44.4],\"type\":\"choropleth\"}],                        {\"template\":{\"data\":{\"histogram2dcontour\":[{\"type\":\"histogram2dcontour\",\"colorbar\":{\"outlinewidth\":0,\"ticks\":\"\"},\"colorscale\":[[0.0,\"#0d0887\"],[0.1111111111111111,\"#46039f\"],[0.2222222222222222,\"#7201a8\"],[0.3333333333333333,\"#9c179e\"],[0.4444444444444444,\"#bd3786\"],[0.5555555555555556,\"#d8576b\"],[0.6666666666666666,\"#ed7953\"],[0.7777777777777778,\"#fb9f3a\"],[0.8888888888888888,\"#fdca26\"],[1.0,\"#f0f921\"]]}],\"choropleth\":[{\"type\":\"choropleth\",\"colorbar\":{\"outlinewidth\":0,\"ticks\":\"\"}}],\"histogram2d\":[{\"type\":\"histogram2d\",\"colorbar\":{\"outlinewidth\":0,\"ticks\":\"\"},\"colorscale\":[[0.0,\"#0d0887\"],[0.1111111111111111,\"#46039f\"],[0.2222222222222222,\"#7201a8\"],[0.3333333333333333,\"#9c179e\"],[0.4444444444444444,\"#bd3786\"],[0.5555555555555556,\"#d8576b\"],[0.6666666666666666,\"#ed7953\"],[0.7777777777777778,\"#fb9f3a\"],[0.8888888888888888,\"#fdca26\"],[1.0,\"#f0f921\"]]}],\"heatmap\":[{\"type\":\"heatmap\",\"colorbar\":{\"outlinewidth\":0,\"ticks\":\"\"},\"colorscale\":[[0.0,\"#0d0887\"],[0.1111111111111111,\"#46039f\"],[0.2222222222222222,\"#7201a8\"],[0.3333333333333333,\"#9c179e\"],[0.4444444444444444,\"#bd3786\"],[0.5555555555555556,\"#d8576b\"],[0.6666666666666666,\"#ed7953\"],[0.7777777777777778,\"#fb9f3a\"],[0.8888888888888888,\"#fdca26\"],[1.0,\"#f0f921\"]]}],\"heatmapgl\":[{\"type\":\"heatmapgl\",\"colorbar\":{\"outlinewidth\":0,\"ticks\":\"\"},\"colorscale\":[[0.0,\"#0d0887\"],[0.1111111111111111,\"#46039f\"],[0.2222222222222222,\"#7201a8\"],[0.3333333333333333,\"#9c179e\"],[0.4444444444444444,\"#bd3786\"],[0.5555555555555556,\"#d8576b\"],[0.6666666666666666,\"#ed7953\"],[0.7777777777777778,\"#fb9f3a\"],[0.8888888888888888,\"#fdca26\"],[1.0,\"#f0f921\"]]}],\"contourcarpet\":[{\"type\":\"contourcarpet\",\"colorbar\":{\"outlinewidth\":0,\"ticks\":\"\"}}],\"contour\":[{\"type\":\"contour\",\"colorbar\":{\"outlinewidth\":0,\"ticks\":\"\"},\"colorscale\":[[0.0,\"#0d0887\"],[0.1111111111111111,\"#46039f\"],[0.2222222222222222,\"#7201a8\"],[0.3333333333333333,\"#9c179e\"],[0.4444444444444444,\"#bd3786\"],[0.5555555555555556,\"#d8576b\"],[0.6666666666666666,\"#ed7953\"],[0.7777777777777778,\"#fb9f3a\"],[0.8888888888888888,\"#fdca26\"],[1.0,\"#f0f921\"]]}],\"surface\":[{\"type\":\"surface\",\"colorbar\":{\"outlinewidth\":0,\"ticks\":\"\"},\"colorscale\":[[0.0,\"#0d0887\"],[0.1111111111111111,\"#46039f\"],[0.2222222222222222,\"#7201a8\"],[0.3333333333333333,\"#9c179e\"],[0.4444444444444444,\"#bd3786\"],[0.5555555555555556,\"#d8576b\"],[0.6666666666666666,\"#ed7953\"],[0.7777777777777778,\"#fb9f3a\"],[0.8888888888888888,\"#fdca26\"],[1.0,\"#f0f921\"]]}],\"mesh3d\":[{\"type\":\"mesh3d\",\"colorbar\":{\"outlinewidth\":0,\"ticks\":\"\"}}],\"scatter\":[{\"fillpattern\":{\"fillmode\":\"overlay\",\"size\":10,\"solidity\":0.2},\"type\":\"scatter\"}],\"parcoords\":[{\"type\":\"parcoords\",\"line\":{\"colorbar\":{\"outlinewidth\":0,\"ticks\":\"\"}}}],\"scatterpolargl\":[{\"type\":\"scatterpolargl\",\"marker\":{\"colorbar\":{\"outlinewidth\":0,\"ticks\":\"\"}}}],\"bar\":[{\"error_x\":{\"color\":\"#2a3f5f\"},\"error_y\":{\"color\":\"#2a3f5f\"},\"marker\":{\"line\":{\"color\":\"#E5ECF6\",\"width\":0.5},\"pattern\":{\"fillmode\":\"overlay\",\"size\":10,\"solidity\":0.2}},\"type\":\"bar\"}],\"scattergeo\":[{\"type\":\"scattergeo\",\"marker\":{\"colorbar\":{\"outlinewidth\":0,\"ticks\":\"\"}}}],\"scatterpolar\":[{\"type\":\"scatterpolar\",\"marker\":{\"colorbar\":{\"outlinewidth\":0,\"ticks\":\"\"}}}],\"histogram\":[{\"marker\":{\"pattern\":{\"fillmode\":\"overlay\",\"size\":10,\"solidity\":0.2}},\"type\":\"histogram\"}],\"scattergl\":[{\"type\":\"scattergl\",\"marker\":{\"colorbar\":{\"outlinewidth\":0,\"ticks\":\"\"}}}],\"scatter3d\":[{\"type\":\"scatter3d\",\"line\":{\"colorbar\":{\"outlinewidth\":0,\"ticks\":\"\"}},\"marker\":{\"colorbar\":{\"outlinewidth\":0,\"ticks\":\"\"}}}],\"scattermapbox\":[{\"type\":\"scattermapbox\",\"marker\":{\"colorbar\":{\"outlinewidth\":0,\"ticks\":\"\"}}}],\"scatterternary\":[{\"type\":\"scatterternary\",\"marker\":{\"colorbar\":{\"outlinewidth\":0,\"ticks\":\"\"}}}],\"scattercarpet\":[{\"type\":\"scattercarpet\",\"marker\":{\"colorbar\":{\"outlinewidth\":0,\"ticks\":\"\"}}}],\"carpet\":[{\"aaxis\":{\"endlinecolor\":\"#2a3f5f\",\"gridcolor\":\"white\",\"linecolor\":\"white\",\"minorgridcolor\":\"white\",\"startlinecolor\":\"#2a3f5f\"},\"baxis\":{\"endlinecolor\":\"#2a3f5f\",\"gridcolor\":\"white\",\"linecolor\":\"white\",\"minorgridcolor\":\"white\",\"startlinecolor\":\"#2a3f5f\"},\"type\":\"carpet\"}],\"table\":[{\"cells\":{\"fill\":{\"color\":\"#EBF0F8\"},\"line\":{\"color\":\"white\"}},\"header\":{\"fill\":{\"color\":\"#C8D4E3\"},\"line\":{\"color\":\"white\"}},\"type\":\"table\"}],\"barpolar\":[{\"marker\":{\"line\":{\"color\":\"#E5ECF6\",\"width\":0.5},\"pattern\":{\"fillmode\":\"overlay\",\"size\":10,\"solidity\":0.2}},\"type\":\"barpolar\"}],\"pie\":[{\"automargin\":true,\"type\":\"pie\"}]},\"layout\":{\"autotypenumbers\":\"strict\",\"colorway\":[\"#636efa\",\"#EF553B\",\"#00cc96\",\"#ab63fa\",\"#FFA15A\",\"#19d3f3\",\"#FF6692\",\"#B6E880\",\"#FF97FF\",\"#FECB52\"],\"font\":{\"color\":\"#2a3f5f\"},\"hovermode\":\"closest\",\"hoverlabel\":{\"align\":\"left\"},\"paper_bgcolor\":\"white\",\"plot_bgcolor\":\"#E5ECF6\",\"polar\":{\"bgcolor\":\"#E5ECF6\",\"angularaxis\":{\"gridcolor\":\"white\",\"linecolor\":\"white\",\"ticks\":\"\"},\"radialaxis\":{\"gridcolor\":\"white\",\"linecolor\":\"white\",\"ticks\":\"\"}},\"ternary\":{\"bgcolor\":\"#E5ECF6\",\"aaxis\":{\"gridcolor\":\"white\",\"linecolor\":\"white\",\"ticks\":\"\"},\"baxis\":{\"gridcolor\":\"white\",\"linecolor\":\"white\",\"ticks\":\"\"},\"caxis\":{\"gridcolor\":\"white\",\"linecolor\":\"white\",\"ticks\":\"\"}},\"coloraxis\":{\"colorbar\":{\"outlinewidth\":0,\"ticks\":\"\"}},\"colorscale\":{\"sequential\":[[0.0,\"#0d0887\"],[0.1111111111111111,\"#46039f\"],[0.2222222222222222,\"#7201a8\"],[0.3333333333333333,\"#9c179e\"],[0.4444444444444444,\"#bd3786\"],[0.5555555555555556,\"#d8576b\"],[0.6666666666666666,\"#ed7953\"],[0.7777777777777778,\"#fb9f3a\"],[0.8888888888888888,\"#fdca26\"],[1.0,\"#f0f921\"]],\"sequentialminus\":[[0.0,\"#0d0887\"],[0.1111111111111111,\"#46039f\"],[0.2222222222222222,\"#7201a8\"],[0.3333333333333333,\"#9c179e\"],[0.4444444444444444,\"#bd3786\"],[0.5555555555555556,\"#d8576b\"],[0.6666666666666666,\"#ed7953\"],[0.7777777777777778,\"#fb9f3a\"],[0.8888888888888888,\"#fdca26\"],[1.0,\"#f0f921\"]],\"diverging\":[[0,\"#8e0152\"],[0.1,\"#c51b7d\"],[0.2,\"#de77ae\"],[0.3,\"#f1b6da\"],[0.4,\"#fde0ef\"],[0.5,\"#f7f7f7\"],[0.6,\"#e6f5d0\"],[0.7,\"#b8e186\"],[0.8,\"#7fbc41\"],[0.9,\"#4d9221\"],[1,\"#276419\"]]},\"xaxis\":{\"gridcolor\":\"white\",\"linecolor\":\"white\",\"ticks\":\"\",\"title\":{\"standoff\":15},\"zerolinecolor\":\"white\",\"automargin\":true,\"zerolinewidth\":2},\"yaxis\":{\"gridcolor\":\"white\",\"linecolor\":\"white\",\"ticks\":\"\",\"title\":{\"standoff\":15},\"zerolinecolor\":\"white\",\"automargin\":true,\"zerolinewidth\":2},\"scene\":{\"xaxis\":{\"backgroundcolor\":\"#E5ECF6\",\"gridcolor\":\"white\",\"linecolor\":\"white\",\"showbackground\":true,\"ticks\":\"\",\"zerolinecolor\":\"white\",\"gridwidth\":2},\"yaxis\":{\"backgroundcolor\":\"#E5ECF6\",\"gridcolor\":\"white\",\"linecolor\":\"white\",\"showbackground\":true,\"ticks\":\"\",\"zerolinecolor\":\"white\",\"gridwidth\":2},\"zaxis\":{\"backgroundcolor\":\"#E5ECF6\",\"gridcolor\":\"white\",\"linecolor\":\"white\",\"showbackground\":true,\"ticks\":\"\",\"zerolinecolor\":\"white\",\"gridwidth\":2}},\"shapedefaults\":{\"line\":{\"color\":\"#2a3f5f\"}},\"annotationdefaults\":{\"arrowcolor\":\"#2a3f5f\",\"arrowhead\":0,\"arrowwidth\":1},\"geo\":{\"bgcolor\":\"white\",\"landcolor\":\"#E5ECF6\",\"subunitcolor\":\"white\",\"showland\":true,\"showlakes\":true,\"lakecolor\":\"white\"},\"title\":{\"x\":0.05},\"mapbox\":{\"style\":\"light\"}}},\"geo\":{\"domain\":{\"x\":[0.0,1.0],\"y\":[0.0,1.0]},\"center\":{},\"scope\":\"usa\"},\"coloraxis\":{\"colorbar\":{\"title\":{\"text\":\"Morality\"}},\"colorscale\":[[0.0,\"rgb(253, 237, 176)\"],[0.09090909090909091,\"rgb(250, 205, 145)\"],[0.18181818181818182,\"rgb(246, 173, 119)\"],[0.2727272727272727,\"rgb(240, 142, 98)\"],[0.36363636363636365,\"rgb(231, 109, 84)\"],[0.45454545454545453,\"rgb(216, 80, 83)\"],[0.5454545454545454,\"rgb(195, 56, 90)\"],[0.6363636363636364,\"rgb(168, 40, 96)\"],[0.7272727272727273,\"rgb(138, 29, 99)\"],[0.8181818181818182,\"rgb(107, 24, 93)\"],[0.9090909090909091,\"rgb(76, 21, 80)\"],[1.0,\"rgb(47, 15, 61)\"]]},\"legend\":{\"tracegroupgap\":0},\"title\":{\"text\":\"Mortality crude rate from heart failure 2019\"}},                        {\"responsive\": true}                    ).then(function(){\n",
              "                            \n",
              "var gd = document.getElementById('579f1f69-363a-447d-a6dd-562723dda2e4');\n",
              "var x = new MutationObserver(function (mutations, observer) {{\n",
              "        var display = window.getComputedStyle(gd).display;\n",
              "        if (!display || display === 'none') {{\n",
              "            console.log([gd, 'removed!']);\n",
              "            Plotly.purge(gd);\n",
              "            observer.disconnect();\n",
              "        }}\n",
              "}});\n",
              "\n",
              "// Listen for the removal of the full notebook cells\n",
              "var notebookContainer = gd.closest('#notebook-container');\n",
              "if (notebookContainer) {{\n",
              "    x.observe(notebookContainer, {childList: true});\n",
              "}}\n",
              "\n",
              "// Listen for the clearing of the current output cell\n",
              "var outputEl = gd.closest('.output');\n",
              "if (outputEl) {{\n",
              "    x.observe(outputEl, {childList: true});\n",
              "}}\n",
              "\n",
              "                        })                };                            </script>        </div>\n",
              "</body>\n",
              "</html>"
            ]
          },
          "metadata": {},
          "output_type": "display_data"
        }
      ],
      "source": [
        "# choropleth mapping for heart failure crude rate in the year 2019\n",
        "fig = px.choropleth(heart_failure_2019, locations=\"LocationAbbr\",locationmode='USA-states', color= 'DataValue',color_continuous_scale='Matter',  scope='usa',hover_name=\"LocationDesc\", labels = {'DataValue':'Morality'},title=\"Mortality crude rate from heart failure 2019\")\n",
        "fig.show()"
      ]
    },
    {
      "cell_type": "code",
      "execution_count": null,
      "metadata": {
        "colab": {
          "base_uri": "https://localhost:8080/",
          "height": 542
        },
        "id": "DnDX2YwM5Vxz",
        "outputId": "14ba2d82-701f-40d6-9dbf-92c69974d8d3"
      },
      "outputs": [
        {
          "data": {
            "text/html": [
              "<html>\n",
              "<head><meta charset=\"utf-8\" /></head>\n",
              "<body>\n",
              "    <div>            <script src=\"https://cdnjs.cloudflare.com/ajax/libs/mathjax/2.7.5/MathJax.js?config=TeX-AMS-MML_SVG\"></script><script type=\"text/javascript\">if (window.MathJax && window.MathJax.Hub && window.MathJax.Hub.Config) {window.MathJax.Hub.Config({SVG: {font: \"STIX-Web\"}});}</script>                <script type=\"text/javascript\">window.PlotlyConfig = {MathJaxConfig: 'local'};</script>\n",
              "        <script src=\"https://cdn.plot.ly/plotly-2.18.2.min.js\"></script>                <div id=\"8b0c2ed7-0f98-42e8-b776-fc5be70ca9dc\" class=\"plotly-graph-div\" style=\"height:525px; width:100%;\"></div>            <script type=\"text/javascript\">                                    window.PLOTLYENV=window.PLOTLYENV || {};                                    if (document.getElementById(\"8b0c2ed7-0f98-42e8-b776-fc5be70ca9dc\")) {                    Plotly.newPlot(                        \"8b0c2ed7-0f98-42e8-b776-fc5be70ca9dc\",                        [{\"coloraxis\":\"coloraxis\",\"geo\":\"geo\",\"hovertemplate\":\"<b>%{hovertext}</b><br><br>LocationAbbr=%{location}<br>cholestrol percentages=%{z}<extra></extra>\",\"hovertext\":[\"Alaska\",\"Alaska\",\"Alaska\",\"Alaska\",\"Alaska\",\"Alaska\",\"Alaska\",\"Alabama\",\"Alabama\",\"Alabama\",\"Alabama\",\"Alabama\",\"Alabama\",\"Alabama\",\"Alabama\",\"Arkansas\",\"Arkansas\",\"Arkansas\",\"Arkansas\",\"Arkansas\",\"Arkansas\",\"Arkansas\",\"Arizona\",\"Arizona\",\"Arizona\",\"Arizona\",\"Arizona\",\"Arizona\",\"Arizona\",\"Arizona\",\"California\",\"Colorado\",\"California\",\"California\",\"Colorado\",\"California\",\"Colorado\",\"Colorado\",\"Colorado\",\"California\",\"Colorado\",\"California\",\"California\",\"California\",\"Colorado\",\"Colorado\",\"Connecticut\",\"Connecticut\",\"Connecticut\",\"Connecticut\",\"Connecticut\",\"Connecticut\",\"Connecticut\",\"Connecticut\",\"District of Columbia\",\"District of Columbia\",\"District of Columbia\",\"District of Columbia\",\"District of Columbia\",\"District of Columbia\",\"District of Columbia\",\"District of Columbia\",\"Delaware\",\"Delaware\",\"Delaware\",\"Delaware\",\"Delaware\",\"Delaware\",\"Delaware\",\"Florida\",\"Florida\",\"Florida\",\"Florida\",\"Florida\",\"Florida\",\"Florida\",\"Florida\",\"Georgia\",\"Georgia\",\"Georgia\",\"Georgia\",\"Georgia\",\"Georgia\",\"Georgia\",\"Georgia\",\"Guam\",\"Guam\",\"Guam\",\"Guam\",\"Guam\",\"Guam\",\"Guam\",\"Hawaii\",\"Hawaii\",\"Hawaii\",\"Hawaii\",\"Hawaii\",\"Hawaii\",\"Hawaii\",\"Hawaii\",\"Iowa\",\"Iowa\",\"Iowa\",\"Iowa\",\"Iowa\",\"Iowa\",\"Iowa\",\"Iowa\",\"Illinois\",\"Idaho\",\"Idaho\",\"Illinois\",\"Illinois\",\"Idaho\",\"Idaho\",\"Illinois\",\"Idaho\",\"Illinois\",\"Idaho\",\"Illinois\",\"Illinois\",\"Idaho\",\"Indiana\",\"Indiana\",\"Indiana\",\"Indiana\",\"Indiana\",\"Indiana\",\"Indiana\",\"Indiana\",\"Kansas\",\"Kansas\",\"Kansas\",\"Kansas\",\"Kansas\",\"Kansas\",\"Kansas\",\"Kansas\",\"Kentucky\",\"Kentucky\",\"Kentucky\",\"Kentucky\",\"Kentucky\",\"Kentucky\",\"Kentucky\",\"Kentucky\",\"Louisiana\",\"Louisiana\",\"Louisiana\",\"Louisiana\",\"Louisiana\",\"Louisiana\",\"Louisiana\",\"Louisiana\",\"Massachusetts\",\"Massachusetts\",\"Massachusetts\",\"Massachusetts\",\"Massachusetts\",\"Massachusetts\",\"Massachusetts\",\"Massachusetts\",\"Maryland\",\"Maryland\",\"Maryland\",\"Maryland\",\"Maryland\",\"Maryland\",\"Maryland\",\"Maryland\",\"Maine\",\"Maine\",\"Maine\",\"Maine\",\"Maine\",\"Maine\",\"Maine\",\"Michigan\",\"Michigan\",\"Michigan\",\"Michigan\",\"Michigan\",\"Michigan\",\"Michigan\",\"Michigan\",\"Minnesota\",\"Minnesota\",\"Missouri\",\"Missouri\",\"Missouri\",\"Minnesota\",\"Minnesota\",\"Missouri\",\"Minnesota\",\"Minnesota\",\"Missouri\",\"Missouri\",\"Missouri\",\"Minnesota\",\"Minnesota\",\"Mississippi\",\"Mississippi\",\"Mississippi\",\"Mississippi\",\"Mississippi\",\"Mississippi\",\"Mississippi\",\"Montana\",\"Montana\",\"Montana\",\"Montana\",\"Montana\",\"Montana\",\"Montana\",\"North Carolina\",\"North Carolina\",\"North Carolina\",\"North Carolina\",\"North Carolina\",\"North Carolina\",\"North Carolina\",\"North Carolina\",\"North Dakota\",\"North Dakota\",\"North Dakota\",\"North Dakota\",\"North Dakota\",\"North Dakota\",\"Nebraska\",\"Nebraska\",\"Nebraska\",\"Nebraska\",\"Nebraska\",\"Nebraska\",\"Nebraska\",\"Nebraska\",\"New Hampshire\",\"New Hampshire\",\"New Hampshire\",\"New Hampshire\",\"New Hampshire\",\"New Hampshire\",\"New Jersey\",\"New Jersey\",\"New Jersey\",\"New Jersey\",\"New Jersey\",\"New Jersey\",\"New Jersey\",\"New Jersey\",\"New Mexico\",\"New Mexico\",\"New Mexico\",\"New Mexico\",\"New Mexico\",\"New Mexico\",\"New Mexico\",\"New York\",\"New York\",\"Nevada\",\"Nevada\",\"New York\",\"New York\",\"Nevada\",\"New York\",\"Nevada\",\"Nevada\",\"New York\",\"Nevada\",\"Nevada\",\"New York\",\"Nevada\",\"New York\",\"Ohio\",\"Ohio\",\"Ohio\",\"Ohio\",\"Ohio\",\"Ohio\",\"Ohio\",\"Ohio\",\"Oklahoma\",\"Oklahoma\",\"Oklahoma\",\"Oklahoma\",\"Oklahoma\",\"Oklahoma\",\"Oklahoma\",\"Oklahoma\",\"Oregon\",\"Oregon\",\"Oregon\",\"Oregon\",\"Oregon\",\"Oregon\",\"Oregon\",\"Oregon\",\"Pennsylvania\",\"Pennsylvania\",\"Pennsylvania\",\"Pennsylvania\",\"Pennsylvania\",\"Pennsylvania\",\"Pennsylvania\",\"Pennsylvania\",\"Puerto Rico\",\"Puerto Rico\",\"Puerto Rico\",\"Puerto Rico\",\"Rhode Island\",\"Rhode Island\",\"Rhode Island\",\"Rhode Island\",\"Rhode Island\",\"Rhode Island\",\"Rhode Island\",\"Rhode Island\",\"South Carolina\",\"South Carolina\",\"South Carolina\",\"South Carolina\",\"South Carolina\",\"South Carolina\",\"South Carolina\",\"South Carolina\",\"South Dakota\",\"South Dakota\",\"South Dakota\",\"South Dakota\",\"South Dakota\",\"Tennessee\",\"Tennessee\",\"Tennessee\",\"Tennessee\",\"Tennessee\",\"Tennessee\",\"Tennessee\",\"Texas\",\"Texas\",\"Texas\",\"Texas\",\"Texas\",\"Texas\",\"Texas\",\"Texas\",\"Utah\",\"Utah\",\"Utah\",\"Utah\",\"Utah\",\"Utah\",\"Virginia\",\"Virginia\",\"Virginia\",\"Virginia\",\"Virginia\",\"Virginia\",\"Virginia\",\"Virginia\",\"Vermont\",\"Vermont\",\"Vermont\",\"Vermont\",\"Vermont\",\"Vermont\",\"Washington\",\"Washington\",\"Washington\",\"Washington\",\"Washington\",\"Washington\",\"Washington\",\"Washington\",\"Wisconsin\",\"Wisconsin\",\"Wisconsin\",\"Wisconsin\",\"Wisconsin\",\"Wisconsin\",\"Wisconsin\",\"Wisconsin\",\"West Virginia\",\"West Virginia\",\"West Virginia\",\"West Virginia\",\"West Virginia\",\"West Virginia\",\"West Virginia\",\"Wyoming\",\"Wyoming\",\"Wyoming\",\"Wyoming\",\"Wyoming\",\"Wyoming\",\"Wyoming\"],\"locationmode\":\"USA-states\",\"locations\":[\"AK\",\"AK\",\"AK\",\"AK\",\"AK\",\"AK\",\"AK\",\"AL\",\"AL\",\"AL\",\"AL\",\"AL\",\"AL\",\"AL\",\"AL\",\"AR\",\"AR\",\"AR\",\"AR\",\"AR\",\"AR\",\"AR\",\"AZ\",\"AZ\",\"AZ\",\"AZ\",\"AZ\",\"AZ\",\"AZ\",\"AZ\",\"CA\",\"CO\",\"CA\",\"CA\",\"CO\",\"CA\",\"CO\",\"CO\",\"CO\",\"CA\",\"CO\",\"CA\",\"CA\",\"CA\",\"CO\",\"CO\",\"CT\",\"CT\",\"CT\",\"CT\",\"CT\",\"CT\",\"CT\",\"CT\",\"DC\",\"DC\",\"DC\",\"DC\",\"DC\",\"DC\",\"DC\",\"DC\",\"DE\",\"DE\",\"DE\",\"DE\",\"DE\",\"DE\",\"DE\",\"FL\",\"FL\",\"FL\",\"FL\",\"FL\",\"FL\",\"FL\",\"FL\",\"GA\",\"GA\",\"GA\",\"GA\",\"GA\",\"GA\",\"GA\",\"GA\",\"GU\",\"GU\",\"GU\",\"GU\",\"GU\",\"GU\",\"GU\",\"HI\",\"HI\",\"HI\",\"HI\",\"HI\",\"HI\",\"HI\",\"HI\",\"IA\",\"IA\",\"IA\",\"IA\",\"IA\",\"IA\",\"IA\",\"IA\",\"IL\",\"ID\",\"ID\",\"IL\",\"IL\",\"ID\",\"ID\",\"IL\",\"ID\",\"IL\",\"ID\",\"IL\",\"IL\",\"ID\",\"IN\",\"IN\",\"IN\",\"IN\",\"IN\",\"IN\",\"IN\",\"IN\",\"KS\",\"KS\",\"KS\",\"KS\",\"KS\",\"KS\",\"KS\",\"KS\",\"KY\",\"KY\",\"KY\",\"KY\",\"KY\",\"KY\",\"KY\",\"KY\",\"LA\",\"LA\",\"LA\",\"LA\",\"LA\",\"LA\",\"LA\",\"LA\",\"MA\",\"MA\",\"MA\",\"MA\",\"MA\",\"MA\",\"MA\",\"MA\",\"MD\",\"MD\",\"MD\",\"MD\",\"MD\",\"MD\",\"MD\",\"MD\",\"ME\",\"ME\",\"ME\",\"ME\",\"ME\",\"ME\",\"ME\",\"MI\",\"MI\",\"MI\",\"MI\",\"MI\",\"MI\",\"MI\",\"MI\",\"MN\",\"MN\",\"MO\",\"MO\",\"MO\",\"MN\",\"MN\",\"MO\",\"MN\",\"MN\",\"MO\",\"MO\",\"MO\",\"MN\",\"MN\",\"MS\",\"MS\",\"MS\",\"MS\",\"MS\",\"MS\",\"MS\",\"MT\",\"MT\",\"MT\",\"MT\",\"MT\",\"MT\",\"MT\",\"NC\",\"NC\",\"NC\",\"NC\",\"NC\",\"NC\",\"NC\",\"NC\",\"ND\",\"ND\",\"ND\",\"ND\",\"ND\",\"ND\",\"NE\",\"NE\",\"NE\",\"NE\",\"NE\",\"NE\",\"NE\",\"NE\",\"NH\",\"NH\",\"NH\",\"NH\",\"NH\",\"NH\",\"NJ\",\"NJ\",\"NJ\",\"NJ\",\"NJ\",\"NJ\",\"NJ\",\"NJ\",\"NM\",\"NM\",\"NM\",\"NM\",\"NM\",\"NM\",\"NM\",\"NY\",\"NY\",\"NV\",\"NV\",\"NY\",\"NY\",\"NV\",\"NY\",\"NV\",\"NV\",\"NY\",\"NV\",\"NV\",\"NY\",\"NV\",\"NY\",\"OH\",\"OH\",\"OH\",\"OH\",\"OH\",\"OH\",\"OH\",\"OH\",\"OK\",\"OK\",\"OK\",\"OK\",\"OK\",\"OK\",\"OK\",\"OK\",\"OR\",\"OR\",\"OR\",\"OR\",\"OR\",\"OR\",\"OR\",\"OR\",\"PA\",\"PA\",\"PA\",\"PA\",\"PA\",\"PA\",\"PA\",\"PA\",\"PR\",\"PR\",\"PR\",\"PR\",\"RI\",\"RI\",\"RI\",\"RI\",\"RI\",\"RI\",\"RI\",\"RI\",\"SC\",\"SC\",\"SC\",\"SC\",\"SC\",\"SC\",\"SC\",\"SC\",\"SD\",\"SD\",\"SD\",\"SD\",\"SD\",\"TN\",\"TN\",\"TN\",\"TN\",\"TN\",\"TN\",\"TN\",\"TX\",\"TX\",\"TX\",\"TX\",\"TX\",\"TX\",\"TX\",\"TX\",\"UT\",\"UT\",\"UT\",\"UT\",\"UT\",\"UT\",\"VA\",\"VA\",\"VA\",\"VA\",\"VA\",\"VA\",\"VA\",\"VA\",\"VT\",\"VT\",\"VT\",\"VT\",\"VT\",\"VT\",\"WA\",\"WA\",\"WA\",\"WA\",\"WA\",\"WA\",\"WA\",\"WA\",\"WI\",\"WI\",\"WI\",\"WI\",\"WI\",\"WI\",\"WI\",\"WI\",\"WV\",\"WV\",\"WV\",\"WV\",\"WV\",\"WV\",\"WV\",\"WY\",\"WY\",\"WY\",\"WY\",\"WY\",\"WY\",\"WY\"],\"name\":\"\",\"z\":[29.8,30.0,32.2,24.0,27.5,32.0,20.9,30.2,26.9,28.7,34.1,37.5,35.9,34.0,34.9,34.6,45.1,33.1,30.6,36.5,26.5,36.3,21.9,32.0,31.1,25.0,28.0,33.0,26.0,35.5,26.7,28.1,27.3,29.2,22.1,29.9,16.3,25.6,30.1,33.0,25.6,23.2,31.1,27.8,26.5,29.8,30.7,29.5,32.0,32.5,23.9,27.1,26.8,25.2,25.4,19.2,31.1,27.5,26.1,15.6,25.0,17.6,35.1,28.3,30.2,35.2,32.5,22.9,30.6,34.6,24.0,35.1,34.1,37.7,38.5,32.1,29.5,29.6,29.5,23.3,38.9,29.5,24.3,33.8,23.1,27.8,21.9,30.6,29.5,29.2,36.4,30.0,28.1,31.0,31.1,29.4,32.5,34.6,20.3,25.0,31.6,31.2,25.0,30.9,26.4,32.1,20.4,25.6,34.2,22.4,29.5,30.4,31.8,19.1,31.8,27.9,27.3,23.1,24.6,30.0,33.4,30.8,32.5,24.3,23.7,21.9,32.9,27.6,33.3,34.5,23.1,22.6,27.0,32.6,31.3,30.5,26.6,30.9,26.1,36.1,35.3,20.4,35.4,29.4,37.8,36.9,34.7,33.6,33.5,37.6,21.8,33.0,36.2,35.5,30.7,26.3,31.0,29.6,32.5,29.2,28.0,31.7,27.9,29.8,35.9,28.4,33.0,18.8,28.1,31.3,34.3,36.7,27.9,39.2,45.6,31.8,36.6,33.4,25.2,36.2,35.2,36.8,35.0,22.9,24.7,28.4,22.9,34.6,27.8,25.9,28.6,15.5,33.4,25.4,27.0,32.4,31.5,31.9,26.7,20.2,36.5,36.5,33.9,34.2,23.7,38.7,36.6,24.6,28.8,21.2,27.5,17.7,20.8,26.6,31.5,35.8,34.8,25.2,17.5,26.2,33.6,33.8,29.7,30.0,21.8,30.3,27.2,31.1,23.7,31.5,29.4,30.4,10.5,30.1,20.4,32.1,24.3,32.0,31.8,30.1,30.9,25.2,29.1,31.8,35.9,32.0,30.0,32.3,33.3,34.3,25.3,35.1,26.7,29.1,29.8,22.6,30.5,23.1,32.8,33.6,32.8,30.3,32.0,29.0,32.7,31.4,32.9,31.5,28.1,34.4,31.0,28.4,32.9,26.5,23.4,16.0,24.7,31.4,30.6,32.3,33.0,35.0,34.7,32.6,25.0,37.0,31.3,25.8,36.9,24.2,27.1,18.6,31.5,32.4,28.4,31.2,29.7,29.3,32.9,32.6,20.9,31.3,22.1,28.4,30.1,34.8,35.6,33.6,34.7,29.7,32.6,23.3,31.1,22.7,24.3,33.7,20.5,28.0,35.8,35.3,33.7,35.2,34.5,27.5,32.4,28.3,26.6,30.0,27.3,24.8,34.3,34.4,36.5,34.7,32.7,34.5,27.7,31.2,30.0,32.1,31.7,19.2,25.5,35.9,35.1,24.0,16.0,27.4,24.1,26.4,25.6,32.8,32.6,30.1,26.3,35.5,24.7,30.3,34.2,26.9,31.3,28.2,28.1,25.3,28.9,26.9,31.3,21.6,31.9,24.0,28.2,22.5,29.7,34.4,32.1,33.2,34.3,30.4,32.8,22.1,25.1,36.8,31.5,37.8,20.8,35.9,37.5,37.1,30.4,21.0,22.4,23.7,29.2,28.8,29.6],\"type\":\"choropleth\"}],                        {\"template\":{\"data\":{\"histogram2dcontour\":[{\"type\":\"histogram2dcontour\",\"colorbar\":{\"outlinewidth\":0,\"ticks\":\"\"},\"colorscale\":[[0.0,\"#0d0887\"],[0.1111111111111111,\"#46039f\"],[0.2222222222222222,\"#7201a8\"],[0.3333333333333333,\"#9c179e\"],[0.4444444444444444,\"#bd3786\"],[0.5555555555555556,\"#d8576b\"],[0.6666666666666666,\"#ed7953\"],[0.7777777777777778,\"#fb9f3a\"],[0.8888888888888888,\"#fdca26\"],[1.0,\"#f0f921\"]]}],\"choropleth\":[{\"type\":\"choropleth\",\"colorbar\":{\"outlinewidth\":0,\"ticks\":\"\"}}],\"histogram2d\":[{\"type\":\"histogram2d\",\"colorbar\":{\"outlinewidth\":0,\"ticks\":\"\"},\"colorscale\":[[0.0,\"#0d0887\"],[0.1111111111111111,\"#46039f\"],[0.2222222222222222,\"#7201a8\"],[0.3333333333333333,\"#9c179e\"],[0.4444444444444444,\"#bd3786\"],[0.5555555555555556,\"#d8576b\"],[0.6666666666666666,\"#ed7953\"],[0.7777777777777778,\"#fb9f3a\"],[0.8888888888888888,\"#fdca26\"],[1.0,\"#f0f921\"]]}],\"heatmap\":[{\"type\":\"heatmap\",\"colorbar\":{\"outlinewidth\":0,\"ticks\":\"\"},\"colorscale\":[[0.0,\"#0d0887\"],[0.1111111111111111,\"#46039f\"],[0.2222222222222222,\"#7201a8\"],[0.3333333333333333,\"#9c179e\"],[0.4444444444444444,\"#bd3786\"],[0.5555555555555556,\"#d8576b\"],[0.6666666666666666,\"#ed7953\"],[0.7777777777777778,\"#fb9f3a\"],[0.8888888888888888,\"#fdca26\"],[1.0,\"#f0f921\"]]}],\"heatmapgl\":[{\"type\":\"heatmapgl\",\"colorbar\":{\"outlinewidth\":0,\"ticks\":\"\"},\"colorscale\":[[0.0,\"#0d0887\"],[0.1111111111111111,\"#46039f\"],[0.2222222222222222,\"#7201a8\"],[0.3333333333333333,\"#9c179e\"],[0.4444444444444444,\"#bd3786\"],[0.5555555555555556,\"#d8576b\"],[0.6666666666666666,\"#ed7953\"],[0.7777777777777778,\"#fb9f3a\"],[0.8888888888888888,\"#fdca26\"],[1.0,\"#f0f921\"]]}],\"contourcarpet\":[{\"type\":\"contourcarpet\",\"colorbar\":{\"outlinewidth\":0,\"ticks\":\"\"}}],\"contour\":[{\"type\":\"contour\",\"colorbar\":{\"outlinewidth\":0,\"ticks\":\"\"},\"colorscale\":[[0.0,\"#0d0887\"],[0.1111111111111111,\"#46039f\"],[0.2222222222222222,\"#7201a8\"],[0.3333333333333333,\"#9c179e\"],[0.4444444444444444,\"#bd3786\"],[0.5555555555555556,\"#d8576b\"],[0.6666666666666666,\"#ed7953\"],[0.7777777777777778,\"#fb9f3a\"],[0.8888888888888888,\"#fdca26\"],[1.0,\"#f0f921\"]]}],\"surface\":[{\"type\":\"surface\",\"colorbar\":{\"outlinewidth\":0,\"ticks\":\"\"},\"colorscale\":[[0.0,\"#0d0887\"],[0.1111111111111111,\"#46039f\"],[0.2222222222222222,\"#7201a8\"],[0.3333333333333333,\"#9c179e\"],[0.4444444444444444,\"#bd3786\"],[0.5555555555555556,\"#d8576b\"],[0.6666666666666666,\"#ed7953\"],[0.7777777777777778,\"#fb9f3a\"],[0.8888888888888888,\"#fdca26\"],[1.0,\"#f0f921\"]]}],\"mesh3d\":[{\"type\":\"mesh3d\",\"colorbar\":{\"outlinewidth\":0,\"ticks\":\"\"}}],\"scatter\":[{\"fillpattern\":{\"fillmode\":\"overlay\",\"size\":10,\"solidity\":0.2},\"type\":\"scatter\"}],\"parcoords\":[{\"type\":\"parcoords\",\"line\":{\"colorbar\":{\"outlinewidth\":0,\"ticks\":\"\"}}}],\"scatterpolargl\":[{\"type\":\"scatterpolargl\",\"marker\":{\"colorbar\":{\"outlinewidth\":0,\"ticks\":\"\"}}}],\"bar\":[{\"error_x\":{\"color\":\"#2a3f5f\"},\"error_y\":{\"color\":\"#2a3f5f\"},\"marker\":{\"line\":{\"color\":\"#E5ECF6\",\"width\":0.5},\"pattern\":{\"fillmode\":\"overlay\",\"size\":10,\"solidity\":0.2}},\"type\":\"bar\"}],\"scattergeo\":[{\"type\":\"scattergeo\",\"marker\":{\"colorbar\":{\"outlinewidth\":0,\"ticks\":\"\"}}}],\"scatterpolar\":[{\"type\":\"scatterpolar\",\"marker\":{\"colorbar\":{\"outlinewidth\":0,\"ticks\":\"\"}}}],\"histogram\":[{\"marker\":{\"pattern\":{\"fillmode\":\"overlay\",\"size\":10,\"solidity\":0.2}},\"type\":\"histogram\"}],\"scattergl\":[{\"type\":\"scattergl\",\"marker\":{\"colorbar\":{\"outlinewidth\":0,\"ticks\":\"\"}}}],\"scatter3d\":[{\"type\":\"scatter3d\",\"line\":{\"colorbar\":{\"outlinewidth\":0,\"ticks\":\"\"}},\"marker\":{\"colorbar\":{\"outlinewidth\":0,\"ticks\":\"\"}}}],\"scattermapbox\":[{\"type\":\"scattermapbox\",\"marker\":{\"colorbar\":{\"outlinewidth\":0,\"ticks\":\"\"}}}],\"scatterternary\":[{\"type\":\"scatterternary\",\"marker\":{\"colorbar\":{\"outlinewidth\":0,\"ticks\":\"\"}}}],\"scattercarpet\":[{\"type\":\"scattercarpet\",\"marker\":{\"colorbar\":{\"outlinewidth\":0,\"ticks\":\"\"}}}],\"carpet\":[{\"aaxis\":{\"endlinecolor\":\"#2a3f5f\",\"gridcolor\":\"white\",\"linecolor\":\"white\",\"minorgridcolor\":\"white\",\"startlinecolor\":\"#2a3f5f\"},\"baxis\":{\"endlinecolor\":\"#2a3f5f\",\"gridcolor\":\"white\",\"linecolor\":\"white\",\"minorgridcolor\":\"white\",\"startlinecolor\":\"#2a3f5f\"},\"type\":\"carpet\"}],\"table\":[{\"cells\":{\"fill\":{\"color\":\"#EBF0F8\"},\"line\":{\"color\":\"white\"}},\"header\":{\"fill\":{\"color\":\"#C8D4E3\"},\"line\":{\"color\":\"white\"}},\"type\":\"table\"}],\"barpolar\":[{\"marker\":{\"line\":{\"color\":\"#E5ECF6\",\"width\":0.5},\"pattern\":{\"fillmode\":\"overlay\",\"size\":10,\"solidity\":0.2}},\"type\":\"barpolar\"}],\"pie\":[{\"automargin\":true,\"type\":\"pie\"}]},\"layout\":{\"autotypenumbers\":\"strict\",\"colorway\":[\"#636efa\",\"#EF553B\",\"#00cc96\",\"#ab63fa\",\"#FFA15A\",\"#19d3f3\",\"#FF6692\",\"#B6E880\",\"#FF97FF\",\"#FECB52\"],\"font\":{\"color\":\"#2a3f5f\"},\"hovermode\":\"closest\",\"hoverlabel\":{\"align\":\"left\"},\"paper_bgcolor\":\"white\",\"plot_bgcolor\":\"#E5ECF6\",\"polar\":{\"bgcolor\":\"#E5ECF6\",\"angularaxis\":{\"gridcolor\":\"white\",\"linecolor\":\"white\",\"ticks\":\"\"},\"radialaxis\":{\"gridcolor\":\"white\",\"linecolor\":\"white\",\"ticks\":\"\"}},\"ternary\":{\"bgcolor\":\"#E5ECF6\",\"aaxis\":{\"gridcolor\":\"white\",\"linecolor\":\"white\",\"ticks\":\"\"},\"baxis\":{\"gridcolor\":\"white\",\"linecolor\":\"white\",\"ticks\":\"\"},\"caxis\":{\"gridcolor\":\"white\",\"linecolor\":\"white\",\"ticks\":\"\"}},\"coloraxis\":{\"colorbar\":{\"outlinewidth\":0,\"ticks\":\"\"}},\"colorscale\":{\"sequential\":[[0.0,\"#0d0887\"],[0.1111111111111111,\"#46039f\"],[0.2222222222222222,\"#7201a8\"],[0.3333333333333333,\"#9c179e\"],[0.4444444444444444,\"#bd3786\"],[0.5555555555555556,\"#d8576b\"],[0.6666666666666666,\"#ed7953\"],[0.7777777777777778,\"#fb9f3a\"],[0.8888888888888888,\"#fdca26\"],[1.0,\"#f0f921\"]],\"sequentialminus\":[[0.0,\"#0d0887\"],[0.1111111111111111,\"#46039f\"],[0.2222222222222222,\"#7201a8\"],[0.3333333333333333,\"#9c179e\"],[0.4444444444444444,\"#bd3786\"],[0.5555555555555556,\"#d8576b\"],[0.6666666666666666,\"#ed7953\"],[0.7777777777777778,\"#fb9f3a\"],[0.8888888888888888,\"#fdca26\"],[1.0,\"#f0f921\"]],\"diverging\":[[0,\"#8e0152\"],[0.1,\"#c51b7d\"],[0.2,\"#de77ae\"],[0.3,\"#f1b6da\"],[0.4,\"#fde0ef\"],[0.5,\"#f7f7f7\"],[0.6,\"#e6f5d0\"],[0.7,\"#b8e186\"],[0.8,\"#7fbc41\"],[0.9,\"#4d9221\"],[1,\"#276419\"]]},\"xaxis\":{\"gridcolor\":\"white\",\"linecolor\":\"white\",\"ticks\":\"\",\"title\":{\"standoff\":15},\"zerolinecolor\":\"white\",\"automargin\":true,\"zerolinewidth\":2},\"yaxis\":{\"gridcolor\":\"white\",\"linecolor\":\"white\",\"ticks\":\"\",\"title\":{\"standoff\":15},\"zerolinecolor\":\"white\",\"automargin\":true,\"zerolinewidth\":2},\"scene\":{\"xaxis\":{\"backgroundcolor\":\"#E5ECF6\",\"gridcolor\":\"white\",\"linecolor\":\"white\",\"showbackground\":true,\"ticks\":\"\",\"zerolinecolor\":\"white\",\"gridwidth\":2},\"yaxis\":{\"backgroundcolor\":\"#E5ECF6\",\"gridcolor\":\"white\",\"linecolor\":\"white\",\"showbackground\":true,\"ticks\":\"\",\"zerolinecolor\":\"white\",\"gridwidth\":2},\"zaxis\":{\"backgroundcolor\":\"#E5ECF6\",\"gridcolor\":\"white\",\"linecolor\":\"white\",\"showbackground\":true,\"ticks\":\"\",\"zerolinecolor\":\"white\",\"gridwidth\":2}},\"shapedefaults\":{\"line\":{\"color\":\"#2a3f5f\"}},\"annotationdefaults\":{\"arrowcolor\":\"#2a3f5f\",\"arrowhead\":0,\"arrowwidth\":1},\"geo\":{\"bgcolor\":\"white\",\"landcolor\":\"#E5ECF6\",\"subunitcolor\":\"white\",\"showland\":true,\"showlakes\":true,\"lakecolor\":\"white\"},\"title\":{\"x\":0.05},\"mapbox\":{\"style\":\"light\"}}},\"geo\":{\"domain\":{\"x\":[0.0,1.0],\"y\":[0.0,1.0]},\"center\":{},\"scope\":\"usa\"},\"coloraxis\":{\"colorbar\":{\"title\":{\"text\":\"cholestrol percentages\"}},\"colorscale\":[[0.0,\"rgb(253, 237, 176)\"],[0.09090909090909091,\"rgb(250, 205, 145)\"],[0.18181818181818182,\"rgb(246, 173, 119)\"],[0.2727272727272727,\"rgb(240, 142, 98)\"],[0.36363636363636365,\"rgb(231, 109, 84)\"],[0.45454545454545453,\"rgb(216, 80, 83)\"],[0.5454545454545454,\"rgb(195, 56, 90)\"],[0.6363636363636364,\"rgb(168, 40, 96)\"],[0.7272727272727273,\"rgb(138, 29, 99)\"],[0.8181818181818182,\"rgb(107, 24, 93)\"],[0.9090909090909091,\"rgb(76, 21, 80)\"],[1.0,\"rgb(47, 15, 61)\"]]},\"legend\":{\"tracegroupgap\":0},\"title\":{\"text\":\"High cholestrol crude rate percentages who are suffering with CVD_2017\"}},                        {\"responsive\": true}                    ).then(function(){\n",
              "                            \n",
              "var gd = document.getElementById('8b0c2ed7-0f98-42e8-b776-fc5be70ca9dc');\n",
              "var x = new MutationObserver(function (mutations, observer) {{\n",
              "        var display = window.getComputedStyle(gd).display;\n",
              "        if (!display || display === 'none') {{\n",
              "            console.log([gd, 'removed!']);\n",
              "            Plotly.purge(gd);\n",
              "            observer.disconnect();\n",
              "        }}\n",
              "}});\n",
              "\n",
              "// Listen for the removal of the full notebook cells\n",
              "var notebookContainer = gd.closest('#notebook-container');\n",
              "if (notebookContainer) {{\n",
              "    x.observe(notebookContainer, {childList: true});\n",
              "}}\n",
              "\n",
              "// Listen for the clearing of the current output cell\n",
              "var outputEl = gd.closest('.output');\n",
              "if (outputEl) {{\n",
              "    x.observe(outputEl, {childList: true});\n",
              "}}\n",
              "\n",
              "                        })                };                            </script>        </div>\n",
              "</body>\n",
              "</html>"
            ]
          },
          "metadata": {},
          "output_type": "display_data"
        }
      ],
      "source": [
        "# choropleth mapping for cholestrol crude rate in the year 2017\n",
        "\n",
        "fig = px.choropleth(Cholesterol_2017,locations=\"LocationAbbr\",locationmode='USA-states',color= 'DataValue',color_continuous_scale='Matter',  scope='usa',hover_name=\"LocationDesc\",labels = {'DataValue':'cholestrol percentages'},title=\"High cholestrol crude rate percentages who are suffering with CVD_2017\")\n",
        "fig.show()\n"
      ]
    },
    {
      "cell_type": "code",
      "execution_count": null,
      "metadata": {
        "colab": {
          "base_uri": "https://localhost:8080/",
          "height": 542
        },
        "id": "nmrMACsw5cUP",
        "outputId": "bc7cbcec-f149-4666-8eb9-d5e587c3ce1f"
      },
      "outputs": [
        {
          "data": {
            "text/html": [
              "<html>\n",
              "<head><meta charset=\"utf-8\" /></head>\n",
              "<body>\n",
              "    <div>            <script src=\"https://cdnjs.cloudflare.com/ajax/libs/mathjax/2.7.5/MathJax.js?config=TeX-AMS-MML_SVG\"></script><script type=\"text/javascript\">if (window.MathJax && window.MathJax.Hub && window.MathJax.Hub.Config) {window.MathJax.Hub.Config({SVG: {font: \"STIX-Web\"}});}</script>                <script type=\"text/javascript\">window.PlotlyConfig = {MathJaxConfig: 'local'};</script>\n",
              "        <script src=\"https://cdn.plot.ly/plotly-2.18.2.min.js\"></script>                <div id=\"98438a1a-9e3e-47bb-830f-bdbbe628f8c9\" class=\"plotly-graph-div\" style=\"height:525px; width:100%;\"></div>            <script type=\"text/javascript\">                                    window.PLOTLYENV=window.PLOTLYENV || {};                                    if (document.getElementById(\"98438a1a-9e3e-47bb-830f-bdbbe628f8c9\")) {                    Plotly.newPlot(                        \"98438a1a-9e3e-47bb-830f-bdbbe628f8c9\",                        [{\"coloraxis\":\"coloraxis\",\"geo\":\"geo\",\"hovertemplate\":\"<b>%{hovertext}</b><br><br>LocationAbbr=%{location}<br>cholestrol percentages=%{z}<extra></extra>\",\"hovertext\":[\"Alaska\",\"Alaska\",\"Alaska\",\"Alaska\",\"Alaska\",\"Alaska\",\"Alabama\",\"Alabama\",\"Alabama\",\"Alabama\",\"Alabama\",\"Alabama\",\"Alabama\",\"Alabama\",\"Arkansas\",\"Arkansas\",\"Arkansas\",\"Arkansas\",\"Arkansas\",\"Arkansas\",\"Arkansas\",\"Arkansas\",\"Arizona\",\"Arizona\",\"Arizona\",\"Arizona\",\"Arizona\",\"Arizona\",\"Arizona\",\"Arizona\",\"California\",\"Colorado\",\"California\",\"Colorado\",\"Colorado\",\"California\",\"California\",\"Colorado\",\"Colorado\",\"California\",\"Colorado\",\"California\",\"Colorado\",\"California\",\"California\",\"Colorado\",\"Connecticut\",\"Connecticut\",\"Connecticut\",\"Connecticut\",\"Connecticut\",\"Connecticut\",\"Connecticut\",\"Connecticut\",\"District of Columbia\",\"District of Columbia\",\"District of Columbia\",\"District of Columbia\",\"District of Columbia\",\"District of Columbia\",\"District of Columbia\",\"Delaware\",\"Delaware\",\"Delaware\",\"Delaware\",\"Delaware\",\"Delaware\",\"Delaware\",\"Delaware\",\"Florida\",\"Florida\",\"Florida\",\"Florida\",\"Florida\",\"Florida\",\"Florida\",\"Florida\",\"Georgia\",\"Georgia\",\"Georgia\",\"Georgia\",\"Georgia\",\"Georgia\",\"Georgia\",\"Georgia\",\"Guam\",\"Guam\",\"Guam\",\"Guam\",\"Guam\",\"Guam\",\"Guam\",\"Hawaii\",\"Hawaii\",\"Hawaii\",\"Hawaii\",\"Hawaii\",\"Hawaii\",\"Hawaii\",\"Iowa\",\"Iowa\",\"Iowa\",\"Iowa\",\"Iowa\",\"Iowa\",\"Iowa\",\"Iowa\",\"Illinois\",\"Illinois\",\"Idaho\",\"Illinois\",\"Idaho\",\"Illinois\",\"Illinois\",\"Illinois\",\"Idaho\",\"Idaho\",\"Illinois\",\"Illinois\",\"Idaho\",\"Idaho\",\"Indiana\",\"Indiana\",\"Indiana\",\"Indiana\",\"Indiana\",\"Indiana\",\"Indiana\",\"Indiana\",\"Kansas\",\"Kansas\",\"Kansas\",\"Kansas\",\"Kansas\",\"Kansas\",\"Kansas\",\"Kansas\",\"Kentucky\",\"Kentucky\",\"Kentucky\",\"Kentucky\",\"Kentucky\",\"Kentucky\",\"Kentucky\",\"Louisiana\",\"Louisiana\",\"Louisiana\",\"Louisiana\",\"Louisiana\",\"Louisiana\",\"Louisiana\",\"Louisiana\",\"Massachusetts\",\"Massachusetts\",\"Massachusetts\",\"Massachusetts\",\"Massachusetts\",\"Massachusetts\",\"Massachusetts\",\"Massachusetts\",\"Maryland\",\"Maryland\",\"Maryland\",\"Maryland\",\"Maryland\",\"Maryland\",\"Maryland\",\"Maryland\",\"Maine\",\"Maine\",\"Maine\",\"Maine\",\"Maine\",\"Maine\",\"Maine\",\"Michigan\",\"Michigan\",\"Michigan\",\"Michigan\",\"Michigan\",\"Michigan\",\"Michigan\",\"Michigan\",\"Missouri\",\"Minnesota\",\"Minnesota\",\"Minnesota\",\"Minnesota\",\"Missouri\",\"Missouri\",\"Missouri\",\"Minnesota\",\"Missouri\",\"Minnesota\",\"Missouri\",\"Minnesota\",\"Minnesota\",\"Missouri\",\"Missouri\",\"Mississippi\",\"Mississippi\",\"Mississippi\",\"Mississippi\",\"Mississippi\",\"Mississippi\",\"Montana\",\"Montana\",\"Montana\",\"Montana\",\"Montana\",\"Montana\",\"Montana\",\"North Carolina\",\"North Carolina\",\"North Carolina\",\"North Carolina\",\"North Carolina\",\"North Carolina\",\"North Carolina\",\"North Carolina\",\"North Dakota\",\"North Dakota\",\"North Dakota\",\"North Dakota\",\"North Dakota\",\"Nebraska\",\"Nebraska\",\"Nebraska\",\"Nebraska\",\"Nebraska\",\"Nebraska\",\"Nebraska\",\"Nebraska\",\"New Hampshire\",\"New Hampshire\",\"New Hampshire\",\"New Hampshire\",\"New Hampshire\",\"New Mexico\",\"New Mexico\",\"New Mexico\",\"New Mexico\",\"New Mexico\",\"New Mexico\",\"New Mexico\",\"New Mexico\",\"New York\",\"New York\",\"Nevada\",\"Nevada\",\"New York\",\"Nevada\",\"New York\",\"Nevada\",\"New York\",\"New York\",\"Nevada\",\"Nevada\",\"New York\",\"Nevada\",\"Nevada\",\"New York\",\"Ohio\",\"Ohio\",\"Ohio\",\"Ohio\",\"Ohio\",\"Ohio\",\"Ohio\",\"Ohio\",\"Oklahoma\",\"Oklahoma\",\"Oklahoma\",\"Oklahoma\",\"Oklahoma\",\"Oklahoma\",\"Oklahoma\",\"Oklahoma\",\"Oregon\",\"Oregon\",\"Oregon\",\"Oregon\",\"Oregon\",\"Oregon\",\"Oregon\",\"Oregon\",\"Pennsylvania\",\"Pennsylvania\",\"Pennsylvania\",\"Pennsylvania\",\"Pennsylvania\",\"Pennsylvania\",\"Pennsylvania\",\"Pennsylvania\",\"Puerto Rico\",\"Puerto Rico\",\"Puerto Rico\",\"Puerto Rico\",\"Rhode Island\",\"Rhode Island\",\"Rhode Island\",\"Rhode Island\",\"Rhode Island\",\"Rhode Island\",\"Rhode Island\",\"Rhode Island\",\"South Carolina\",\"South Carolina\",\"South Carolina\",\"South Carolina\",\"South Carolina\",\"South Carolina\",\"South Carolina\",\"South Carolina\",\"South Dakota\",\"South Dakota\",\"South Dakota\",\"South Dakota\",\"South Dakota\",\"Tennessee\",\"Tennessee\",\"Tennessee\",\"Tennessee\",\"Tennessee\",\"Tennessee\",\"Tennessee\",\"Tennessee\",\"Texas\",\"Texas\",\"Texas\",\"Texas\",\"Texas\",\"Texas\",\"Texas\",\"Texas\",\"Utah\",\"Utah\",\"Utah\",\"Utah\",\"Utah\",\"Utah\",\"Virginia\",\"Virginia\",\"Virginia\",\"Virginia\",\"Virginia\",\"Virginia\",\"Virginia\",\"Virginia\",\"Vermont\",\"Vermont\",\"Vermont\",\"Vermont\",\"Vermont\",\"Vermont\",\"Washington\",\"Washington\",\"Washington\",\"Washington\",\"Washington\",\"Washington\",\"Washington\",\"Washington\",\"Wisconsin\",\"Wisconsin\",\"Wisconsin\",\"Wisconsin\",\"Wisconsin\",\"Wisconsin\",\"Wisconsin\",\"West Virginia\",\"West Virginia\",\"West Virginia\",\"West Virginia\",\"West Virginia\",\"West Virginia\",\"Wyoming\",\"Wyoming\",\"Wyoming\",\"Wyoming\",\"Wyoming\",\"Wyoming\"],\"locationmode\":\"USA-states\",\"locations\":[\"AK\",\"AK\",\"AK\",\"AK\",\"AK\",\"AK\",\"AL\",\"AL\",\"AL\",\"AL\",\"AL\",\"AL\",\"AL\",\"AL\",\"AR\",\"AR\",\"AR\",\"AR\",\"AR\",\"AR\",\"AR\",\"AR\",\"AZ\",\"AZ\",\"AZ\",\"AZ\",\"AZ\",\"AZ\",\"AZ\",\"AZ\",\"CA\",\"CO\",\"CA\",\"CO\",\"CO\",\"CA\",\"CA\",\"CO\",\"CO\",\"CA\",\"CO\",\"CA\",\"CO\",\"CA\",\"CA\",\"CO\",\"CT\",\"CT\",\"CT\",\"CT\",\"CT\",\"CT\",\"CT\",\"CT\",\"DC\",\"DC\",\"DC\",\"DC\",\"DC\",\"DC\",\"DC\",\"DE\",\"DE\",\"DE\",\"DE\",\"DE\",\"DE\",\"DE\",\"DE\",\"FL\",\"FL\",\"FL\",\"FL\",\"FL\",\"FL\",\"FL\",\"FL\",\"GA\",\"GA\",\"GA\",\"GA\",\"GA\",\"GA\",\"GA\",\"GA\",\"GU\",\"GU\",\"GU\",\"GU\",\"GU\",\"GU\",\"GU\",\"HI\",\"HI\",\"HI\",\"HI\",\"HI\",\"HI\",\"HI\",\"IA\",\"IA\",\"IA\",\"IA\",\"IA\",\"IA\",\"IA\",\"IA\",\"IL\",\"IL\",\"ID\",\"IL\",\"ID\",\"IL\",\"IL\",\"IL\",\"ID\",\"ID\",\"IL\",\"IL\",\"ID\",\"ID\",\"IN\",\"IN\",\"IN\",\"IN\",\"IN\",\"IN\",\"IN\",\"IN\",\"KS\",\"KS\",\"KS\",\"KS\",\"KS\",\"KS\",\"KS\",\"KS\",\"KY\",\"KY\",\"KY\",\"KY\",\"KY\",\"KY\",\"KY\",\"LA\",\"LA\",\"LA\",\"LA\",\"LA\",\"LA\",\"LA\",\"LA\",\"MA\",\"MA\",\"MA\",\"MA\",\"MA\",\"MA\",\"MA\",\"MA\",\"MD\",\"MD\",\"MD\",\"MD\",\"MD\",\"MD\",\"MD\",\"MD\",\"ME\",\"ME\",\"ME\",\"ME\",\"ME\",\"ME\",\"ME\",\"MI\",\"MI\",\"MI\",\"MI\",\"MI\",\"MI\",\"MI\",\"MI\",\"MO\",\"MN\",\"MN\",\"MN\",\"MN\",\"MO\",\"MO\",\"MO\",\"MN\",\"MO\",\"MN\",\"MO\",\"MN\",\"MN\",\"MO\",\"MO\",\"MS\",\"MS\",\"MS\",\"MS\",\"MS\",\"MS\",\"MT\",\"MT\",\"MT\",\"MT\",\"MT\",\"MT\",\"MT\",\"NC\",\"NC\",\"NC\",\"NC\",\"NC\",\"NC\",\"NC\",\"NC\",\"ND\",\"ND\",\"ND\",\"ND\",\"ND\",\"NE\",\"NE\",\"NE\",\"NE\",\"NE\",\"NE\",\"NE\",\"NE\",\"NH\",\"NH\",\"NH\",\"NH\",\"NH\",\"NM\",\"NM\",\"NM\",\"NM\",\"NM\",\"NM\",\"NM\",\"NM\",\"NY\",\"NY\",\"NV\",\"NV\",\"NY\",\"NV\",\"NY\",\"NV\",\"NY\",\"NY\",\"NV\",\"NV\",\"NY\",\"NV\",\"NV\",\"NY\",\"OH\",\"OH\",\"OH\",\"OH\",\"OH\",\"OH\",\"OH\",\"OH\",\"OK\",\"OK\",\"OK\",\"OK\",\"OK\",\"OK\",\"OK\",\"OK\",\"OR\",\"OR\",\"OR\",\"OR\",\"OR\",\"OR\",\"OR\",\"OR\",\"PA\",\"PA\",\"PA\",\"PA\",\"PA\",\"PA\",\"PA\",\"PA\",\"PR\",\"PR\",\"PR\",\"PR\",\"RI\",\"RI\",\"RI\",\"RI\",\"RI\",\"RI\",\"RI\",\"RI\",\"SC\",\"SC\",\"SC\",\"SC\",\"SC\",\"SC\",\"SC\",\"SC\",\"SD\",\"SD\",\"SD\",\"SD\",\"SD\",\"TN\",\"TN\",\"TN\",\"TN\",\"TN\",\"TN\",\"TN\",\"TN\",\"TX\",\"TX\",\"TX\",\"TX\",\"TX\",\"TX\",\"TX\",\"TX\",\"UT\",\"UT\",\"UT\",\"UT\",\"UT\",\"UT\",\"VA\",\"VA\",\"VA\",\"VA\",\"VA\",\"VA\",\"VA\",\"VA\",\"VT\",\"VT\",\"VT\",\"VT\",\"VT\",\"VT\",\"WA\",\"WA\",\"WA\",\"WA\",\"WA\",\"WA\",\"WA\",\"WA\",\"WI\",\"WI\",\"WI\",\"WI\",\"WI\",\"WI\",\"WI\",\"WV\",\"WV\",\"WV\",\"WV\",\"WV\",\"WV\",\"WY\",\"WY\",\"WY\",\"WY\",\"WY\",\"WY\"],\"name\":\"\",\"z\":[16.1,32.8,28.5,30.7,28.7,34.0,37.9,37.5,38.2,26.9,40.5,38.5,28.4,33.3,19.8,38.4,43.8,37.9,39.0,40.6,41.1,34.4,35.9,34.6,33.5,34.0,24.4,34.4,38.7,29.2,30.4,25.7,25.6,31.1,31.0,28.2,35.3,28.9,32.5,27.3,33.2,33.0,26.7,28.8,30.8,26.8,30.7,37.3,35.4,31.0,36.5,29.3,34.3,33.9,19.3,28.8,34.3,30.7,22.4,25.9,27.3,35.9,35.7,34.0,17.2,38.2,28.0,39.2,32.5,33.7,35.2,26.4,38.6,26.4,29.6,34.4,43.6,31.7,38.1,17.0,35.7,33.6,30.2,24.5,21.5,29.4,34.5,35.3,27.6,30.3,33.1,29.7,28.4,33.8,28.6,31.1,33.7,24.1,33.4,21.9,26.2,35.8,18.6,35.7,24.7,34.4,33.2,24.1,34.2,32.6,31.2,19.7,36.3,26.6,27.3,38.5,34.1,29.5,32.6,34.5,30.9,37.7,36.3,31.0,32.8,26.9,25.6,35.1,32.8,37.2,35.0,32.6,25.5,37.5,36.3,36.0,34.7,38.4,39.2,29.8,34.3,29.8,38.0,37.7,34.0,34.9,33.1,39.6,38.8,39.1,35.9,42.8,32.5,34.5,22.7,31.3,28.5,31.6,30.8,24.7,30.9,28.4,35.5,33.8,38.7,34.6,37.5,32.0,33.8,35.9,38.4,53.4,30.8,36.1,20.0,36.0,31.6,20.6,31.7,37.7,30.6,38.0,34.6,35.6,20.6,21.3,25.2,31.0,37.2,34.2,31.0,34.2,36.5,27.3,30.5,32.4,28.2,28.9,44.6,38.0,31.4,38.0,38.1,19.5,42.8,30.9,32.0,23.8,26.0,32.7,30.0,34.1,38.2,32.1,33.7,27.2,31.9,36.2,36.9,35.5,30.5,31.6,30.7,30.3,23.9,31.4,33.4,32.4,27.6,20.5,26.7,34.2,19.8,34.1,37.9,37.4,33.8,30.5,29.1,35.8,32.6,29.9,37.8,29.7,28.6,36.5,30.3,37.0,36.1,35.9,35.2,25.8,30.5,34.9,32.9,34.7,27.3,37.3,33.4,38.6,35.7,32.2,32.7,35.9,34.2,27.2,21.8,35.8,32.1,16.9,30.4,34.5,37.8,37.4,38.2,40.3,29.2,33.1,32.2,31.5,25.3,30.8,23.9,33.5,27.1,24.8,36.3,29.4,36.2,33.2,27.7,34.6,43.5,29.0,39.0,37.4,38.1,38.1,34.5,27.6,25.0,28.6,38.3,33.0,30.2,36.2,17.2,35.5,43.4,41.5,38.8,38.6,26.7,38.7,29.8,33.0,31.4,26.7,33.0,37.6,35.8,38.3,18.2,39.4,39.7,29.3,36.3,34.4,31.0,30.2,40.9,36.0,36.2,36.4,37.9,30.9,25.5,32.1,27.7,33.5,28.5,36.0,33.6,32.0,20.8,35.9,36.3,27.8,31.4,32.0,30.0,32.1,35.5,29.0,26.9,29.6,33.2,36.4,30.2,34.5,29.8,34.9,26.7,31.2,35.9,33.7,22.8,34.7,37.2,32.5,34.1,40.9,39.8,42.2,41.8,26.4,27.8,29.5,26.7,31.4,30.8,21.7],\"type\":\"choropleth\"}],                        {\"template\":{\"data\":{\"histogram2dcontour\":[{\"type\":\"histogram2dcontour\",\"colorbar\":{\"outlinewidth\":0,\"ticks\":\"\"},\"colorscale\":[[0.0,\"#0d0887\"],[0.1111111111111111,\"#46039f\"],[0.2222222222222222,\"#7201a8\"],[0.3333333333333333,\"#9c179e\"],[0.4444444444444444,\"#bd3786\"],[0.5555555555555556,\"#d8576b\"],[0.6666666666666666,\"#ed7953\"],[0.7777777777777778,\"#fb9f3a\"],[0.8888888888888888,\"#fdca26\"],[1.0,\"#f0f921\"]]}],\"choropleth\":[{\"type\":\"choropleth\",\"colorbar\":{\"outlinewidth\":0,\"ticks\":\"\"}}],\"histogram2d\":[{\"type\":\"histogram2d\",\"colorbar\":{\"outlinewidth\":0,\"ticks\":\"\"},\"colorscale\":[[0.0,\"#0d0887\"],[0.1111111111111111,\"#46039f\"],[0.2222222222222222,\"#7201a8\"],[0.3333333333333333,\"#9c179e\"],[0.4444444444444444,\"#bd3786\"],[0.5555555555555556,\"#d8576b\"],[0.6666666666666666,\"#ed7953\"],[0.7777777777777778,\"#fb9f3a\"],[0.8888888888888888,\"#fdca26\"],[1.0,\"#f0f921\"]]}],\"heatmap\":[{\"type\":\"heatmap\",\"colorbar\":{\"outlinewidth\":0,\"ticks\":\"\"},\"colorscale\":[[0.0,\"#0d0887\"],[0.1111111111111111,\"#46039f\"],[0.2222222222222222,\"#7201a8\"],[0.3333333333333333,\"#9c179e\"],[0.4444444444444444,\"#bd3786\"],[0.5555555555555556,\"#d8576b\"],[0.6666666666666666,\"#ed7953\"],[0.7777777777777778,\"#fb9f3a\"],[0.8888888888888888,\"#fdca26\"],[1.0,\"#f0f921\"]]}],\"heatmapgl\":[{\"type\":\"heatmapgl\",\"colorbar\":{\"outlinewidth\":0,\"ticks\":\"\"},\"colorscale\":[[0.0,\"#0d0887\"],[0.1111111111111111,\"#46039f\"],[0.2222222222222222,\"#7201a8\"],[0.3333333333333333,\"#9c179e\"],[0.4444444444444444,\"#bd3786\"],[0.5555555555555556,\"#d8576b\"],[0.6666666666666666,\"#ed7953\"],[0.7777777777777778,\"#fb9f3a\"],[0.8888888888888888,\"#fdca26\"],[1.0,\"#f0f921\"]]}],\"contourcarpet\":[{\"type\":\"contourcarpet\",\"colorbar\":{\"outlinewidth\":0,\"ticks\":\"\"}}],\"contour\":[{\"type\":\"contour\",\"colorbar\":{\"outlinewidth\":0,\"ticks\":\"\"},\"colorscale\":[[0.0,\"#0d0887\"],[0.1111111111111111,\"#46039f\"],[0.2222222222222222,\"#7201a8\"],[0.3333333333333333,\"#9c179e\"],[0.4444444444444444,\"#bd3786\"],[0.5555555555555556,\"#d8576b\"],[0.6666666666666666,\"#ed7953\"],[0.7777777777777778,\"#fb9f3a\"],[0.8888888888888888,\"#fdca26\"],[1.0,\"#f0f921\"]]}],\"surface\":[{\"type\":\"surface\",\"colorbar\":{\"outlinewidth\":0,\"ticks\":\"\"},\"colorscale\":[[0.0,\"#0d0887\"],[0.1111111111111111,\"#46039f\"],[0.2222222222222222,\"#7201a8\"],[0.3333333333333333,\"#9c179e\"],[0.4444444444444444,\"#bd3786\"],[0.5555555555555556,\"#d8576b\"],[0.6666666666666666,\"#ed7953\"],[0.7777777777777778,\"#fb9f3a\"],[0.8888888888888888,\"#fdca26\"],[1.0,\"#f0f921\"]]}],\"mesh3d\":[{\"type\":\"mesh3d\",\"colorbar\":{\"outlinewidth\":0,\"ticks\":\"\"}}],\"scatter\":[{\"fillpattern\":{\"fillmode\":\"overlay\",\"size\":10,\"solidity\":0.2},\"type\":\"scatter\"}],\"parcoords\":[{\"type\":\"parcoords\",\"line\":{\"colorbar\":{\"outlinewidth\":0,\"ticks\":\"\"}}}],\"scatterpolargl\":[{\"type\":\"scatterpolargl\",\"marker\":{\"colorbar\":{\"outlinewidth\":0,\"ticks\":\"\"}}}],\"bar\":[{\"error_x\":{\"color\":\"#2a3f5f\"},\"error_y\":{\"color\":\"#2a3f5f\"},\"marker\":{\"line\":{\"color\":\"#E5ECF6\",\"width\":0.5},\"pattern\":{\"fillmode\":\"overlay\",\"size\":10,\"solidity\":0.2}},\"type\":\"bar\"}],\"scattergeo\":[{\"type\":\"scattergeo\",\"marker\":{\"colorbar\":{\"outlinewidth\":0,\"ticks\":\"\"}}}],\"scatterpolar\":[{\"type\":\"scatterpolar\",\"marker\":{\"colorbar\":{\"outlinewidth\":0,\"ticks\":\"\"}}}],\"histogram\":[{\"marker\":{\"pattern\":{\"fillmode\":\"overlay\",\"size\":10,\"solidity\":0.2}},\"type\":\"histogram\"}],\"scattergl\":[{\"type\":\"scattergl\",\"marker\":{\"colorbar\":{\"outlinewidth\":0,\"ticks\":\"\"}}}],\"scatter3d\":[{\"type\":\"scatter3d\",\"line\":{\"colorbar\":{\"outlinewidth\":0,\"ticks\":\"\"}},\"marker\":{\"colorbar\":{\"outlinewidth\":0,\"ticks\":\"\"}}}],\"scattermapbox\":[{\"type\":\"scattermapbox\",\"marker\":{\"colorbar\":{\"outlinewidth\":0,\"ticks\":\"\"}}}],\"scatterternary\":[{\"type\":\"scatterternary\",\"marker\":{\"colorbar\":{\"outlinewidth\":0,\"ticks\":\"\"}}}],\"scattercarpet\":[{\"type\":\"scattercarpet\",\"marker\":{\"colorbar\":{\"outlinewidth\":0,\"ticks\":\"\"}}}],\"carpet\":[{\"aaxis\":{\"endlinecolor\":\"#2a3f5f\",\"gridcolor\":\"white\",\"linecolor\":\"white\",\"minorgridcolor\":\"white\",\"startlinecolor\":\"#2a3f5f\"},\"baxis\":{\"endlinecolor\":\"#2a3f5f\",\"gridcolor\":\"white\",\"linecolor\":\"white\",\"minorgridcolor\":\"white\",\"startlinecolor\":\"#2a3f5f\"},\"type\":\"carpet\"}],\"table\":[{\"cells\":{\"fill\":{\"color\":\"#EBF0F8\"},\"line\":{\"color\":\"white\"}},\"header\":{\"fill\":{\"color\":\"#C8D4E3\"},\"line\":{\"color\":\"white\"}},\"type\":\"table\"}],\"barpolar\":[{\"marker\":{\"line\":{\"color\":\"#E5ECF6\",\"width\":0.5},\"pattern\":{\"fillmode\":\"overlay\",\"size\":10,\"solidity\":0.2}},\"type\":\"barpolar\"}],\"pie\":[{\"automargin\":true,\"type\":\"pie\"}]},\"layout\":{\"autotypenumbers\":\"strict\",\"colorway\":[\"#636efa\",\"#EF553B\",\"#00cc96\",\"#ab63fa\",\"#FFA15A\",\"#19d3f3\",\"#FF6692\",\"#B6E880\",\"#FF97FF\",\"#FECB52\"],\"font\":{\"color\":\"#2a3f5f\"},\"hovermode\":\"closest\",\"hoverlabel\":{\"align\":\"left\"},\"paper_bgcolor\":\"white\",\"plot_bgcolor\":\"#E5ECF6\",\"polar\":{\"bgcolor\":\"#E5ECF6\",\"angularaxis\":{\"gridcolor\":\"white\",\"linecolor\":\"white\",\"ticks\":\"\"},\"radialaxis\":{\"gridcolor\":\"white\",\"linecolor\":\"white\",\"ticks\":\"\"}},\"ternary\":{\"bgcolor\":\"#E5ECF6\",\"aaxis\":{\"gridcolor\":\"white\",\"linecolor\":\"white\",\"ticks\":\"\"},\"baxis\":{\"gridcolor\":\"white\",\"linecolor\":\"white\",\"ticks\":\"\"},\"caxis\":{\"gridcolor\":\"white\",\"linecolor\":\"white\",\"ticks\":\"\"}},\"coloraxis\":{\"colorbar\":{\"outlinewidth\":0,\"ticks\":\"\"}},\"colorscale\":{\"sequential\":[[0.0,\"#0d0887\"],[0.1111111111111111,\"#46039f\"],[0.2222222222222222,\"#7201a8\"],[0.3333333333333333,\"#9c179e\"],[0.4444444444444444,\"#bd3786\"],[0.5555555555555556,\"#d8576b\"],[0.6666666666666666,\"#ed7953\"],[0.7777777777777778,\"#fb9f3a\"],[0.8888888888888888,\"#fdca26\"],[1.0,\"#f0f921\"]],\"sequentialminus\":[[0.0,\"#0d0887\"],[0.1111111111111111,\"#46039f\"],[0.2222222222222222,\"#7201a8\"],[0.3333333333333333,\"#9c179e\"],[0.4444444444444444,\"#bd3786\"],[0.5555555555555556,\"#d8576b\"],[0.6666666666666666,\"#ed7953\"],[0.7777777777777778,\"#fb9f3a\"],[0.8888888888888888,\"#fdca26\"],[1.0,\"#f0f921\"]],\"diverging\":[[0,\"#8e0152\"],[0.1,\"#c51b7d\"],[0.2,\"#de77ae\"],[0.3,\"#f1b6da\"],[0.4,\"#fde0ef\"],[0.5,\"#f7f7f7\"],[0.6,\"#e6f5d0\"],[0.7,\"#b8e186\"],[0.8,\"#7fbc41\"],[0.9,\"#4d9221\"],[1,\"#276419\"]]},\"xaxis\":{\"gridcolor\":\"white\",\"linecolor\":\"white\",\"ticks\":\"\",\"title\":{\"standoff\":15},\"zerolinecolor\":\"white\",\"automargin\":true,\"zerolinewidth\":2},\"yaxis\":{\"gridcolor\":\"white\",\"linecolor\":\"white\",\"ticks\":\"\",\"title\":{\"standoff\":15},\"zerolinecolor\":\"white\",\"automargin\":true,\"zerolinewidth\":2},\"scene\":{\"xaxis\":{\"backgroundcolor\":\"#E5ECF6\",\"gridcolor\":\"white\",\"linecolor\":\"white\",\"showbackground\":true,\"ticks\":\"\",\"zerolinecolor\":\"white\",\"gridwidth\":2},\"yaxis\":{\"backgroundcolor\":\"#E5ECF6\",\"gridcolor\":\"white\",\"linecolor\":\"white\",\"showbackground\":true,\"ticks\":\"\",\"zerolinecolor\":\"white\",\"gridwidth\":2},\"zaxis\":{\"backgroundcolor\":\"#E5ECF6\",\"gridcolor\":\"white\",\"linecolor\":\"white\",\"showbackground\":true,\"ticks\":\"\",\"zerolinecolor\":\"white\",\"gridwidth\":2}},\"shapedefaults\":{\"line\":{\"color\":\"#2a3f5f\"}},\"annotationdefaults\":{\"arrowcolor\":\"#2a3f5f\",\"arrowhead\":0,\"arrowwidth\":1},\"geo\":{\"bgcolor\":\"white\",\"landcolor\":\"#E5ECF6\",\"subunitcolor\":\"white\",\"showland\":true,\"showlakes\":true,\"lakecolor\":\"white\"},\"title\":{\"x\":0.05},\"mapbox\":{\"style\":\"light\"}}},\"geo\":{\"domain\":{\"x\":[0.0,1.0],\"y\":[0.0,1.0]},\"center\":{},\"scope\":\"usa\"},\"coloraxis\":{\"colorbar\":{\"title\":{\"text\":\"cholestrol percentages\"}},\"colorscale\":[[0.0,\"rgb(253, 237, 176)\"],[0.09090909090909091,\"rgb(250, 205, 145)\"],[0.18181818181818182,\"rgb(246, 173, 119)\"],[0.2727272727272727,\"rgb(240, 142, 98)\"],[0.36363636363636365,\"rgb(231, 109, 84)\"],[0.45454545454545453,\"rgb(216, 80, 83)\"],[0.5454545454545454,\"rgb(195, 56, 90)\"],[0.6363636363636364,\"rgb(168, 40, 96)\"],[0.7272727272727273,\"rgb(138, 29, 99)\"],[0.8181818181818182,\"rgb(107, 24, 93)\"],[0.9090909090909091,\"rgb(76, 21, 80)\"],[1.0,\"rgb(47, 15, 61)\"]]},\"legend\":{\"tracegroupgap\":0},\"title\":{\"text\":\"High cholestrol crude rate percentages who are suffering with CVD_2019\"}},                        {\"responsive\": true}                    ).then(function(){\n",
              "                            \n",
              "var gd = document.getElementById('98438a1a-9e3e-47bb-830f-bdbbe628f8c9');\n",
              "var x = new MutationObserver(function (mutations, observer) {{\n",
              "        var display = window.getComputedStyle(gd).display;\n",
              "        if (!display || display === 'none') {{\n",
              "            console.log([gd, 'removed!']);\n",
              "            Plotly.purge(gd);\n",
              "            observer.disconnect();\n",
              "        }}\n",
              "}});\n",
              "\n",
              "// Listen for the removal of the full notebook cells\n",
              "var notebookContainer = gd.closest('#notebook-container');\n",
              "if (notebookContainer) {{\n",
              "    x.observe(notebookContainer, {childList: true});\n",
              "}}\n",
              "\n",
              "// Listen for the clearing of the current output cell\n",
              "var outputEl = gd.closest('.output');\n",
              "if (outputEl) {{\n",
              "    x.observe(outputEl, {childList: true});\n",
              "}}\n",
              "\n",
              "                        })                };                            </script>        </div>\n",
              "</body>\n",
              "</html>"
            ]
          },
          "metadata": {},
          "output_type": "display_data"
        }
      ],
      "source": [
        "# choropleth mapping for cholestrol crude rate in the year 2019\n",
        "fig = px.choropleth(Cholesterol_2019,locations=\"LocationAbbr\",locationmode='USA-states',color= 'DataValue',color_continuous_scale='Matter',  scope='usa',hover_name=\"LocationDesc\",labels = {'DataValue':'cholestrol percentages'},title=\"High cholestrol crude rate percentages who are suffering with CVD_2019\")\n",
        "fig.show()"
      ]
    },
    {
      "cell_type": "code",
      "execution_count": null,
      "metadata": {
        "id": "wazt89ko5fT_"
      },
      "outputs": [],
      "source": [
        "# subset of physical inactivity crude prevalences for the years 2017 and 2019\n",
        "no_time= df[(df['QuestionID'] == 'NPAW10_0') & (df['DataValueType'] == 'Crude Prevalence')]\n",
        "no_time= no_time[(no_time['YearStart']==2017)|(no_time['YearStart']==2019)]\n"
      ]
    },
    {
      "cell_type": "code",
      "execution_count": null,
      "metadata": {
        "id": "usL7uLHO5jkD"
      },
      "outputs": [],
      "source": [
        "#comparing the cholestrol crude prevalence and physical inactivity prevalences for the year 2017 and 2019\n",
        "comparing = df[(df['QuestionID'] == 'NPAW10_0') & (df['DataValueType'] == 'Crude Prevalence') | (df['QuestionID']=='CVD5_0') & (df['DataValueType'] == 'Crude Prevalence')]\n",
        "comparing= comparing[(comparing['YearStart']==2017)|(comparing['YearStart']==2019)]\n"
      ]
    },
    {
      "cell_type": "code",
      "execution_count": null,
      "metadata": {
        "id": "7-3pIKXw5nTW"
      },
      "outputs": [],
      "source": [
        "# comparing for the states \n",
        "values = ['CA', 'NC', 'TX', 'MT','WA']\n",
        "comparing = comparing.loc[(comparing['LocationAbbr'].isin(values))].sort_values(by=['LocationDesc', 'YearStart'],ascending=True)"
      ]
    },
    {
      "cell_type": "code",
      "execution_count": null,
      "metadata": {
        "colab": {
          "base_uri": "https://localhost:8080/",
          "height": 542
        },
        "id": "Knzf6Ch15qz0",
        "outputId": "f7a2ae82-4211-42aa-c65b-eabcf85799ef"
      },
      "outputs": [
        {
          "data": {
            "text/html": [
              "<html>\n",
              "<head><meta charset=\"utf-8\" /></head>\n",
              "<body>\n",
              "    <div>            <script src=\"https://cdnjs.cloudflare.com/ajax/libs/mathjax/2.7.5/MathJax.js?config=TeX-AMS-MML_SVG\"></script><script type=\"text/javascript\">if (window.MathJax && window.MathJax.Hub && window.MathJax.Hub.Config) {window.MathJax.Hub.Config({SVG: {font: \"STIX-Web\"}});}</script>                <script type=\"text/javascript\">window.PlotlyConfig = {MathJaxConfig: 'local'};</script>\n",
              "        <script src=\"https://cdn.plot.ly/plotly-2.18.2.min.js\"></script>                <div id=\"e3ccd3f2-8e25-4ce0-9271-440458191136\" class=\"plotly-graph-div\" style=\"height:525px; width:100%;\"></div>            <script type=\"text/javascript\">                                    window.PLOTLYENV=window.PLOTLYENV || {};                                    if (document.getElementById(\"e3ccd3f2-8e25-4ce0-9271-440458191136\")) {                    Plotly.newPlot(                        \"e3ccd3f2-8e25-4ce0-9271-440458191136\",                        [{\"alignmentgroup\":\"True\",\"bingroup\":\"x\",\"histfunc\":\"sum\",\"hovertemplate\":\"Question=No leisure-time physical activity among adults aged >= 18 years<br>YearStart=2017<br>LocationDesc=%{x}<br>sum of DataValue=%{y}<extra></extra>\",\"legendgroup\":\"No leisure-time physical activity among adults aged >= 18 years\",\"marker\":{\"color\":\"#636efa\",\"pattern\":{\"shape\":\"\"}},\"name\":\"No leisure-time physical activity among adults aged >= 18 years\",\"offsetgroup\":\"No leisure-time physical activity among adults aged >= 18 years\",\"orientation\":\"v\",\"showlegend\":true,\"x\":[\"California\",\"California\",\"California\",\"California\",\"California\",\"California\",\"California\",\"California\",\"Montana\",\"Montana\",\"Montana\",\"Montana\",\"Montana\",\"Montana\",\"Montana\",\"North Carolina\",\"North Carolina\",\"North Carolina\",\"North Carolina\",\"North Carolina\",\"North Carolina\",\"North Carolina\",\"Texas\",\"Texas\",\"Texas\",\"Texas\",\"Texas\",\"Texas\",\"Texas\",\"Texas\",\"Washington\",\"Washington\",\"Washington\",\"Washington\",\"Washington\",\"Washington\",\"Washington\",\"Washington\"],\"xaxis\":\"x\",\"y\":[15.4,16.0,27.0,20.0,24.6,10.6,18.9,21.1,30.4,23.3,25.0,24.2,18.7,38.2,26.6,34.0,25.1,31.3,22.3,23.3,25.9,25.5,30.2,33.9,28.4,36.2,23.5,29.3,36.8,32.1,26.9,20.0,17.8,21.1,19.2,20.2,18.2,19.2],\"yaxis\":\"y\",\"type\":\"histogram\"},{\"alignmentgroup\":\"True\",\"bingroup\":\"x\",\"histfunc\":\"sum\",\"hovertemplate\":\"Question=High cholesterol prevalence among adults aged >= 18 years<br>YearStart=2017<br>LocationDesc=%{x}<br>sum of DataValue=%{y}<extra></extra>\",\"legendgroup\":\"High cholesterol prevalence among adults aged >= 18 years\",\"marker\":{\"color\":\"#EF553B\",\"pattern\":{\"shape\":\"\"}},\"name\":\"High cholesterol prevalence among adults aged >= 18 years\",\"offsetgroup\":\"High cholesterol prevalence among adults aged >= 18 years\",\"orientation\":\"v\",\"showlegend\":true,\"x\":[\"California\",\"California\",\"California\",\"California\",\"California\",\"California\",\"California\",\"California\",\"Montana\",\"Montana\",\"Montana\",\"Montana\",\"Montana\",\"Montana\",\"Montana\",\"North Carolina\",\"North Carolina\",\"North Carolina\",\"North Carolina\",\"North Carolina\",\"North Carolina\",\"North Carolina\",\"North Carolina\",\"Texas\",\"Texas\",\"Texas\",\"Texas\",\"Texas\",\"Texas\",\"Texas\",\"Texas\",\"Washington\",\"Washington\",\"Washington\",\"Washington\",\"Washington\",\"Washington\",\"Washington\",\"Washington\"],\"xaxis\":\"x\",\"y\":[26.7,27.3,29.2,29.9,33.0,23.2,31.1,27.8,24.6,28.8,21.2,27.5,17.7,20.8,26.6,31.5,35.8,34.8,25.2,17.5,26.2,33.6,33.8,31.2,30.0,32.1,31.7,19.2,25.5,35.9,35.1,26.9,31.3,21.6,31.9,24.0,28.2,22.5,29.7],\"yaxis\":\"y\",\"type\":\"histogram\"}],                        {\"template\":{\"data\":{\"histogram2dcontour\":[{\"type\":\"histogram2dcontour\",\"colorbar\":{\"outlinewidth\":0,\"ticks\":\"\"},\"colorscale\":[[0.0,\"#0d0887\"],[0.1111111111111111,\"#46039f\"],[0.2222222222222222,\"#7201a8\"],[0.3333333333333333,\"#9c179e\"],[0.4444444444444444,\"#bd3786\"],[0.5555555555555556,\"#d8576b\"],[0.6666666666666666,\"#ed7953\"],[0.7777777777777778,\"#fb9f3a\"],[0.8888888888888888,\"#fdca26\"],[1.0,\"#f0f921\"]]}],\"choropleth\":[{\"type\":\"choropleth\",\"colorbar\":{\"outlinewidth\":0,\"ticks\":\"\"}}],\"histogram2d\":[{\"type\":\"histogram2d\",\"colorbar\":{\"outlinewidth\":0,\"ticks\":\"\"},\"colorscale\":[[0.0,\"#0d0887\"],[0.1111111111111111,\"#46039f\"],[0.2222222222222222,\"#7201a8\"],[0.3333333333333333,\"#9c179e\"],[0.4444444444444444,\"#bd3786\"],[0.5555555555555556,\"#d8576b\"],[0.6666666666666666,\"#ed7953\"],[0.7777777777777778,\"#fb9f3a\"],[0.8888888888888888,\"#fdca26\"],[1.0,\"#f0f921\"]]}],\"heatmap\":[{\"type\":\"heatmap\",\"colorbar\":{\"outlinewidth\":0,\"ticks\":\"\"},\"colorscale\":[[0.0,\"#0d0887\"],[0.1111111111111111,\"#46039f\"],[0.2222222222222222,\"#7201a8\"],[0.3333333333333333,\"#9c179e\"],[0.4444444444444444,\"#bd3786\"],[0.5555555555555556,\"#d8576b\"],[0.6666666666666666,\"#ed7953\"],[0.7777777777777778,\"#fb9f3a\"],[0.8888888888888888,\"#fdca26\"],[1.0,\"#f0f921\"]]}],\"heatmapgl\":[{\"type\":\"heatmapgl\",\"colorbar\":{\"outlinewidth\":0,\"ticks\":\"\"},\"colorscale\":[[0.0,\"#0d0887\"],[0.1111111111111111,\"#46039f\"],[0.2222222222222222,\"#7201a8\"],[0.3333333333333333,\"#9c179e\"],[0.4444444444444444,\"#bd3786\"],[0.5555555555555556,\"#d8576b\"],[0.6666666666666666,\"#ed7953\"],[0.7777777777777778,\"#fb9f3a\"],[0.8888888888888888,\"#fdca26\"],[1.0,\"#f0f921\"]]}],\"contourcarpet\":[{\"type\":\"contourcarpet\",\"colorbar\":{\"outlinewidth\":0,\"ticks\":\"\"}}],\"contour\":[{\"type\":\"contour\",\"colorbar\":{\"outlinewidth\":0,\"ticks\":\"\"},\"colorscale\":[[0.0,\"#0d0887\"],[0.1111111111111111,\"#46039f\"],[0.2222222222222222,\"#7201a8\"],[0.3333333333333333,\"#9c179e\"],[0.4444444444444444,\"#bd3786\"],[0.5555555555555556,\"#d8576b\"],[0.6666666666666666,\"#ed7953\"],[0.7777777777777778,\"#fb9f3a\"],[0.8888888888888888,\"#fdca26\"],[1.0,\"#f0f921\"]]}],\"surface\":[{\"type\":\"surface\",\"colorbar\":{\"outlinewidth\":0,\"ticks\":\"\"},\"colorscale\":[[0.0,\"#0d0887\"],[0.1111111111111111,\"#46039f\"],[0.2222222222222222,\"#7201a8\"],[0.3333333333333333,\"#9c179e\"],[0.4444444444444444,\"#bd3786\"],[0.5555555555555556,\"#d8576b\"],[0.6666666666666666,\"#ed7953\"],[0.7777777777777778,\"#fb9f3a\"],[0.8888888888888888,\"#fdca26\"],[1.0,\"#f0f921\"]]}],\"mesh3d\":[{\"type\":\"mesh3d\",\"colorbar\":{\"outlinewidth\":0,\"ticks\":\"\"}}],\"scatter\":[{\"fillpattern\":{\"fillmode\":\"overlay\",\"size\":10,\"solidity\":0.2},\"type\":\"scatter\"}],\"parcoords\":[{\"type\":\"parcoords\",\"line\":{\"colorbar\":{\"outlinewidth\":0,\"ticks\":\"\"}}}],\"scatterpolargl\":[{\"type\":\"scatterpolargl\",\"marker\":{\"colorbar\":{\"outlinewidth\":0,\"ticks\":\"\"}}}],\"bar\":[{\"error_x\":{\"color\":\"#2a3f5f\"},\"error_y\":{\"color\":\"#2a3f5f\"},\"marker\":{\"line\":{\"color\":\"#E5ECF6\",\"width\":0.5},\"pattern\":{\"fillmode\":\"overlay\",\"size\":10,\"solidity\":0.2}},\"type\":\"bar\"}],\"scattergeo\":[{\"type\":\"scattergeo\",\"marker\":{\"colorbar\":{\"outlinewidth\":0,\"ticks\":\"\"}}}],\"scatterpolar\":[{\"type\":\"scatterpolar\",\"marker\":{\"colorbar\":{\"outlinewidth\":0,\"ticks\":\"\"}}}],\"histogram\":[{\"marker\":{\"pattern\":{\"fillmode\":\"overlay\",\"size\":10,\"solidity\":0.2}},\"type\":\"histogram\"}],\"scattergl\":[{\"type\":\"scattergl\",\"marker\":{\"colorbar\":{\"outlinewidth\":0,\"ticks\":\"\"}}}],\"scatter3d\":[{\"type\":\"scatter3d\",\"line\":{\"colorbar\":{\"outlinewidth\":0,\"ticks\":\"\"}},\"marker\":{\"colorbar\":{\"outlinewidth\":0,\"ticks\":\"\"}}}],\"scattermapbox\":[{\"type\":\"scattermapbox\",\"marker\":{\"colorbar\":{\"outlinewidth\":0,\"ticks\":\"\"}}}],\"scatterternary\":[{\"type\":\"scatterternary\",\"marker\":{\"colorbar\":{\"outlinewidth\":0,\"ticks\":\"\"}}}],\"scattercarpet\":[{\"type\":\"scattercarpet\",\"marker\":{\"colorbar\":{\"outlinewidth\":0,\"ticks\":\"\"}}}],\"carpet\":[{\"aaxis\":{\"endlinecolor\":\"#2a3f5f\",\"gridcolor\":\"white\",\"linecolor\":\"white\",\"minorgridcolor\":\"white\",\"startlinecolor\":\"#2a3f5f\"},\"baxis\":{\"endlinecolor\":\"#2a3f5f\",\"gridcolor\":\"white\",\"linecolor\":\"white\",\"minorgridcolor\":\"white\",\"startlinecolor\":\"#2a3f5f\"},\"type\":\"carpet\"}],\"table\":[{\"cells\":{\"fill\":{\"color\":\"#EBF0F8\"},\"line\":{\"color\":\"white\"}},\"header\":{\"fill\":{\"color\":\"#C8D4E3\"},\"line\":{\"color\":\"white\"}},\"type\":\"table\"}],\"barpolar\":[{\"marker\":{\"line\":{\"color\":\"#E5ECF6\",\"width\":0.5},\"pattern\":{\"fillmode\":\"overlay\",\"size\":10,\"solidity\":0.2}},\"type\":\"barpolar\"}],\"pie\":[{\"automargin\":true,\"type\":\"pie\"}]},\"layout\":{\"autotypenumbers\":\"strict\",\"colorway\":[\"#636efa\",\"#EF553B\",\"#00cc96\",\"#ab63fa\",\"#FFA15A\",\"#19d3f3\",\"#FF6692\",\"#B6E880\",\"#FF97FF\",\"#FECB52\"],\"font\":{\"color\":\"#2a3f5f\"},\"hovermode\":\"closest\",\"hoverlabel\":{\"align\":\"left\"},\"paper_bgcolor\":\"white\",\"plot_bgcolor\":\"#E5ECF6\",\"polar\":{\"bgcolor\":\"#E5ECF6\",\"angularaxis\":{\"gridcolor\":\"white\",\"linecolor\":\"white\",\"ticks\":\"\"},\"radialaxis\":{\"gridcolor\":\"white\",\"linecolor\":\"white\",\"ticks\":\"\"}},\"ternary\":{\"bgcolor\":\"#E5ECF6\",\"aaxis\":{\"gridcolor\":\"white\",\"linecolor\":\"white\",\"ticks\":\"\"},\"baxis\":{\"gridcolor\":\"white\",\"linecolor\":\"white\",\"ticks\":\"\"},\"caxis\":{\"gridcolor\":\"white\",\"linecolor\":\"white\",\"ticks\":\"\"}},\"coloraxis\":{\"colorbar\":{\"outlinewidth\":0,\"ticks\":\"\"}},\"colorscale\":{\"sequential\":[[0.0,\"#0d0887\"],[0.1111111111111111,\"#46039f\"],[0.2222222222222222,\"#7201a8\"],[0.3333333333333333,\"#9c179e\"],[0.4444444444444444,\"#bd3786\"],[0.5555555555555556,\"#d8576b\"],[0.6666666666666666,\"#ed7953\"],[0.7777777777777778,\"#fb9f3a\"],[0.8888888888888888,\"#fdca26\"],[1.0,\"#f0f921\"]],\"sequentialminus\":[[0.0,\"#0d0887\"],[0.1111111111111111,\"#46039f\"],[0.2222222222222222,\"#7201a8\"],[0.3333333333333333,\"#9c179e\"],[0.4444444444444444,\"#bd3786\"],[0.5555555555555556,\"#d8576b\"],[0.6666666666666666,\"#ed7953\"],[0.7777777777777778,\"#fb9f3a\"],[0.8888888888888888,\"#fdca26\"],[1.0,\"#f0f921\"]],\"diverging\":[[0,\"#8e0152\"],[0.1,\"#c51b7d\"],[0.2,\"#de77ae\"],[0.3,\"#f1b6da\"],[0.4,\"#fde0ef\"],[0.5,\"#f7f7f7\"],[0.6,\"#e6f5d0\"],[0.7,\"#b8e186\"],[0.8,\"#7fbc41\"],[0.9,\"#4d9221\"],[1,\"#276419\"]]},\"xaxis\":{\"gridcolor\":\"white\",\"linecolor\":\"white\",\"ticks\":\"\",\"title\":{\"standoff\":15},\"zerolinecolor\":\"white\",\"automargin\":true,\"zerolinewidth\":2},\"yaxis\":{\"gridcolor\":\"white\",\"linecolor\":\"white\",\"ticks\":\"\",\"title\":{\"standoff\":15},\"zerolinecolor\":\"white\",\"automargin\":true,\"zerolinewidth\":2},\"scene\":{\"xaxis\":{\"backgroundcolor\":\"#E5ECF6\",\"gridcolor\":\"white\",\"linecolor\":\"white\",\"showbackground\":true,\"ticks\":\"\",\"zerolinecolor\":\"white\",\"gridwidth\":2},\"yaxis\":{\"backgroundcolor\":\"#E5ECF6\",\"gridcolor\":\"white\",\"linecolor\":\"white\",\"showbackground\":true,\"ticks\":\"\",\"zerolinecolor\":\"white\",\"gridwidth\":2},\"zaxis\":{\"backgroundcolor\":\"#E5ECF6\",\"gridcolor\":\"white\",\"linecolor\":\"white\",\"showbackground\":true,\"ticks\":\"\",\"zerolinecolor\":\"white\",\"gridwidth\":2}},\"shapedefaults\":{\"line\":{\"color\":\"#2a3f5f\"}},\"annotationdefaults\":{\"arrowcolor\":\"#2a3f5f\",\"arrowhead\":0,\"arrowwidth\":1},\"geo\":{\"bgcolor\":\"white\",\"landcolor\":\"#E5ECF6\",\"subunitcolor\":\"white\",\"showland\":true,\"showlakes\":true,\"lakecolor\":\"white\"},\"title\":{\"x\":0.05},\"mapbox\":{\"style\":\"light\"}}},\"xaxis\":{\"anchor\":\"y\",\"domain\":[0.0,1.0],\"title\":{\"text\":\"LocationDesc\"}},\"yaxis\":{\"anchor\":\"x\",\"domain\":[0.0,1.0],\"title\":{\"text\":\"sum of DataValue\"}},\"legend\":{\"title\":{\"text\":\"Question\"},\"tracegroupgap\":0},\"margin\":{\"t\":60},\"barmode\":\"group\",\"updatemenus\":[{\"buttons\":[{\"args\":[null,{\"frame\":{\"duration\":500,\"redraw\":true},\"mode\":\"immediate\",\"fromcurrent\":true,\"transition\":{\"duration\":500,\"easing\":\"linear\"}}],\"label\":\"&#9654;\",\"method\":\"animate\"},{\"args\":[[null],{\"frame\":{\"duration\":0,\"redraw\":true},\"mode\":\"immediate\",\"fromcurrent\":true,\"transition\":{\"duration\":0,\"easing\":\"linear\"}}],\"label\":\"&#9724;\",\"method\":\"animate\"}],\"direction\":\"left\",\"pad\":{\"r\":10,\"t\":70},\"showactive\":false,\"type\":\"buttons\",\"x\":0.1,\"xanchor\":\"right\",\"y\":0,\"yanchor\":\"top\"}],\"sliders\":[{\"active\":0,\"currentvalue\":{\"prefix\":\"YearStart=\"},\"len\":0.9,\"pad\":{\"b\":10,\"t\":60},\"steps\":[{\"args\":[[\"2017\"],{\"frame\":{\"duration\":0,\"redraw\":true},\"mode\":\"immediate\",\"fromcurrent\":true,\"transition\":{\"duration\":0,\"easing\":\"linear\"}}],\"label\":\"2017\",\"method\":\"animate\"},{\"args\":[[\"2019\"],{\"frame\":{\"duration\":0,\"redraw\":true},\"mode\":\"immediate\",\"fromcurrent\":true,\"transition\":{\"duration\":0,\"easing\":\"linear\"}}],\"label\":\"2019\",\"method\":\"animate\"}],\"x\":0.1,\"xanchor\":\"left\",\"y\":0,\"yanchor\":\"top\"}]},                        {\"responsive\": true}                    ).then(function(){\n",
              "                            Plotly.addFrames('e3ccd3f2-8e25-4ce0-9271-440458191136', [{\"data\":[{\"alignmentgroup\":\"True\",\"bingroup\":\"x\",\"histfunc\":\"sum\",\"hovertemplate\":\"Question=No leisure-time physical activity among adults aged >= 18 years<br>YearStart=2017<br>LocationDesc=%{x}<br>sum of DataValue=%{y}<extra></extra>\",\"legendgroup\":\"No leisure-time physical activity among adults aged >= 18 years\",\"marker\":{\"color\":\"#636efa\",\"pattern\":{\"shape\":\"\"}},\"name\":\"No leisure-time physical activity among adults aged >= 18 years\",\"offsetgroup\":\"No leisure-time physical activity among adults aged >= 18 years\",\"orientation\":\"v\",\"showlegend\":true,\"x\":[\"California\",\"California\",\"California\",\"California\",\"California\",\"California\",\"California\",\"California\",\"Montana\",\"Montana\",\"Montana\",\"Montana\",\"Montana\",\"Montana\",\"Montana\",\"North Carolina\",\"North Carolina\",\"North Carolina\",\"North Carolina\",\"North Carolina\",\"North Carolina\",\"North Carolina\",\"Texas\",\"Texas\",\"Texas\",\"Texas\",\"Texas\",\"Texas\",\"Texas\",\"Texas\",\"Washington\",\"Washington\",\"Washington\",\"Washington\",\"Washington\",\"Washington\",\"Washington\",\"Washington\"],\"xaxis\":\"x\",\"y\":[15.4,16.0,27.0,20.0,24.6,10.6,18.9,21.1,30.4,23.3,25.0,24.2,18.7,38.2,26.6,34.0,25.1,31.3,22.3,23.3,25.9,25.5,30.2,33.9,28.4,36.2,23.5,29.3,36.8,32.1,26.9,20.0,17.8,21.1,19.2,20.2,18.2,19.2],\"yaxis\":\"y\",\"type\":\"histogram\"},{\"alignmentgroup\":\"True\",\"bingroup\":\"x\",\"histfunc\":\"sum\",\"hovertemplate\":\"Question=High cholesterol prevalence among adults aged >= 18 years<br>YearStart=2017<br>LocationDesc=%{x}<br>sum of DataValue=%{y}<extra></extra>\",\"legendgroup\":\"High cholesterol prevalence among adults aged >= 18 years\",\"marker\":{\"color\":\"#EF553B\",\"pattern\":{\"shape\":\"\"}},\"name\":\"High cholesterol prevalence among adults aged >= 18 years\",\"offsetgroup\":\"High cholesterol prevalence among adults aged >= 18 years\",\"orientation\":\"v\",\"showlegend\":true,\"x\":[\"California\",\"California\",\"California\",\"California\",\"California\",\"California\",\"California\",\"California\",\"Montana\",\"Montana\",\"Montana\",\"Montana\",\"Montana\",\"Montana\",\"Montana\",\"North Carolina\",\"North Carolina\",\"North Carolina\",\"North Carolina\",\"North Carolina\",\"North Carolina\",\"North Carolina\",\"North Carolina\",\"Texas\",\"Texas\",\"Texas\",\"Texas\",\"Texas\",\"Texas\",\"Texas\",\"Texas\",\"Washington\",\"Washington\",\"Washington\",\"Washington\",\"Washington\",\"Washington\",\"Washington\",\"Washington\"],\"xaxis\":\"x\",\"y\":[26.7,27.3,29.2,29.9,33.0,23.2,31.1,27.8,24.6,28.8,21.2,27.5,17.7,20.8,26.6,31.5,35.8,34.8,25.2,17.5,26.2,33.6,33.8,31.2,30.0,32.1,31.7,19.2,25.5,35.9,35.1,26.9,31.3,21.6,31.9,24.0,28.2,22.5,29.7],\"yaxis\":\"y\",\"type\":\"histogram\"}],\"name\":\"2017\"},{\"data\":[{\"alignmentgroup\":\"True\",\"bingroup\":\"x\",\"histfunc\":\"sum\",\"hovertemplate\":\"Question=No leisure-time physical activity among adults aged >= 18 years<br>YearStart=2019<br>LocationDesc=%{x}<br>sum of DataValue=%{y}<extra></extra>\",\"legendgroup\":\"No leisure-time physical activity among adults aged >= 18 years\",\"marker\":{\"color\":\"#636efa\",\"pattern\":{\"shape\":\"\"}},\"name\":\"No leisure-time physical activity among adults aged >= 18 years\",\"offsetgroup\":\"No leisure-time physical activity among adults aged >= 18 years\",\"orientation\":\"v\",\"showlegend\":true,\"x\":[\"California\",\"California\",\"California\",\"California\",\"California\",\"California\",\"California\",\"California\",\"Montana\",\"Montana\",\"Montana\",\"Montana\",\"Montana\",\"Montana\",\"Montana\",\"North Carolina\",\"North Carolina\",\"North Carolina\",\"North Carolina\",\"North Carolina\",\"North Carolina\",\"North Carolina\",\"North Carolina\",\"Texas\",\"Texas\",\"Texas\",\"Texas\",\"Texas\",\"Texas\",\"Texas\",\"Texas\",\"Washington\",\"Washington\",\"Washington\",\"Washington\",\"Washington\",\"Washington\",\"Washington\",\"Washington\"],\"xaxis\":\"x\",\"y\":[17.3,30.4,16.8,22.4,25.7,24.3,20.5,18.1,20.0,19.7,19.3,20.0,20.3,22.2,19.3,24.8,40.9,26.7,26.0,24.6,27.7,18.4,26.3,25.0,29.4,29.7,19.9,33.1,22.2,22.7,27.2,31.8,17.9,17.0,20.2,19.7,24.6,18.6,19.2],\"yaxis\":\"y\",\"type\":\"histogram\"},{\"alignmentgroup\":\"True\",\"bingroup\":\"x\",\"histfunc\":\"sum\",\"hovertemplate\":\"Question=High cholesterol prevalence among adults aged >= 18 years<br>YearStart=2019<br>LocationDesc=%{x}<br>sum of DataValue=%{y}<extra></extra>\",\"legendgroup\":\"High cholesterol prevalence among adults aged >= 18 years\",\"marker\":{\"color\":\"#EF553B\",\"pattern\":{\"shape\":\"\"}},\"name\":\"High cholesterol prevalence among adults aged >= 18 years\",\"offsetgroup\":\"High cholesterol prevalence among adults aged >= 18 years\",\"orientation\":\"v\",\"showlegend\":true,\"x\":[\"California\",\"California\",\"California\",\"California\",\"California\",\"California\",\"California\",\"California\",\"Montana\",\"Montana\",\"Montana\",\"Montana\",\"Montana\",\"Montana\",\"Montana\",\"North Carolina\",\"North Carolina\",\"North Carolina\",\"North Carolina\",\"North Carolina\",\"North Carolina\",\"North Carolina\",\"North Carolina\",\"Texas\",\"Texas\",\"Texas\",\"Texas\",\"Texas\",\"Texas\",\"Texas\",\"Texas\",\"Washington\",\"Washington\",\"Washington\",\"Washington\",\"Washington\",\"Washington\",\"Washington\",\"Washington\"],\"xaxis\":\"x\",\"y\":[30.4,25.6,28.2,35.3,27.3,33.0,28.8,30.8,30.9,32.0,23.8,26.0,32.7,30.0,34.1,38.2,32.1,33.7,27.2,31.9,36.2,36.9,35.5,34.4,31.0,30.2,40.9,36.0,36.2,36.4,37.9,29.6,33.2,36.4,30.2,34.5,29.8,34.9,26.7],\"yaxis\":\"y\",\"type\":\"histogram\"}],\"name\":\"2019\"}]);\n",
              "                        }).then(function(){\n",
              "                            \n",
              "var gd = document.getElementById('e3ccd3f2-8e25-4ce0-9271-440458191136');\n",
              "var x = new MutationObserver(function (mutations, observer) {{\n",
              "        var display = window.getComputedStyle(gd).display;\n",
              "        if (!display || display === 'none') {{\n",
              "            console.log([gd, 'removed!']);\n",
              "            Plotly.purge(gd);\n",
              "            observer.disconnect();\n",
              "        }}\n",
              "}});\n",
              "\n",
              "// Listen for the removal of the full notebook cells\n",
              "var notebookContainer = gd.closest('#notebook-container');\n",
              "if (notebookContainer) {{\n",
              "    x.observe(notebookContainer, {childList: true});\n",
              "}}\n",
              "\n",
              "// Listen for the clearing of the current output cell\n",
              "var outputEl = gd.closest('.output');\n",
              "if (outputEl) {{\n",
              "    x.observe(outputEl, {childList: true});\n",
              "}}\n",
              "\n",
              "                        })                };                            </script>        </div>\n",
              "</body>\n",
              "</html>"
            ]
          },
          "metadata": {},
          "output_type": "display_data"
        }
      ],
      "source": [
        " #plotting the comparisions for the year 2017 and 2019\n",
        "fig = px.histogram(comparing, x=\"LocationDesc\", y=\"DataValue\",animation_frame=\"YearStart\", color=\"Question\",barmode=\"group\", hover_name=\"Topic\")\n",
        "fig.show()"
      ]
    },
    {
      "cell_type": "code",
      "execution_count": null,
      "metadata": {
        "colab": {
          "base_uri": "https://localhost:8080/",
          "height": 641
        },
        "id": "4SLD6o96Xo-I",
        "outputId": "859c094f-cbb2-46c4-ebef-a78ee73a28dd"
      },
      "outputs": [
        {
          "data": {
            "text/html": [
              "\n",
              "  <div id=\"df-3fb8de05-6422-4ab4-8caf-5f2cf4cdc3fd\">\n",
              "    <div class=\"colab-df-container\">\n",
              "      <div>\n",
              "<style scoped>\n",
              "    .dataframe tbody tr th:only-of-type {\n",
              "        vertical-align: middle;\n",
              "    }\n",
              "\n",
              "    .dataframe tbody tr th {\n",
              "        vertical-align: top;\n",
              "    }\n",
              "\n",
              "    .dataframe thead th {\n",
              "        text-align: right;\n",
              "    }\n",
              "</style>\n",
              "<table border=\"1\" class=\"dataframe\">\n",
              "  <thead>\n",
              "    <tr style=\"text-align: right;\">\n",
              "      <th></th>\n",
              "      <th>Morality_cardiovascular</th>\n",
              "      <th>Sex</th>\n",
              "      <th>Smoking</th>\n",
              "      <th>FamilyHistory</th>\n",
              "      <th>Alcohol</th>\n",
              "      <th>PhysicalActivity</th>\n",
              "      <th>SystolicBP</th>\n",
              "      <th>Cholesterol</th>\n",
              "      <th>geometry</th>\n",
              "    </tr>\n",
              "  </thead>\n",
              "  <tbody>\n",
              "    <tr>\n",
              "      <th>0</th>\n",
              "      <td>8.539869</td>\n",
              "      <td>1</td>\n",
              "      <td>0</td>\n",
              "      <td>0</td>\n",
              "      <td>2.410239</td>\n",
              "      <td>4.126403</td>\n",
              "      <td>120.354746</td>\n",
              "      <td>209.330641</td>\n",
              "      <td>POINT (2.4102385314380834 4.126403407994445)</td>\n",
              "    </tr>\n",
              "    <tr>\n",
              "      <th>1</th>\n",
              "      <td>9.910516</td>\n",
              "      <td>0</td>\n",
              "      <td>1</td>\n",
              "      <td>0</td>\n",
              "      <td>3.596110</td>\n",
              "      <td>3.423168</td>\n",
              "      <td>119.874901</td>\n",
              "      <td>201.032337</td>\n",
              "      <td>POINT (3.596110008658406 3.42316777334893)</td>\n",
              "    </tr>\n",
              "    <tr>\n",
              "      <th>2</th>\n",
              "      <td>7.957082</td>\n",
              "      <td>0</td>\n",
              "      <td>0</td>\n",
              "      <td>0</td>\n",
              "      <td>6.297127</td>\n",
              "      <td>4.598753</td>\n",
              "      <td>122.234547</td>\n",
              "      <td>258.660934</td>\n",
              "      <td>POINT (6.297127018010244 4.598752697477257)</td>\n",
              "    </tr>\n",
              "    <tr>\n",
              "      <th>3</th>\n",
              "      <td>8.887132</td>\n",
              "      <td>1</td>\n",
              "      <td>0</td>\n",
              "      <td>0</td>\n",
              "      <td>5.167835</td>\n",
              "      <td>3.840392</td>\n",
              "      <td>112.045345</td>\n",
              "      <td>237.237957</td>\n",
              "      <td>POINT (5.1678351565552045 3.8403920579614077)</td>\n",
              "    </tr>\n",
              "    <tr>\n",
              "      <th>4</th>\n",
              "      <td>11.443784</td>\n",
              "      <td>1</td>\n",
              "      <td>1</td>\n",
              "      <td>0</td>\n",
              "      <td>5.883575</td>\n",
              "      <td>3.500817</td>\n",
              "      <td>100.753009</td>\n",
              "      <td>186.732682</td>\n",
              "      <td>POINT (5.883574838794038 3.500817351244949)</td>\n",
              "    </tr>\n",
              "    <tr>\n",
              "      <th>...</th>\n",
              "      <td>...</td>\n",
              "      <td>...</td>\n",
              "      <td>...</td>\n",
              "      <td>...</td>\n",
              "      <td>...</td>\n",
              "      <td>...</td>\n",
              "      <td>...</td>\n",
              "      <td>...</td>\n",
              "      <td>...</td>\n",
              "    </tr>\n",
              "    <tr>\n",
              "      <th>6446</th>\n",
              "      <td>6.232269</td>\n",
              "      <td>0</td>\n",
              "      <td>0</td>\n",
              "      <td>0</td>\n",
              "      <td>5.335987</td>\n",
              "      <td>2.938405</td>\n",
              "      <td>115.495960</td>\n",
              "      <td>180.398909</td>\n",
              "      <td>POINT (5.335986535729797 2.9384052798435643)</td>\n",
              "    </tr>\n",
              "    <tr>\n",
              "      <th>6447</th>\n",
              "      <td>6.447564</td>\n",
              "      <td>0</td>\n",
              "      <td>0</td>\n",
              "      <td>0</td>\n",
              "      <td>2.657325</td>\n",
              "      <td>2.782894</td>\n",
              "      <td>114.798705</td>\n",
              "      <td>155.864288</td>\n",
              "      <td>POINT (2.657325192557656 2.7828940484663365)</td>\n",
              "    </tr>\n",
              "    <tr>\n",
              "      <th>6448</th>\n",
              "      <td>5.887371</td>\n",
              "      <td>0</td>\n",
              "      <td>0</td>\n",
              "      <td>0</td>\n",
              "      <td>1.674537</td>\n",
              "      <td>4.756651</td>\n",
              "      <td>119.400370</td>\n",
              "      <td>204.406443</td>\n",
              "      <td>POINT (1.6745372781946775 4.756651172579207)</td>\n",
              "    </tr>\n",
              "    <tr>\n",
              "      <th>6449</th>\n",
              "      <td>6.819192</td>\n",
              "      <td>0</td>\n",
              "      <td>0</td>\n",
              "      <td>0</td>\n",
              "      <td>5.019629</td>\n",
              "      <td>2.386986</td>\n",
              "      <td>128.226715</td>\n",
              "      <td>179.802797</td>\n",
              "      <td>POINT (5.019628809225234 2.386985517631964)</td>\n",
              "    </tr>\n",
              "    <tr>\n",
              "      <th>6450</th>\n",
              "      <td>10.940894</td>\n",
              "      <td>0</td>\n",
              "      <td>1</td>\n",
              "      <td>1</td>\n",
              "      <td>4.636135</td>\n",
              "      <td>3.457821</td>\n",
              "      <td>125.028211</td>\n",
              "      <td>201.341413</td>\n",
              "      <td>POINT (4.636135465659053 3.4578205457930187)</td>\n",
              "    </tr>\n",
              "  </tbody>\n",
              "</table>\n",
              "<p>6451 rows × 9 columns</p>\n",
              "</div>\n",
              "      <button class=\"colab-df-convert\" onclick=\"convertToInteractive('df-3fb8de05-6422-4ab4-8caf-5f2cf4cdc3fd')\"\n",
              "              title=\"Convert this dataframe to an interactive table.\"\n",
              "              style=\"display:none;\">\n",
              "        \n",
              "  <svg xmlns=\"http://www.w3.org/2000/svg\" height=\"24px\"viewBox=\"0 0 24 24\"\n",
              "       width=\"24px\">\n",
              "    <path d=\"M0 0h24v24H0V0z\" fill=\"none\"/>\n",
              "    <path d=\"M18.56 5.44l.94 2.06.94-2.06 2.06-.94-2.06-.94-.94-2.06-.94 2.06-2.06.94zm-11 1L8.5 8.5l.94-2.06 2.06-.94-2.06-.94L8.5 2.5l-.94 2.06-2.06.94zm10 10l.94 2.06.94-2.06 2.06-.94-2.06-.94-.94-2.06-.94 2.06-2.06.94z\"/><path d=\"M17.41 7.96l-1.37-1.37c-.4-.4-.92-.59-1.43-.59-.52 0-1.04.2-1.43.59L10.3 9.45l-7.72 7.72c-.78.78-.78 2.05 0 2.83L4 21.41c.39.39.9.59 1.41.59.51 0 1.02-.2 1.41-.59l7.78-7.78 2.81-2.81c.8-.78.8-2.07 0-2.86zM5.41 20L4 18.59l7.72-7.72 1.47 1.35L5.41 20z\"/>\n",
              "  </svg>\n",
              "      </button>\n",
              "      \n",
              "  <style>\n",
              "    .colab-df-container {\n",
              "      display:flex;\n",
              "      flex-wrap:wrap;\n",
              "      gap: 12px;\n",
              "    }\n",
              "\n",
              "    .colab-df-convert {\n",
              "      background-color: #E8F0FE;\n",
              "      border: none;\n",
              "      border-radius: 50%;\n",
              "      cursor: pointer;\n",
              "      display: none;\n",
              "      fill: #1967D2;\n",
              "      height: 32px;\n",
              "      padding: 0 0 0 0;\n",
              "      width: 32px;\n",
              "    }\n",
              "\n",
              "    .colab-df-convert:hover {\n",
              "      background-color: #E2EBFA;\n",
              "      box-shadow: 0px 1px 2px rgba(60, 64, 67, 0.3), 0px 1px 3px 1px rgba(60, 64, 67, 0.15);\n",
              "      fill: #174EA6;\n",
              "    }\n",
              "\n",
              "    [theme=dark] .colab-df-convert {\n",
              "      background-color: #3B4455;\n",
              "      fill: #D2E3FC;\n",
              "    }\n",
              "\n",
              "    [theme=dark] .colab-df-convert:hover {\n",
              "      background-color: #434B5C;\n",
              "      box-shadow: 0px 1px 3px 1px rgba(0, 0, 0, 0.15);\n",
              "      filter: drop-shadow(0px 1px 2px rgba(0, 0, 0, 0.3));\n",
              "      fill: #FFFFFF;\n",
              "    }\n",
              "  </style>\n",
              "\n",
              "      <script>\n",
              "        const buttonEl =\n",
              "          document.querySelector('#df-3fb8de05-6422-4ab4-8caf-5f2cf4cdc3fd button.colab-df-convert');\n",
              "        buttonEl.style.display =\n",
              "          google.colab.kernel.accessAllowed ? 'block' : 'none';\n",
              "\n",
              "        async function convertToInteractive(key) {\n",
              "          const element = document.querySelector('#df-3fb8de05-6422-4ab4-8caf-5f2cf4cdc3fd');\n",
              "          const dataTable =\n",
              "            await google.colab.kernel.invokeFunction('convertToInteractive',\n",
              "                                                     [key], {});\n",
              "          if (!dataTable) return;\n",
              "\n",
              "          const docLinkHtml = 'Like what you see? Visit the ' +\n",
              "            '<a target=\"_blank\" href=https://colab.research.google.com/notebooks/data_table.ipynb>data table notebook</a>'\n",
              "            + ' to learn more about interactive tables.';\n",
              "          element.innerHTML = '';\n",
              "          dataTable['output_type'] = 'display_data';\n",
              "          await google.colab.output.renderOutput(dataTable, element);\n",
              "          const docLink = document.createElement('div');\n",
              "          docLink.innerHTML = docLinkHtml;\n",
              "          element.appendChild(docLink);\n",
              "        }\n",
              "      </script>\n",
              "    </div>\n",
              "  </div>\n",
              "  "
            ],
            "text/plain": [
              "      Morality_cardiovascular  Sex  Smoking  FamilyHistory   Alcohol  \\\n",
              "0                    8.539869    1        0              0  2.410239   \n",
              "1                    9.910516    0        1              0  3.596110   \n",
              "2                    7.957082    0        0              0  6.297127   \n",
              "3                    8.887132    1        0              0  5.167835   \n",
              "4                   11.443784    1        1              0  5.883575   \n",
              "...                       ...  ...      ...            ...       ...   \n",
              "6446                 6.232269    0        0              0  5.335987   \n",
              "6447                 6.447564    0        0              0  2.657325   \n",
              "6448                 5.887371    0        0              0  1.674537   \n",
              "6449                 6.819192    0        0              0  5.019629   \n",
              "6450                10.940894    0        1              1  4.636135   \n",
              "\n",
              "      PhysicalActivity  SystolicBP  Cholesterol  \\\n",
              "0             4.126403  120.354746   209.330641   \n",
              "1             3.423168  119.874901   201.032337   \n",
              "2             4.598753  122.234547   258.660934   \n",
              "3             3.840392  112.045345   237.237957   \n",
              "4             3.500817  100.753009   186.732682   \n",
              "...                ...         ...          ...   \n",
              "6446          2.938405  115.495960   180.398909   \n",
              "6447          2.782894  114.798705   155.864288   \n",
              "6448          4.756651  119.400370   204.406443   \n",
              "6449          2.386986  128.226715   179.802797   \n",
              "6450          3.457821  125.028211   201.341413   \n",
              "\n",
              "                                           geometry  \n",
              "0      POINT (2.4102385314380834 4.126403407994445)  \n",
              "1        POINT (3.596110008658406 3.42316777334893)  \n",
              "2       POINT (6.297127018010244 4.598752697477257)  \n",
              "3     POINT (5.1678351565552045 3.8403920579614077)  \n",
              "4       POINT (5.883574838794038 3.500817351244949)  \n",
              "...                                             ...  \n",
              "6446   POINT (5.335986535729797 2.9384052798435643)  \n",
              "6447   POINT (2.657325192557656 2.7828940484663365)  \n",
              "6448   POINT (1.6745372781946775 4.756651172579207)  \n",
              "6449    POINT (5.019628809225234 2.386985517631964)  \n",
              "6450   POINT (4.636135465659053 3.4578205457930187)  \n",
              "\n",
              "[6451 rows x 9 columns]"
            ]
          },
          "execution_count": 38,
          "metadata": {},
          "output_type": "execute_result"
        }
      ],
      "source": [
        "df_c=pd.read_csv(r'/content/cardiovas (2).csv')\n",
        "df_c"
      ]
    },
    {
      "cell_type": "code",
      "execution_count": null,
      "metadata": {
        "id": "j53TQGWKbgLA"
      },
      "outputs": [],
      "source": []
    },
    {
      "cell_type": "code",
      "execution_count": null,
      "metadata": {
        "id": "orJByNPybAk2"
      },
      "outputs": [],
      "source": [
        "import pysal"
      ]
    },
    {
      "cell_type": "code",
      "execution_count": null,
      "metadata": {
        "id": "oa0ahOmU-YdP"
      },
      "outputs": [],
      "source": [
        "X1 = df_c[['Sex', 'Smoking', 'FamilyHistory', 'Alcohol', 'PhysicalActivity', 'SystolicBP', 'Cholesterol']].to_numpy()\n",
        "y1 = df_c['Morality_cardiovascular'].to_numpy()"
      ]
    },
    {
      "cell_type": "code",
      "execution_count": null,
      "metadata": {
        "colab": {
          "base_uri": "https://localhost:8080/"
        },
        "id": "S7qFDGtBg_wK",
        "outputId": "d9e2157c-33ba-4973-adae-023241af7d74"
      },
      "outputs": [
        {
          "name": "stdout",
          "output_type": "stream",
          "text": [
            "                                 OLS Regression Results                                \n",
            "=======================================================================================\n",
            "Dep. Variable:                      y   R-squared (uncentered):                   0.986\n",
            "Model:                            OLS   Adj. R-squared (uncentered):              0.986\n",
            "Method:                 Least Squares   F-statistic:                          6.305e+04\n",
            "Date:                Thu, 27 Apr 2023   Prob (F-statistic):                        0.00\n",
            "Time:                        15:18:23   Log-Likelihood:                         -9548.2\n",
            "No. Observations:                6451   AIC:                                  1.911e+04\n",
            "Df Residuals:                    6444   BIC:                                  1.916e+04\n",
            "Df Model:                           7                                                  \n",
            "Covariance Type:            nonrobust                                                  \n",
            "==============================================================================\n",
            "                 coef    std err          t      P>|t|      [0.025      0.975]\n",
            "------------------------------------------------------------------------------\n",
            "x1             2.0214      0.026     76.418      0.000       1.970       2.073\n",
            "x2             3.0042      0.034     89.609      0.000       2.938       3.070\n",
            "x3             1.0311      0.043     24.039      0.000       0.947       1.115\n",
            "x4             0.5350      0.006     83.226      0.000       0.522       0.548\n",
            "x5            -0.1263      0.013     -9.715      0.000      -0.152      -0.101\n",
            "x6             0.0284      0.001     38.778      0.000       0.027       0.030\n",
            "x7             0.0058      0.000     14.599      0.000       0.005       0.007\n",
            "==============================================================================\n",
            "Omnibus:                        0.420   Durbin-Watson:                   1.987\n",
            "Prob(Omnibus):                  0.810   Jarque-Bera (JB):                0.441\n",
            "Skew:                          -0.019   Prob(JB):                        0.802\n",
            "Kurtosis:                       2.984   Cond. No.                         761.\n",
            "==============================================================================\n",
            "\n",
            "Notes:\n",
            "[1] R² is computed without centering (uncentered) since the model does not contain a constant.\n",
            "[2] Standard Errors assume that the covariance matrix of the errors is correctly specified.\n"
          ]
        }
      ],
      "source": [
        "\n",
        "model1 = sm.OLS(y1, X1).fit()\n",
        "# Print the model summary\n",
        "print(model1.summary())"
      ]
    },
    {
      "cell_type": "code",
      "execution_count": null,
      "metadata": {
        "id": "1oMyA4hNhSL_"
      },
      "outputs": [],
      "source": [
        "# create point geometries from (x,y) coordinates\n",
        "geometry = [Point(xy) for xy in zip(df_c.Alcohol, df_c.SystolicBP)]\n",
        "df_c['geometry'] = geometry\n"
      ]
    },
    {
      "cell_type": "code",
      "execution_count": null,
      "metadata": {
        "id": "H_rhQErAhgEW"
      },
      "outputs": [],
      "source": [
        "# create GeoDataFrame\n",
        "df_c = gpd.GeoDataFrame(df_c)\n"
      ]
    },
    {
      "cell_type": "code",
      "execution_count": null,
      "metadata": {
        "colab": {
          "base_uri": "https://localhost:8080/"
        },
        "id": "eGufvexlhgQr",
        "outputId": "14e93937-0b46-423b-ec81-ca79cd965645"
      },
      "outputs": [
        {
          "name": "stderr",
          "output_type": "stream",
          "text": [
            "/usr/local/lib/python3.9/dist-packages/scipy/sparse/_data.py:117: RuntimeWarning:\n",
            "\n",
            "divide by zero encountered in reciprocal\n",
            "\n"
          ]
        }
      ],
      "source": [
        "# create spatial weights matrix\n",
        "distance = 10\n",
        "w = DistanceBand.from_dataframe(df_c, distance, binary=False)"
      ]
    },
    {
      "cell_type": "code",
      "execution_count": null,
      "metadata": {
        "id": "ipUdJv7Rh1CJ"
      },
      "outputs": [],
      "source": [
        "# Fit an OLS model using the variables in columns 1-6 as predictors\n",
        "X1 = df_c[['Sex', 'Smoking', 'FamilyHistory', 'Alcohol', 'PhysicalActivity', 'SystolicBP', 'Cholesterol']].to_numpy()\n",
        "y1= df_c['Morality_cardiovascular'].to_numpy()"
      ]
    },
    {
      "cell_type": "code",
      "execution_count": null,
      "metadata": {
        "id": "pFciFoEUXpQZ"
      },
      "outputs": [],
      "source": [
        "X = df_c[['Sex', 'Smoking', 'FamilyHistory', 'Alcohol', 'PhysicalActivity', 'SystolicBP', 'Cholesterol']].to_numpy()\n",
        "y = df_c['Morality_cardiovascular'].to_numpy()"
      ]
    },
    {
      "cell_type": "code",
      "execution_count": null,
      "metadata": {
        "colab": {
          "background_save": true
        },
        "id": "FXAaFL95XpUA",
        "outputId": "52ec2213-57df-4fe7-d954-a31eea9c4cee"
      },
      "outputs": [
        {
          "ename": "KeyboardInterrupt",
          "evalue": "ignored",
          "output_type": "error",
          "traceback": [
            "\u001b[0;31m---------------------------------------------------------------------------\u001b[0m",
            "\u001b[0;31mKeyboardInterrupt\u001b[0m                         Traceback (most recent call last)",
            "\u001b[0;32m<ipython-input-47-1eac431bf7d1>\u001b[0m in \u001b[0;36m<cell line: 1>\u001b[0;34m()\u001b[0m\n\u001b[0;32m----> 1\u001b[0;31m \u001b[0mmodel2\u001b[0m \u001b[0;34m=\u001b[0m \u001b[0mGM_Error_Het\u001b[0m\u001b[0;34m(\u001b[0m\u001b[0my1\u001b[0m\u001b[0;34m,\u001b[0m \u001b[0mX1\u001b[0m\u001b[0;34m,\u001b[0m \u001b[0mw\u001b[0m\u001b[0;34m)\u001b[0m\u001b[0;34m\u001b[0m\u001b[0;34m\u001b[0m\u001b[0m\n\u001b[0m\u001b[1;32m      2\u001b[0m \u001b[0;31m#\u001b[0m\u001b[0;34m\u001b[0m\u001b[0;34m\u001b[0m\u001b[0m\n",
            "\u001b[0;32m/usr/local/lib/python3.9/dist-packages/spreg/error_sp_het.py\u001b[0m in \u001b[0;36m__init__\u001b[0;34m(self, y, x, w, max_iter, epsilon, step1c, vm, name_y, name_x, name_w, name_ds)\u001b[0m\n\u001b[1;32m    352\u001b[0m         \u001b[0mx_constant\u001b[0m\u001b[0;34m,\u001b[0m \u001b[0mname_x\u001b[0m\u001b[0;34m,\u001b[0m \u001b[0mwarn\u001b[0m \u001b[0;34m=\u001b[0m \u001b[0mUSER\u001b[0m\u001b[0;34m.\u001b[0m\u001b[0mcheck_constant\u001b[0m\u001b[0;34m(\u001b[0m\u001b[0mx\u001b[0m\u001b[0;34m,\u001b[0m \u001b[0mname_x\u001b[0m\u001b[0;34m)\u001b[0m\u001b[0;34m\u001b[0m\u001b[0;34m\u001b[0m\u001b[0m\n\u001b[1;32m    353\u001b[0m         \u001b[0mset_warn\u001b[0m\u001b[0;34m(\u001b[0m\u001b[0mself\u001b[0m\u001b[0;34m,\u001b[0m \u001b[0mwarn\u001b[0m\u001b[0;34m)\u001b[0m\u001b[0;34m\u001b[0m\u001b[0;34m\u001b[0m\u001b[0m\n\u001b[0;32m--> 354\u001b[0;31m         BaseGM_Error_Het.__init__(\n\u001b[0m\u001b[1;32m    355\u001b[0m             \u001b[0mself\u001b[0m\u001b[0;34m,\u001b[0m\u001b[0;34m\u001b[0m\u001b[0;34m\u001b[0m\u001b[0m\n\u001b[1;32m    356\u001b[0m             \u001b[0my\u001b[0m\u001b[0;34m,\u001b[0m\u001b[0;34m\u001b[0m\u001b[0;34m\u001b[0m\u001b[0m\n",
            "\u001b[0;32m/usr/local/lib/python3.9/dist-packages/spreg/error_sp_het.py\u001b[0m in \u001b[0;36m__init__\u001b[0;34m(self, y, x, w, max_iter, epsilon, step1c)\u001b[0m\n\u001b[1;32m    149\u001b[0m \u001b[0;34m\u001b[0m\u001b[0m\n\u001b[1;32m    150\u001b[0m         \u001b[0msigma\u001b[0m \u001b[0;34m=\u001b[0m \u001b[0mget_psi_sigma\u001b[0m\u001b[0;34m(\u001b[0m\u001b[0mw\u001b[0m\u001b[0;34m,\u001b[0m \u001b[0mself\u001b[0m\u001b[0;34m.\u001b[0m\u001b[0mu\u001b[0m\u001b[0;34m,\u001b[0m \u001b[0mlambda3\u001b[0m\u001b[0;34m)\u001b[0m\u001b[0;34m\u001b[0m\u001b[0;34m\u001b[0m\u001b[0m\n\u001b[0;32m--> 151\u001b[0;31m         \u001b[0mvc3\u001b[0m \u001b[0;34m=\u001b[0m \u001b[0mget_vc_het\u001b[0m\u001b[0;34m(\u001b[0m\u001b[0mw\u001b[0m\u001b[0;34m,\u001b[0m \u001b[0mwA1\u001b[0m\u001b[0;34m,\u001b[0m \u001b[0msigma\u001b[0m\u001b[0;34m)\u001b[0m\u001b[0;34m\u001b[0m\u001b[0;34m\u001b[0m\u001b[0m\n\u001b[0m\u001b[1;32m    152\u001b[0m         \u001b[0mself\u001b[0m\u001b[0;34m.\u001b[0m\u001b[0mvm\u001b[0m \u001b[0;34m=\u001b[0m \u001b[0mget_vm_het\u001b[0m\u001b[0;34m(\u001b[0m\u001b[0mmoments_i\u001b[0m\u001b[0;34m[\u001b[0m\u001b[0;36m0\u001b[0m\u001b[0;34m]\u001b[0m\u001b[0;34m,\u001b[0m \u001b[0mlambda3\u001b[0m\u001b[0;34m,\u001b[0m \u001b[0mself\u001b[0m\u001b[0;34m,\u001b[0m \u001b[0mw\u001b[0m\u001b[0;34m,\u001b[0m \u001b[0mvc3\u001b[0m\u001b[0;34m)\u001b[0m\u001b[0;34m\u001b[0m\u001b[0;34m\u001b[0m\u001b[0m\n\u001b[1;32m    153\u001b[0m         \u001b[0mself\u001b[0m\u001b[0;34m.\u001b[0m\u001b[0mbetas\u001b[0m \u001b[0;34m=\u001b[0m \u001b[0mnp\u001b[0m\u001b[0;34m.\u001b[0m\u001b[0mvstack\u001b[0m\u001b[0;34m(\u001b[0m\u001b[0;34m(\u001b[0m\u001b[0mols_s\u001b[0m\u001b[0;34m.\u001b[0m\u001b[0mbetas\u001b[0m\u001b[0;34m,\u001b[0m \u001b[0mlambda3\u001b[0m\u001b[0;34m)\u001b[0m\u001b[0;34m)\u001b[0m\u001b[0;34m\u001b[0m\u001b[0;34m\u001b[0m\u001b[0m\n",
            "\u001b[0;32m/usr/local/lib/python3.9/dist-packages/spreg/error_sp_het.py\u001b[0m in \u001b[0;36mget_vc_het\u001b[0;34m(w, wA1, E)\u001b[0m\n\u001b[1;32m   1367\u001b[0m     \u001b[0mwPwtE\u001b[0m \u001b[0;34m=\u001b[0m \u001b[0;34m(\u001b[0m\u001b[0mw\u001b[0m \u001b[0;34m+\u001b[0m \u001b[0mw\u001b[0m\u001b[0;34m.\u001b[0m\u001b[0mT\u001b[0m\u001b[0;34m)\u001b[0m \u001b[0;34m*\u001b[0m \u001b[0mE\u001b[0m\u001b[0;34m\u001b[0m\u001b[0;34m\u001b[0m\u001b[0m\n\u001b[1;32m   1368\u001b[0m \u001b[0;34m\u001b[0m\u001b[0m\n\u001b[0;32m-> 1369\u001b[0;31m     \u001b[0mpsi11\u001b[0m \u001b[0;34m=\u001b[0m \u001b[0maPatE\u001b[0m \u001b[0;34m*\u001b[0m \u001b[0maPatE\u001b[0m\u001b[0;34m\u001b[0m\u001b[0;34m\u001b[0m\u001b[0m\n\u001b[0m\u001b[1;32m   1370\u001b[0m     \u001b[0mpsi12\u001b[0m \u001b[0;34m=\u001b[0m \u001b[0maPatE\u001b[0m \u001b[0;34m*\u001b[0m \u001b[0mwPwtE\u001b[0m\u001b[0;34m\u001b[0m\u001b[0;34m\u001b[0m\u001b[0m\n\u001b[1;32m   1371\u001b[0m     \u001b[0mpsi22\u001b[0m \u001b[0;34m=\u001b[0m \u001b[0mwPwtE\u001b[0m \u001b[0;34m*\u001b[0m \u001b[0mwPwtE\u001b[0m\u001b[0;34m\u001b[0m\u001b[0;34m\u001b[0m\u001b[0m\n",
            "\u001b[0;32m/usr/local/lib/python3.9/dist-packages/scipy/sparse/_base.py\u001b[0m in \u001b[0;36m__mul__\u001b[0;34m(self, other)\u001b[0m\n\u001b[1;32m    588\u001b[0m \u001b[0;34m\u001b[0m\u001b[0m\n\u001b[1;32m    589\u001b[0m     \u001b[0;32mdef\u001b[0m \u001b[0m__mul__\u001b[0m\u001b[0;34m(\u001b[0m\u001b[0mself\u001b[0m\u001b[0;34m,\u001b[0m \u001b[0mother\u001b[0m\u001b[0;34m)\u001b[0m\u001b[0;34m:\u001b[0m\u001b[0;34m\u001b[0m\u001b[0;34m\u001b[0m\u001b[0m\n\u001b[0;32m--> 590\u001b[0;31m         \u001b[0;32mreturn\u001b[0m \u001b[0mself\u001b[0m\u001b[0;34m.\u001b[0m\u001b[0m_mul_dispatch\u001b[0m\u001b[0;34m(\u001b[0m\u001b[0mother\u001b[0m\u001b[0;34m)\u001b[0m\u001b[0;34m\u001b[0m\u001b[0;34m\u001b[0m\u001b[0m\n\u001b[0m\u001b[1;32m    591\u001b[0m \u001b[0;34m\u001b[0m\u001b[0m\n\u001b[1;32m    592\u001b[0m     \u001b[0;31m# by default, use CSR for __mul__ handlers\u001b[0m\u001b[0;34m\u001b[0m\u001b[0;34m\u001b[0m\u001b[0m\n",
            "\u001b[0;32m/usr/local/lib/python3.9/dist-packages/scipy/sparse/_base.py\u001b[0m in \u001b[0;36m_mul_dispatch\u001b[0;34m(self, other)\u001b[0m\n\u001b[1;32m    539\u001b[0m             \u001b[0;32mif\u001b[0m \u001b[0mself\u001b[0m\u001b[0;34m.\u001b[0m\u001b[0mshape\u001b[0m\u001b[0;34m[\u001b[0m\u001b[0;36m1\u001b[0m\u001b[0;34m]\u001b[0m \u001b[0;34m!=\u001b[0m \u001b[0mother\u001b[0m\u001b[0;34m.\u001b[0m\u001b[0mshape\u001b[0m\u001b[0;34m[\u001b[0m\u001b[0;36m0\u001b[0m\u001b[0;34m]\u001b[0m\u001b[0;34m:\u001b[0m\u001b[0;34m\u001b[0m\u001b[0;34m\u001b[0m\u001b[0m\n\u001b[1;32m    540\u001b[0m                 \u001b[0;32mraise\u001b[0m \u001b[0mValueError\u001b[0m\u001b[0;34m(\u001b[0m\u001b[0;34m'dimension mismatch'\u001b[0m\u001b[0;34m)\u001b[0m\u001b[0;34m\u001b[0m\u001b[0;34m\u001b[0m\u001b[0m\n\u001b[0;32m--> 541\u001b[0;31m             \u001b[0;32mreturn\u001b[0m \u001b[0mself\u001b[0m\u001b[0;34m.\u001b[0m\u001b[0m_mul_sparse_matrix\u001b[0m\u001b[0;34m(\u001b[0m\u001b[0mother\u001b[0m\u001b[0;34m)\u001b[0m\u001b[0;34m\u001b[0m\u001b[0;34m\u001b[0m\u001b[0m\n\u001b[0m\u001b[1;32m    542\u001b[0m \u001b[0;34m\u001b[0m\u001b[0m\n\u001b[1;32m    543\u001b[0m         \u001b[0;31m# If it's a list or whatever, treat it like a matrix\u001b[0m\u001b[0;34m\u001b[0m\u001b[0;34m\u001b[0m\u001b[0m\n",
            "\u001b[0;32m/usr/local/lib/python3.9/dist-packages/scipy/sparse/_compressed.py\u001b[0m in \u001b[0;36m_mul_sparse_matrix\u001b[0;34m(self, other)\u001b[0m\n\u001b[1;32m    516\u001b[0m \u001b[0;34m\u001b[0m\u001b[0m\n\u001b[1;32m    517\u001b[0m         \u001b[0mfn\u001b[0m \u001b[0;34m=\u001b[0m \u001b[0mgetattr\u001b[0m\u001b[0;34m(\u001b[0m\u001b[0m_sparsetools\u001b[0m\u001b[0;34m,\u001b[0m \u001b[0mself\u001b[0m\u001b[0;34m.\u001b[0m\u001b[0mformat\u001b[0m \u001b[0;34m+\u001b[0m \u001b[0;34m'_matmat_maxnnz'\u001b[0m\u001b[0;34m)\u001b[0m\u001b[0;34m\u001b[0m\u001b[0;34m\u001b[0m\u001b[0m\n\u001b[0;32m--> 518\u001b[0;31m         nnz = fn(M, N,\n\u001b[0m\u001b[1;32m    519\u001b[0m                  \u001b[0mnp\u001b[0m\u001b[0;34m.\u001b[0m\u001b[0masarray\u001b[0m\u001b[0;34m(\u001b[0m\u001b[0mself\u001b[0m\u001b[0;34m.\u001b[0m\u001b[0mindptr\u001b[0m\u001b[0;34m,\u001b[0m \u001b[0mdtype\u001b[0m\u001b[0;34m=\u001b[0m\u001b[0midx_dtype\u001b[0m\u001b[0;34m)\u001b[0m\u001b[0;34m,\u001b[0m\u001b[0;34m\u001b[0m\u001b[0;34m\u001b[0m\u001b[0m\n\u001b[1;32m    520\u001b[0m                  \u001b[0mnp\u001b[0m\u001b[0;34m.\u001b[0m\u001b[0masarray\u001b[0m\u001b[0;34m(\u001b[0m\u001b[0mself\u001b[0m\u001b[0;34m.\u001b[0m\u001b[0mindices\u001b[0m\u001b[0;34m,\u001b[0m \u001b[0mdtype\u001b[0m\u001b[0;34m=\u001b[0m\u001b[0midx_dtype\u001b[0m\u001b[0;34m)\u001b[0m\u001b[0;34m,\u001b[0m\u001b[0;34m\u001b[0m\u001b[0;34m\u001b[0m\u001b[0m\n",
            "\u001b[0;31mKeyboardInterrupt\u001b[0m: "
          ]
        }
      ],
      "source": [
        "model2 = GM_Error_Het(y1, X1, w)\n",
        "#"
      ]
    },
    {
      "cell_type": "code",
      "execution_count": null,
      "metadata": {
        "colab": {
          "background_save": true
        },
        "id": "q6Z1yB7cLr6m"
      },
      "outputs": [],
      "source": [
        "print(model2.summary)"
      ]
    },
    {
      "cell_type": "code",
      "execution_count": null,
      "metadata": {
        "colab": {
          "background_save": true
        },
        "id": "r__5Ai1tXpYf"
      },
      "outputs": [],
      "source": [
        "moran = esda.moran.Moran(df_['Morality_cardiovascular'], w)\n",
        "print(\"Moran's I:\", moran.I)"
      ]
    },
    {
      "cell_type": "code",
      "execution_count": null,
      "metadata": {
        "colab": {
          "background_save": true
        },
        "id": "6ewhITW_Xpcf"
      },
      "outputs": [],
      "source": []
    },
    {
      "cell_type": "code",
      "execution_count": null,
      "metadata": {
        "colab": {
          "background_save": true
        },
        "id": "ew9PLrob51eS"
      },
      "outputs": [],
      "source": [
        "df_d = pd.read_csv('/content/mydataset.csv')\n",
        "df_d"
      ]
    },
    {
      "cell_type": "code",
      "execution_count": null,
      "metadata": {
        "colab": {
          "background_save": true
        },
        "id": "d9Cm0NQ78ESu"
      },
      "outputs": [],
      "source": [
        "import numpy as np\n",
        "import pandas as pd\n",
        "import geopandas as gpd\n",
        "from shapely.geometry import Point\n",
        "from libpysal.weights import DistanceBand\n",
        "from spreg import GM_Error_Het\n",
        "import statsmodels.api as sm"
      ]
    },
    {
      "cell_type": "code",
      "execution_count": null,
      "metadata": {
        "colab": {
          "background_save": true
        },
        "id": "ha0z2s2r8H2m"
      },
      "outputs": [],
      "source": [
        "# OLS\n",
        "X = sm.add_constant(df_d[['BMI', 'Age', 'BloodPressure', 'Lipoprotiens']])\n",
        "y = df_d['Glucose_level']\n",
        "model = sm.OLS(y, X).fit()\n",
        "print(model.summary())"
      ]
    },
    {
      "cell_type": "code",
      "execution_count": null,
      "metadata": {
        "colab": {
          "background_save": true
        },
        "id": "Bvgjq8kO8LYW"
      },
      "outputs": [],
      "source": [
        "# create point geometries from (x,y) coordinates\n",
        "geometry = [Point(xy) for xy in zip(df_d.BMI, df_d.Age)]\n",
        "df_d['geometry'] = geometry\n",
        "\n"
      ]
    },
    {
      "cell_type": "code",
      "execution_count": null,
      "metadata": {
        "colab": {
          "background_save": true
        },
        "id": "ucm6I_-F8o48"
      },
      "outputs": [],
      "source": [
        "# create GeoDataFrame\n",
        "df_d = gpd.GeoDataFrame(df_d)\n",
        "\n"
      ]
    },
    {
      "cell_type": "code",
      "execution_count": null,
      "metadata": {
        "colab": {
          "background_save": true
        },
        "id": "JyTr9hqk803T"
      },
      "outputs": [],
      "source": [
        "# create spatial weights matrix\n",
        "distance = 10\n",
        "w = DistanceBand.from_dataframe(df_d, distance, binary=False)\n",
        "\n",
        "\n"
      ]
    },
    {
      "cell_type": "code",
      "execution_count": null,
      "metadata": {
        "colab": {
          "background_save": true
        },
        "id": "fdyMBs3_9AdQ"
      },
      "outputs": [],
      "source": [
        "dX = sm.add_constant(df_d[['BMI', 'Age', 'BloodPressure', 'Lipoprotiens']])\n",
        "dy = df_d['Glucose_level']\n",
        "# Convert to numpy arrays\n",
        "dy = np.array(dy)\n",
        "dX = np.array(dX)"
      ]
    },
    {
      "cell_type": "code",
      "execution_count": null,
      "metadata": {
        "colab": {
          "background_save": true
        },
        "id": "FINY78oL9uri"
      },
      "outputs": [],
      "source": [
        "model = GM_Error_Het(dy, dX, w)\n",
        "print(model.summary)"
      ]
    },
    {
      "cell_type": "code",
      "execution_count": null,
      "metadata": {
        "colab": {
          "background_save": true
        },
        "id": "wDATfeObkRTz"
      },
      "outputs": [],
      "source": [
        "# create point geometries from (x,y) coordinates\n",
        "geometry = [Point(xy) for xy in zip(Mortality_from_total_cardiovascular_diseases.DataValue, Mortality_from_total_cardiovascular_diseases.DataValueAlt)]\n",
        "Mortality_from_total_cardiovascular_diseases['geometry'] = geometry"
      ]
    },
    {
      "cell_type": "code",
      "execution_count": null,
      "metadata": {
        "colab": {
          "background_save": true
        },
        "id": "_HBeQo-Bl9Y8"
      },
      "outputs": [],
      "source": [
        "# create GeoDataFrame\n",
        "Mortality_from_total_cardiovascular_diseases = gpd.GeoDataFrame(Mortality_from_total_cardiovascular_diseases)\n",
        "\n",
        "# create spatial weights matrix\n",
        "distance = 10\n",
        "w = DistanceBand.from_dataframe(Mortality_from_total_cardiovascular_diseases, distance, binary=False)\n"
      ]
    },
    {
      "cell_type": "code",
      "execution_count": null,
      "metadata": {
        "colab": {
          "background_save": true
        },
        "id": "9VjIWM1koUas"
      },
      "outputs": [],
      "source": [
        "moran = esda.moran.Moran(Mortality_from_total_cardiovascular_diseases[\"DataValue\"], w)\n",
        "print(\"Moran's I:\", moran.I)"
      ]
    },
    {
      "cell_type": "code",
      "execution_count": null,
      "metadata": {
        "colab": {
          "background_save": true
        },
        "id": "O9x8PO4CpKPq"
      },
      "outputs": [],
      "source": [
        "\n",
        "import pysal"
      ]
    },
    {
      "cell_type": "code",
      "execution_count": null,
      "metadata": {
        "colab": {
          "background_save": true
        },
        "id": "_5x21UcmorMo"
      },
      "outputs": [],
      "source": [
        "# Print the results\n",
        "print(\"Moran's I:\", moran.I)\n",
        "print(\"p-value:\", moran.p_sim)"
      ]
    },
    {
      "cell_type": "code",
      "execution_count": null,
      "metadata": {
        "colab": {
          "background_save": true
        },
        "id": "v3aco2B4pDP5"
      },
      "outputs": [],
      "source": [
        "import matplotlib.pyplot as plt\n",
        "import pysal.viz.mapclassify as mc\n",
        "import pysal.lib as ps\n",
        "import splot.esda as es\n",
        "\n",
        "# Create a Moran scatterplot\n",
        "fig, ax = es.moran_scatterplot(moran, aspect_equal=True)\n",
        "\n",
        "# Add labels and styling\n",
        "ax.set_xlabel(\"Cardiovascular Disease Rate\")\n",
        "ax.set_ylabel(\"Spatial Lag of Cardiovascular Disease Rate\")\n",
        "ax.set_title(\"Moran Scatterplot\")\n",
        "\n",
        "plt.show()"
      ]
    },
    {
      "cell_type": "code",
      "execution_count": null,
      "metadata": {
        "colab": {
          "background_save": true
        },
        "id": "E3b0cW9Q9ipf"
      },
      "outputs": [],
      "source": [
        "df_c = pd.read_csv('/content/cardiovas.csv')\n",
        "df_c"
      ]
    },
    {
      "cell_type": "code",
      "execution_count": null,
      "metadata": {
        "colab": {
          "background_save": true
        },
        "id": "By8yalwVQohC"
      },
      "outputs": [],
      "source": []
    }
  ],
  "metadata": {
    "colab": {
      "provenance": [],
      "authorship_tag": "ABX9TyMVlTHfjAGxzivuSxpsMWqM",
      "include_colab_link": true
    },
    "kernelspec": {
      "display_name": "Python 3",
      "name": "python3"
    },
    "language_info": {
      "name": "python"
    }
  },
  "nbformat": 4,
  "nbformat_minor": 0
}